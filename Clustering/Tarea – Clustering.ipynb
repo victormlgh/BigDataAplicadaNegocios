{
 "cells": [
  {
   "cell_type": "markdown",
   "metadata": {},
   "source": [
    "# <center> Simulación caso de Negocio - Clustering </center>"
   ]
  },
  {
   "cell_type": "markdown",
   "metadata": {},
   "source": [
    "El objetivo de esta actividad es diseñar e implementar un modelo de Clustering en Python para la resolución de un problema en el que cuenta con variables numéricas y categóricas y en el que se busca fortalecer los conocimientos teóricos y prácticos de la aplicación de las técnicas de segmentación en los negocios. \n",
    "\n",
    "💡 _**Nota**_: _Este material ha sido preparado por la **Universidad de las Américas - UDLA**. Parte del contenido ha sido adaptado a partir de material público liberado en [Kaggle](http://kaggle.com), [Datacamp](http://datacamp.com) y otros sitios web._"
   ]
  },
  {
   "cell_type": "markdown",
   "metadata": {},
   "source": [
    "## Sobre la empresa\n",
    "\n",
    "El siguiente caso de negocio es tomado de una e-commerce con sede en el Reino Unido conocida como **ACORA Group** especializada en la comercialización de productos de consumo masivo a través de su tienda online. La empresa cuenta con operaciones en varios países y tiene planes de expansión a nivel regional."
   ]
  },
  {
   "cell_type": "markdown",
   "metadata": {},
   "source": [
    "## 1. Evaluación de necesidades del negocio\n",
    "La fase de evaluación del caso de negocio requiere que se cree, evalúe y apruebe un caso de negocio antes de proceder a las tareas reales de análisis práctico."
   ]
  },
  {
   "cell_type": "markdown",
   "metadata": {},
   "source": [
    "Uno de los desafíos que se ha planteado **ACORA Group** es segmentar sus clientes de manera que los esfuerzos comerciales de la empresa sean correctamente dirigidos en base a la misma información que genera la organización. "
   ]
  },
  {
   "cell_type": "markdown",
   "metadata": {},
   "source": [
    "# 2. Identificación de datos\n",
    "La etapa de identificación de datos consiste en identificar los conjuntos de datos necesarios para el proyecto de análisis y sus fuentes.\n"
   ]
  },
  {
   "cell_type": "markdown",
   "metadata": {
    "application/vnd.databricks.v1+cell": {
     "cellMetadata": {},
     "inputWidgets": {},
     "nuid": "a20fb359-f29e-4632-ade1-19357bf2a37e",
     "showTitle": false,
     "title": ""
    }
   },
   "source": [
    "**Dataset**"
   ]
  },
  {
   "cell_type": "markdown",
   "metadata": {},
   "source": [
    "Este conjunto de datos contiene la información referente a las transacciones de compra de todas las tiendas de los 3 últimos años. "
   ]
  },
  {
   "cell_type": "markdown",
   "metadata": {
    "application/vnd.databricks.v1+cell": {
     "cellMetadata": {},
     "inputWidgets": {},
     "nuid": "a20fb359-f29e-4632-ade1-19357bf2a37e",
     "showTitle": false,
     "title": ""
    }
   },
   "source": [
    "**Diccionario de datos**\n",
    "\n",
    " * `InvoiceNo`: número de factura\n",
    " * `StockCode`: código del producto\n",
    " * `Description`: nombre del producto\n",
    " * `Quantity`: cantidad comprada\n",
    " * `UnitPrice`: precio unitario del producto\n",
    " * `CustomerID`: código del cliente\n",
    " * `Country`: país donde se registró la compra"
   ]
  },
  {
   "cell_type": "markdown",
   "metadata": {
    "application/vnd.databricks.v1+cell": {
     "cellMetadata": {},
     "inputWidgets": {},
     "nuid": "a20fb359-f29e-4632-ade1-19357bf2a37e",
     "showTitle": false,
     "title": ""
    }
   },
   "source": [
    "# 3. Adquisición y filtrado de datos\n",
    "Durante la etapa de adquisición y filtrado de datos se recopilan los datos de todas las fuentes de datos que se identificaron durante la etapa Identificación de datos."
   ]
  },
  {
   "cell_type": "markdown",
   "metadata": {
    "application/vnd.databricks.v1+cell": {
     "cellMetadata": {},
     "inputWidgets": {},
     "nuid": "a20fb359-f29e-4632-ade1-19357bf2a37e",
     "showTitle": false,
     "title": ""
    }
   },
   "source": [
    "El conjunto de datos planteado contiene información más de 150.000 transacciones de compra. Todos los datos se han recogido a través de los registros de compra realizados por todos sus clientes dentro de la página web de la e-commerce."
   ]
  },
  {
   "cell_type": "markdown",
   "metadata": {
    "application/vnd.databricks.v1+cell": {
     "cellMetadata": {},
     "inputWidgets": {},
     "nuid": "689a6dbb-febb-46ff-ab8d-9742e93f266d",
     "showTitle": false,
     "title": ""
    }
   },
   "source": [
    "# 4. Extracción de datos\n",
    "Durante esta etapa se debe extraer datos dispares y transformarlos en un formato que pueda facilitar el análisis de datos. "
   ]
  },
  {
   "cell_type": "markdown",
   "metadata": {
    "application/vnd.databricks.v1+cell": {
     "cellMetadata": {},
     "inputWidgets": {},
     "nuid": "689a6dbb-febb-46ff-ab8d-9742e93f266d",
     "showTitle": false,
     "title": ""
    }
   },
   "source": [
    "**Importar librerías**\n",
    "```Python\n",
    "# Sintaxis general\n",
    "import modulo as alias\n",
    "- **modulo**: (módulo) librería a importar.\n",
    "- **alias**: alias con el nos referiremos a la libería. \n",
    "Ejemplo: \n",
    "  - Importamos la librería pandas:\n",
    "import pandas as pd\n",
    "```"
   ]
  },
  {
   "cell_type": "code",
   "execution_count": null,
   "metadata": {},
   "outputs": [],
   "source": []
  },
  {
   "cell_type": "markdown",
   "metadata": {
    "application/vnd.databricks.v1+cell": {
     "cellMetadata": {},
     "inputWidgets": {},
     "nuid": "ce755f55-0f62-4e21-ab5b-d1f25ba88e69",
     "showTitle": false,
     "title": ""
    }
   },
   "source": [
    "**Cargar el dataset**\n",
    "\n",
    "```Python\n",
    "Leemos un archivo usando el alias **pd**, luego punto **.**, y a seguir la función a utilizar **read_csv**.\n",
    "Ejemplo:\n",
    "df = pd.read_csv(\"data/nombre_archivo.csv\")\n",
    "```"
   ]
  },
  {
   "cell_type": "markdown",
   "metadata": {
    "application/vnd.databricks.v1+cell": {
     "cellMetadata": {},
     "inputWidgets": {},
     "nuid": "dd690e8a-cdfb-4bb3-bb3e-21e6bf942d5d",
     "showTitle": false,
     "title": ""
    }
   },
   "source": []
  },
  {
   "cell_type": "markdown",
   "metadata": {
    "application/vnd.databricks.v1+cell": {
     "cellMetadata": {},
     "inputWidgets": {},
     "nuid": "a20fb359-f29e-4632-ade1-19357bf2a37e",
     "showTitle": false,
     "title": ""
    }
   },
   "source": [
    "# 5.Validación y limpieza de datos\n",
    "Los datos no válidos pueden sesgar y falsear los resultados de los análisis. La etapa de validación y depuración de datos se enfoca en establecer reglas de validación a menudo complejas y a eliminar cualquier dato no válido conocido."
   ]
  },
  {
   "cell_type": "markdown",
   "metadata": {
    "application/vnd.databricks.v1+cell": {
     "cellMetadata": {},
     "inputWidgets": {},
     "nuid": "870a6019-a0d6-4b63-9547-72930ce42883",
     "showTitle": false,
     "title": ""
    }
   },
   "source": [
    "**EDA - Análisis exploratorio de datos**"
   ]
  },
  {
   "cell_type": "code",
   "execution_count": null,
   "metadata": {
    "application/vnd.databricks.v1+cell": {
     "cellMetadata": {},
     "inputWidgets": {},
     "nuid": "afa6e0b5-e3b8-4a8d-b67d-f01055f25124",
     "showTitle": false,
     "title": ""
    }
   },
   "outputs": [],
   "source": [
    "# Identificar el tamaño del dataset\n"
   ]
  },
  {
   "cell_type": "code",
   "execution_count": 4,
   "metadata": {
    "application/vnd.databricks.v1+cell": {
     "cellMetadata": {},
     "inputWidgets": {},
     "nuid": "afa6e0b5-e3b8-4a8d-b67d-f01055f25124",
     "showTitle": false,
     "title": ""
    }
   },
   "outputs": [],
   "source": [
    "# Indentificar el número de transacciones\n"
   ]
  },
  {
   "cell_type": "code",
   "execution_count": 4,
   "metadata": {
    "application/vnd.databricks.v1+cell": {
     "cellMetadata": {},
     "inputWidgets": {},
     "nuid": "afa6e0b5-e3b8-4a8d-b67d-f01055f25124",
     "showTitle": false,
     "title": ""
    }
   },
   "outputs": [],
   "source": [
    "# Indentificar el número de productos\n"
   ]
  },
  {
   "cell_type": "markdown",
   "metadata": {
    "application/vnd.databricks.v1+cell": {
     "cellMetadata": {},
     "inputWidgets": {},
     "nuid": "870a6019-a0d6-4b63-9547-72930ce42883",
     "showTitle": false,
     "title": ""
    }
   },
   "source": [
    "**Limpieza de datos**"
   ]
  },
  {
   "cell_type": "code",
   "execution_count": 4,
   "metadata": {
    "application/vnd.databricks.v1+cell": {
     "cellMetadata": {},
     "inputWidgets": {},
     "nuid": "afa6e0b5-e3b8-4a8d-b67d-f01055f25124",
     "showTitle": false,
     "title": ""
    }
   },
   "outputs": [],
   "source": [
    "# Identificar si existen datos perdidos (NA, Nulls, etc.)\n"
   ]
  },
  {
   "cell_type": "code",
   "execution_count": 4,
   "metadata": {
    "application/vnd.databricks.v1+cell": {
     "cellMetadata": {},
     "inputWidgets": {},
     "nuid": "afa6e0b5-e3b8-4a8d-b67d-f01055f25124",
     "showTitle": false,
     "title": ""
    }
   },
   "outputs": [],
   "source": [
    "# Eliminar datos perdidos (NA, Nulls, etc.)\n"
   ]
  },
  {
   "cell_type": "markdown",
   "metadata": {
    "application/vnd.databricks.v1+cell": {
     "cellMetadata": {},
     "inputWidgets": {},
     "nuid": "870a6019-a0d6-4b63-9547-72930ce42883",
     "showTitle": false,
     "title": ""
    }
   },
   "source": [
    "**Transformación de datos**"
   ]
  },
  {
   "cell_type": "code",
   "execution_count": 6,
   "metadata": {
    "application/vnd.databricks.v1+cell": {
     "cellMetadata": {},
     "inputWidgets": {},
     "nuid": "afa6e0b5-e3b8-4a8d-b67d-f01055f25124",
     "showTitle": false,
     "title": ""
    }
   },
   "outputs": [],
   "source": [
    "# Calcular el valor total (cantidad * precio unitario)\n"
   ]
  },
  {
   "cell_type": "code",
   "execution_count": 6,
   "metadata": {
    "application/vnd.databricks.v1+cell": {
     "cellMetadata": {},
     "inputWidgets": {},
     "nuid": "afa6e0b5-e3b8-4a8d-b67d-f01055f25124",
     "showTitle": false,
     "title": ""
    }
   },
   "outputs": [],
   "source": [
    "# Calcular el promedio y la suma del gasto total por cliente y el número de compras realizadas (agrupar por cliente)\n"
   ]
  },
  {
   "cell_type": "markdown",
   "metadata": {
    "application/vnd.databricks.v1+cell": {
     "cellMetadata": {},
     "inputWidgets": {},
     "nuid": "5ab95bea-937b-410e-94f1-5b68096b9f42",
     "showTitle": false,
     "title": ""
    }
   },
   "source": [
    "# 6. Agregación y representación de datos\n",
    "La etapa de agregación y representación de datos, se dedica a integrar múltiples conjuntos de datos para obtener una visión unificada."
   ]
  },
  {
   "cell_type": "code",
   "execution_count": 7,
   "metadata": {},
   "outputs": [],
   "source": [
    "# Evaluar si se requiere integrar otros datos para el análisis. \n"
   ]
  },
  {
   "cell_type": "markdown",
   "metadata": {
    "application/vnd.databricks.v1+cell": {
     "cellMetadata": {},
     "inputWidgets": {},
     "nuid": "5ab95bea-937b-410e-94f1-5b68096b9f42",
     "showTitle": false,
     "title": ""
    }
   },
   "source": [
    "# 7. Análisis de datos\n",
    "La etapa de análisis de datos se enfoca en llevar a cabo la tarea de análisis propiamente dicha, que suele implicar uno o más tipos de análisis"
   ]
  },
  {
   "cell_type": "markdown",
   "metadata": {},
   "source": [
    "## Implementación modelo K-means"
   ]
  },
  {
   "cell_type": "markdown",
   "metadata": {},
   "source": [
    "En esta sección se debe aplicar métodos de Clustering que te permitan definir el número adecuado de grupos en los que se va a dividir los datos. Se solicita usar el **método del codo** (elbow method) y el método **análisis de la silueta**.\n",
    "\n",
    "⚠️ **Consideraciones:** Tomar en cuenta que una mala elección del número de Clusters podría generar pocos Clusters con datos muy heterogéneos o muchos Clusters con datos muy similares."
   ]
  },
  {
   "cell_type": "markdown",
   "metadata": {},
   "source": [
    "**Método del codo (Elbow Method)**"
   ]
  },
  {
   "cell_type": "code",
   "execution_count": 8,
   "metadata": {},
   "outputs": [],
   "source": [
    "# Aplicar el método del codo\n"
   ]
  },
  {
   "cell_type": "markdown",
   "metadata": {},
   "source": [
    "**Método de la silueta**"
   ]
  },
  {
   "cell_type": "code",
   "execution_count": 1,
   "metadata": {},
   "outputs": [],
   "source": [
    "# Aplicar el método de la silueta\n"
   ]
  },
  {
   "cell_type": "markdown",
   "metadata": {},
   "source": [
    "### Entrenamiento del modelo K-means"
   ]
  },
  {
   "cell_type": "code",
   "execution_count": null,
   "metadata": {},
   "outputs": [],
   "source": [
    "# Entrenamiento del modelo con el número de clústers óptimo\n"
   ]
  },
  {
   "cell_type": "code",
   "execution_count": null,
   "metadata": {},
   "outputs": [],
   "source": [
    "# Imprimir los centroides de cada clúster\n"
   ]
  },
  {
   "cell_type": "markdown",
   "metadata": {},
   "source": [
    "# 8. Visualización de datos\n",
    "La capacidad de analizar grandes cantidades de datos y obtener información útil tiene poco valor si los únicos que pueden interpretar los resultados son los analistas.\n",
    "La etapa de visualización de datos se dedica a utilizar técnicas y herramientas de visualización de datos para comunicar gráficamente los resultados del análisis con vistas a una interpretación eficaz por parte de los usuarios empresariales."
   ]
  },
  {
   "cell_type": "code",
   "execution_count": 12,
   "metadata": {},
   "outputs": [],
   "source": [
    "# Graficar la distribución de clientes por clúster\n"
   ]
  },
  {
   "cell_type": "markdown",
   "metadata": {},
   "source": [
    "# 9. Utilización de los resultados del análisis\n",
    "Después de que los resultados del análisis se pongan a disposición de los usuarios de negocio para apoyar la toma de decisiones empresariales, por ejemplo a través de cuadros de mando o paneles, puede haber más oportunidades para utilizar los resultados del análisis. La etapa de utilización de los resultados del análisis, esta enfocada en determinar cómo y dónde se pueden aprovechar más los datos del análisis procesado."
   ]
  },
  {
   "cell_type": "code",
   "execution_count": null,
   "metadata": {},
   "outputs": [],
   "source": [
    "# Haga un breve análisis de los hallazgos \n"
   ]
  },
  {
   "cell_type": "code",
   "execution_count": null,
   "metadata": {},
   "outputs": [],
   "source": [
    "# Detalle sus conclusiones sobre el modelo obtenido\n"
   ]
  },
  {
   "cell_type": "code",
   "execution_count": null,
   "metadata": {},
   "outputs": [],
   "source": [
    "# Qué acciones sugerería a los directivos de la empresa?\n"
   ]
  }
 ],
 "metadata": {
  "application/vnd.databricks.v1+notebook": {
   "dashboards": [],
   "language": "python",
   "notebookMetadata": {
    "mostRecentlyExecutedCommandWithImplicitDF": {
     "commandId": 1676219506020237,
     "dataframes": [
      "_sqldf"
     ]
    },
    "pythonIndentUnit": 2
   },
   "notebookName": "01 Segmentación K-means",
   "notebookOrigID": 1676219506020198,
   "widgets": {}
  },
  "kernelspec": {
   "display_name": "Python 3 (ipykernel)",
   "language": "python",
   "name": "python3"
  },
  "language_info": {
   "codemirror_mode": {
    "name": "ipython",
    "version": 3
   },
   "file_extension": ".py",
   "mimetype": "text/x-python",
   "name": "python",
   "nbconvert_exporter": "python",
   "pygments_lexer": "ipython3",
   "version": "3.10.9"
  }
 },
 "nbformat": 4,
 "nbformat_minor": 4
}
