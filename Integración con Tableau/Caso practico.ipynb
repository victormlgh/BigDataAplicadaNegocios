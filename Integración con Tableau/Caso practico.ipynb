{
 "cells": [
  {
   "cell_type": "markdown",
   "id": "opponent-joining",
   "metadata": {
    "papermill": {
     "duration": 0.048834,
     "end_time": "2021-04-09T12:39:08.034355",
     "exception": false,
     "start_time": "2021-04-09T12:39:07.985521",
     "status": "completed"
    },
    "tags": []
   },
   "source": [
    "# <center> Unidad 8: Análisis de datos con Tableau</center>"
   ]
  },
  {
   "cell_type": "markdown",
   "id": "tight-appendix",
   "metadata": {
    "papermill": {
     "duration": 0.046166,
     "end_time": "2021-04-09T12:39:08.127959",
     "exception": false,
     "start_time": "2021-04-09T12:39:08.081793",
     "status": "completed"
    },
    "tags": []
   },
   "source": [
    "## Introdución\n",
    "En esta lección realizaremos análisis de datos combinando la técnica de **árboles de decisión** y visualización de datos con **Tableau**."
   ]
  },
  {
   "cell_type": "markdown",
   "id": "2471f894",
   "metadata": {
    "papermill": {
     "duration": 0.046166,
     "end_time": "2021-04-09T12:39:08.127959",
     "exception": false,
     "start_time": "2021-04-09T12:39:08.081793",
     "status": "completed"
    },
    "tags": []
   },
   "source": [
    "## Árboles de decisión\n",
    "Los **árboles de decisión** son un método de análisis que se utiliza en diversas áreas, como la medicina, los negocios, la estadística, la ingeniería y la inteligencia artificial, para tomar decisiones informadas basadas en múltiples opciones y posibles resultados. Un árbol de decisión se representa gráficamente como una estructura jerárquica de nodos, donde cada nodo representa una decisión a tomar y cada rama representa una posible consecuencia de esa decisión.\n",
    "\n",
    "En Big Data, **los árboles de decisión** son un algoritmo de aprendizaje supervisado no paramétrico que se utiliza para tareas de clasificación y regresión. Su estructura jerárquica se compone de un nodo raíz, ramas, nodos internos y nodos hoja.\n",
    "\n",
    "\n",
    "Los **árboles de decisión** son modelos predictivos formados por reglas binarias (si/no) con las que se consigue repartir las observaciones en función de sus atributos y predecir así el valor de la variable respuesta.\n",
    "\n",
    "Los métodos basados en árboles se han convertido en uno de los referentes dentro del ámbito predictivo debido a los buenos resultados que generan en problemas muy diversos. A lo largo de este documento se explora la forma en que se construyen y predicen los árboles de decisión (clasificación y regresión), elementos fundamentales de modelos predictivos más complejos como **Random Forest** y **Gradient Boosting Machine**.\n",
    "\n",
    "\n",
    "En general, los **árboles de decisión** son una herramienta visual que ayuda a comprender mejor las opciones disponibles y los posibles resultados de cada acción, lo que permite una toma de decisiones más informada y precisa. Algunas de las ventajas de utilizar árboles de decisión incluyen su capacidad para manejar grandes cantidades de datos y su facilidad de interpretación."
   ]
  },
  {
   "cell_type": "markdown",
   "id": "cf105020",
   "metadata": {},
   "source": [
    "# Caso práctico\n",
    "\n",
    "Este material expande el marco inicial de la temática en un contexto del análisis y resolución de un caso práctico con Python y Tableau. Tiene por objetivo fortalecer los conocimientos teóricos y prácticos de visualización de datos que permitan resumir datos complejos para la toma de decisiones.\n",
    "\n",
    "💡 _**Nota**_: _Este material ha sido preparado por la **Universidad de las Américas - UDLA**. Parte del contenido ha sido adaptado a partir de material público liberado en [Kaggle](kaggle.com), [Datacamp](datacamp.com) y otros sitios web._"
   ]
  },
  {
   "cell_type": "markdown",
   "id": "f1b89740",
   "metadata": {},
   "source": [
    "## Sobre la empresa\n",
    "\n",
    "**Claro** es un conglomerado mexicano de servicios de telecomunicaciones, entretenimiento, servicios en la nube, streaming y comercio electrónico presente en América Latina, de propiedad de la empresa mexicana **América Móvil**. La marca fue creada y lanzada por primera vez el 17 de septiembre de 2003 en Brasil, a partir de la fusión de varios operadores telefónicos de ese país pertenecientes a América Móvil. En 2005,**América Móvil** anunció la expansión de la marca a otros países de América Latina.\n",
    "\n",
    "**Claro** cuenta con presencia en 15 países del continente, con cerca de 262 millones de clientes inalámbricos, 30 millones de líneas fijas, 17 millones de accesos de banda ancha y 16 millones de abonados de televisión por cable."
   ]
  },
  {
   "cell_type": "markdown",
   "id": "041c87f8",
   "metadata": {},
   "source": [
    "# 1. Evaluación de necesidades del negocio\n",
    "La fase de evaluación del caso de negocio requiere que se cree, evalúe y apruebe un caso de negocio antes de proceder a las tareas reales de análisis práctico.\n"
   ]
  },
  {
   "cell_type": "markdown",
   "id": "fd67ac53",
   "metadata": {},
   "source": [
    "Este caso de negocio muestra una aplicación de un modelo Churn para **Claro** de Chile.\n",
    "Para ello se utilizan metodologías como: **árboles de decisión**, **Random Forest** y **XGBoost** para identificar los perfiles de clientes fugados. La base de datos incluyó variables socio demográficas, productos contratados, Cargos mensuales, entre otros. La información obtenida permitiría proponer planes de acción para disminuir la fuga a través de actividades de capacitación y promoción y publicidad."
   ]
  },
  {
   "cell_type": "markdown",
   "id": "176668b3",
   "metadata": {},
   "source": [
    "# 2. Identificación de datos\n",
    "La etapa de identificación de datos consiste en identificar los conjuntos de datos necesarios para el proyecto de análisis y sus fuentes.\n"
   ]
  },
  {
   "cell_type": "markdown",
   "id": "65c296a7",
   "metadata": {},
   "source": [
    "**Dataset** \n",
    "\n",
    "El dataset consta de 22 variables y aproximadamente 5.900 registros. Este conjunto de datos contiene distintas variables que explican los atributos del sector de las telecomunicaciones y diversos factores que se consideran importantes a la hora de tratar con clientes de este sector. La variable objetivo es la variable **Churn**, que explica si el cliente cambiará de proveedor o no. Podemos utilizar este conjunto de datos para predecir los clientes que abandonarán o no en función de las distintas variables disponibles."
   ]
  },
  {
   "cell_type": "markdown",
   "id": "8145f09e",
   "metadata": {},
   "source": [
    "**Diccionario de datos**\n",
    "\n",
    "* customerID        \n",
    "* gender            \n",
    "* SeniorCitizen      \n",
    "* Partner            \n",
    "* Dependents        \n",
    "* tenure           \n",
    "* PhoneService     \n",
    "* MultipleLines      \n",
    "* InternetService   \n",
    "* OnlineSecurity    \n",
    "* OnlineBackup       \n",
    "* DeviceProtection  \n",
    "* TechSupport     \n",
    "* StreamingTV       \n",
    "* StreamingMovies   \n",
    "* Contract          \n",
    "* PaperlessBilling  \n",
    "* PaymentMethod     \n",
    "* MonthlyCharges    \n",
    "* TotalCharges     \n",
    "* Churn "
   ]
  },
  {
   "cell_type": "markdown",
   "id": "e66165d0",
   "metadata": {},
   "source": [
    "# 4. Extracción de datos\n",
    "Durante esta etapa se debe extraer datos dispares y transformarlos en un formato que pueda facilitar el análisis de datos. "
   ]
  },
  {
   "cell_type": "markdown",
   "id": "c91681e1",
   "metadata": {
    "papermill": {
     "duration": 0.046313,
     "end_time": "2021-04-09T12:39:08.498570",
     "exception": false,
     "start_time": "2021-04-09T12:39:08.452257",
     "status": "completed"
    },
    "tags": []
   },
   "source": [
    "**Instalar librerías**"
   ]
  },
  {
   "cell_type": "code",
   "execution_count": 33,
   "id": "d5a57e32",
   "metadata": {},
   "outputs": [],
   "source": [
    "#pip install tensorflow\n",
    "#pip install eli5"
   ]
  },
  {
   "cell_type": "markdown",
   "id": "8e66f3e1",
   "metadata": {
    "papermill": {
     "duration": 0.046313,
     "end_time": "2021-04-09T12:39:08.498570",
     "exception": false,
     "start_time": "2021-04-09T12:39:08.452257",
     "status": "completed"
    },
    "tags": []
   },
   "source": [
    "**Importar librerías y módulos específicos de librerías**"
   ]
  },
  {
   "cell_type": "code",
   "execution_count": 32,
   "id": "6b8ddb6e",
   "metadata": {},
   "outputs": [
    {
     "data": {
      "text/html": [
       "        <script type=\"text/javascript\">\n",
       "        window.PlotlyConfig = {MathJaxConfig: 'local'};\n",
       "        if (window.MathJax && window.MathJax.Hub && window.MathJax.Hub.Config) {window.MathJax.Hub.Config({SVG: {font: \"STIX-Web\"}});}\n",
       "        if (typeof require !== 'undefined') {\n",
       "        require.undef(\"plotly\");\n",
       "        requirejs.config({\n",
       "            paths: {\n",
       "                'plotly': ['https://cdn.plot.ly/plotly-2.12.1.min']\n",
       "            }\n",
       "        });\n",
       "        require(['plotly'], function(Plotly) {\n",
       "            window._Plotly = Plotly;\n",
       "        });\n",
       "        }\n",
       "        </script>\n",
       "        "
      ]
     },
     "metadata": {},
     "output_type": "display_data"
    }
   ],
   "source": [
    "import numpy as np \n",
    "import pandas as pd \n",
    "import matplotlib.pyplot as plt\n",
    "import seaborn as sns\n",
    "import plotly.express as px\n",
    "from IPython.core.display import display, HTML, Javascript\n",
    "from sklearn.preprocessing import StandardScaler\n",
    "from imblearn.over_sampling import SMOTE\n",
    "import tensorflow as tf\n",
    "from tensorflow.keras.models import Sequential\n",
    "from tensorflow.keras.layers import Dense, Activation, Dropout\n",
    "from tensorflow.keras.callbacks import EarlyStopping\n",
    "from sklearn import metrics\n",
    "import eli5\n",
    "from eli5.sklearn import PermutationImportance\n",
    "from plotly.offline import download_plotlyjs,init_notebook_mode\n",
    "init_notebook_mode(connected=True)\n",
    "import warnings\n",
    "warnings.filterwarnings(\"ignore\")"
   ]
  },
  {
   "cell_type": "markdown",
   "id": "fdba1181",
   "metadata": {},
   "source": [
    "**Cargar el dataset**"
   ]
  },
  {
   "cell_type": "code",
   "execution_count": 123,
   "id": "859df1d2",
   "metadata": {},
   "outputs": [
    {
     "data": {
      "text/html": [
       "<div>\n",
       "<style scoped>\n",
       "    .dataframe tbody tr th:only-of-type {\n",
       "        vertical-align: middle;\n",
       "    }\n",
       "\n",
       "    .dataframe tbody tr th {\n",
       "        vertical-align: top;\n",
       "    }\n",
       "\n",
       "    .dataframe thead th {\n",
       "        text-align: right;\n",
       "    }\n",
       "</style>\n",
       "<table border=\"1\" class=\"dataframe\">\n",
       "  <thead>\n",
       "    <tr style=\"text-align: right;\">\n",
       "      <th></th>\n",
       "      <th>Unnamed: 0</th>\n",
       "      <th>customerID</th>\n",
       "      <th>gender</th>\n",
       "      <th>SeniorCitizen</th>\n",
       "      <th>Partner</th>\n",
       "      <th>Dependents</th>\n",
       "      <th>tenure</th>\n",
       "      <th>PhoneService</th>\n",
       "      <th>MultipleLines</th>\n",
       "      <th>InternetService</th>\n",
       "      <th>...</th>\n",
       "      <th>DeviceProtection</th>\n",
       "      <th>TechSupport</th>\n",
       "      <th>StreamingTV</th>\n",
       "      <th>StreamingMovies</th>\n",
       "      <th>Contract</th>\n",
       "      <th>PaperlessBilling</th>\n",
       "      <th>PaymentMethod</th>\n",
       "      <th>MonthlyCharges</th>\n",
       "      <th>TotalCharges</th>\n",
       "      <th>Churn</th>\n",
       "    </tr>\n",
       "  </thead>\n",
       "  <tbody>\n",
       "    <tr>\n",
       "      <th>0</th>\n",
       "      <td>1869</td>\n",
       "      <td>7010-BRBUU</td>\n",
       "      <td>Male</td>\n",
       "      <td>0</td>\n",
       "      <td>Yes</td>\n",
       "      <td>Yes</td>\n",
       "      <td>72</td>\n",
       "      <td>Yes</td>\n",
       "      <td>Yes</td>\n",
       "      <td>No</td>\n",
       "      <td>...</td>\n",
       "      <td>No internet service</td>\n",
       "      <td>No internet service</td>\n",
       "      <td>No internet service</td>\n",
       "      <td>No internet service</td>\n",
       "      <td>Two year</td>\n",
       "      <td>No</td>\n",
       "      <td>Credit card (automatic)</td>\n",
       "      <td>24.10</td>\n",
       "      <td>1734.65</td>\n",
       "      <td>No</td>\n",
       "    </tr>\n",
       "    <tr>\n",
       "      <th>1</th>\n",
       "      <td>4528</td>\n",
       "      <td>9688-YGXVR</td>\n",
       "      <td>Female</td>\n",
       "      <td>0</td>\n",
       "      <td>No</td>\n",
       "      <td>No</td>\n",
       "      <td>44</td>\n",
       "      <td>Yes</td>\n",
       "      <td>No</td>\n",
       "      <td>Fiber optic</td>\n",
       "      <td>...</td>\n",
       "      <td>Yes</td>\n",
       "      <td>No</td>\n",
       "      <td>Yes</td>\n",
       "      <td>No</td>\n",
       "      <td>Month-to-month</td>\n",
       "      <td>Yes</td>\n",
       "      <td>Credit card (automatic)</td>\n",
       "      <td>88.15</td>\n",
       "      <td>3973.2</td>\n",
       "      <td>No</td>\n",
       "    </tr>\n",
       "    <tr>\n",
       "      <th>2</th>\n",
       "      <td>6344</td>\n",
       "      <td>9286-DOJGF</td>\n",
       "      <td>Female</td>\n",
       "      <td>1</td>\n",
       "      <td>Yes</td>\n",
       "      <td>No</td>\n",
       "      <td>38</td>\n",
       "      <td>Yes</td>\n",
       "      <td>Yes</td>\n",
       "      <td>Fiber optic</td>\n",
       "      <td>...</td>\n",
       "      <td>No</td>\n",
       "      <td>No</td>\n",
       "      <td>No</td>\n",
       "      <td>No</td>\n",
       "      <td>Month-to-month</td>\n",
       "      <td>Yes</td>\n",
       "      <td>Bank transfer (automatic)</td>\n",
       "      <td>74.95</td>\n",
       "      <td>2869.85</td>\n",
       "      <td>Yes</td>\n",
       "    </tr>\n",
       "    <tr>\n",
       "      <th>3</th>\n",
       "      <td>6739</td>\n",
       "      <td>6994-KERXL</td>\n",
       "      <td>Male</td>\n",
       "      <td>0</td>\n",
       "      <td>No</td>\n",
       "      <td>No</td>\n",
       "      <td>4</td>\n",
       "      <td>Yes</td>\n",
       "      <td>No</td>\n",
       "      <td>DSL</td>\n",
       "      <td>...</td>\n",
       "      <td>No</td>\n",
       "      <td>No</td>\n",
       "      <td>No</td>\n",
       "      <td>Yes</td>\n",
       "      <td>Month-to-month</td>\n",
       "      <td>Yes</td>\n",
       "      <td>Electronic check</td>\n",
       "      <td>55.90</td>\n",
       "      <td>238.5</td>\n",
       "      <td>No</td>\n",
       "    </tr>\n",
       "    <tr>\n",
       "      <th>4</th>\n",
       "      <td>432</td>\n",
       "      <td>2181-UAESM</td>\n",
       "      <td>Male</td>\n",
       "      <td>0</td>\n",
       "      <td>No</td>\n",
       "      <td>No</td>\n",
       "      <td>2</td>\n",
       "      <td>Yes</td>\n",
       "      <td>No</td>\n",
       "      <td>DSL</td>\n",
       "      <td>...</td>\n",
       "      <td>Yes</td>\n",
       "      <td>No</td>\n",
       "      <td>No</td>\n",
       "      <td>No</td>\n",
       "      <td>Month-to-month</td>\n",
       "      <td>No</td>\n",
       "      <td>Electronic check</td>\n",
       "      <td>53.45</td>\n",
       "      <td>119.5</td>\n",
       "      <td>No</td>\n",
       "    </tr>\n",
       "    <tr>\n",
       "      <th>...</th>\n",
       "      <td>...</td>\n",
       "      <td>...</td>\n",
       "      <td>...</td>\n",
       "      <td>...</td>\n",
       "      <td>...</td>\n",
       "      <td>...</td>\n",
       "      <td>...</td>\n",
       "      <td>...</td>\n",
       "      <td>...</td>\n",
       "      <td>...</td>\n",
       "      <td>...</td>\n",
       "      <td>...</td>\n",
       "      <td>...</td>\n",
       "      <td>...</td>\n",
       "      <td>...</td>\n",
       "      <td>...</td>\n",
       "      <td>...</td>\n",
       "      <td>...</td>\n",
       "      <td>...</td>\n",
       "      <td>...</td>\n",
       "      <td>...</td>\n",
       "    </tr>\n",
       "    <tr>\n",
       "      <th>5981</th>\n",
       "      <td>3772</td>\n",
       "      <td>0684-AOSIH</td>\n",
       "      <td>Male</td>\n",
       "      <td>0</td>\n",
       "      <td>Yes</td>\n",
       "      <td>No</td>\n",
       "      <td>1</td>\n",
       "      <td>Yes</td>\n",
       "      <td>No</td>\n",
       "      <td>Fiber optic</td>\n",
       "      <td>...</td>\n",
       "      <td>No</td>\n",
       "      <td>No</td>\n",
       "      <td>Yes</td>\n",
       "      <td>Yes</td>\n",
       "      <td>Month-to-month</td>\n",
       "      <td>Yes</td>\n",
       "      <td>Electronic check</td>\n",
       "      <td>95.00</td>\n",
       "      <td>95</td>\n",
       "      <td>Yes</td>\n",
       "    </tr>\n",
       "    <tr>\n",
       "      <th>5982</th>\n",
       "      <td>5191</td>\n",
       "      <td>5982-PSMKW</td>\n",
       "      <td>Female</td>\n",
       "      <td>0</td>\n",
       "      <td>Yes</td>\n",
       "      <td>Yes</td>\n",
       "      <td>23</td>\n",
       "      <td>Yes</td>\n",
       "      <td>Yes</td>\n",
       "      <td>DSL</td>\n",
       "      <td>...</td>\n",
       "      <td>Yes</td>\n",
       "      <td>Yes</td>\n",
       "      <td>Yes</td>\n",
       "      <td>Yes</td>\n",
       "      <td>Two year</td>\n",
       "      <td>Yes</td>\n",
       "      <td>Credit card (automatic)</td>\n",
       "      <td>91.10</td>\n",
       "      <td>2198.3</td>\n",
       "      <td>No</td>\n",
       "    </tr>\n",
       "    <tr>\n",
       "      <th>5983</th>\n",
       "      <td>5226</td>\n",
       "      <td>8044-BGWPI</td>\n",
       "      <td>Male</td>\n",
       "      <td>0</td>\n",
       "      <td>Yes</td>\n",
       "      <td>Yes</td>\n",
       "      <td>12</td>\n",
       "      <td>Yes</td>\n",
       "      <td>No</td>\n",
       "      <td>No</td>\n",
       "      <td>...</td>\n",
       "      <td>No internet service</td>\n",
       "      <td>No internet service</td>\n",
       "      <td>No internet service</td>\n",
       "      <td>No internet service</td>\n",
       "      <td>Month-to-month</td>\n",
       "      <td>Yes</td>\n",
       "      <td>Electronic check</td>\n",
       "      <td>21.15</td>\n",
       "      <td>306.05</td>\n",
       "      <td>No</td>\n",
       "    </tr>\n",
       "    <tr>\n",
       "      <th>5984</th>\n",
       "      <td>5390</td>\n",
       "      <td>7450-NWRTR</td>\n",
       "      <td>Male</td>\n",
       "      <td>1</td>\n",
       "      <td>No</td>\n",
       "      <td>No</td>\n",
       "      <td>12</td>\n",
       "      <td>Yes</td>\n",
       "      <td>Yes</td>\n",
       "      <td>Fiber optic</td>\n",
       "      <td>...</td>\n",
       "      <td>Yes</td>\n",
       "      <td>No</td>\n",
       "      <td>Yes</td>\n",
       "      <td>Yes</td>\n",
       "      <td>Month-to-month</td>\n",
       "      <td>Yes</td>\n",
       "      <td>Electronic check</td>\n",
       "      <td>99.45</td>\n",
       "      <td>1200.15</td>\n",
       "      <td>Yes</td>\n",
       "    </tr>\n",
       "    <tr>\n",
       "      <th>5985</th>\n",
       "      <td>860</td>\n",
       "      <td>4795-UXVCJ</td>\n",
       "      <td>Male</td>\n",
       "      <td>0</td>\n",
       "      <td>No</td>\n",
       "      <td>No</td>\n",
       "      <td>26</td>\n",
       "      <td>Yes</td>\n",
       "      <td>No</td>\n",
       "      <td>No</td>\n",
       "      <td>...</td>\n",
       "      <td>No internet service</td>\n",
       "      <td>No internet service</td>\n",
       "      <td>No internet service</td>\n",
       "      <td>No internet service</td>\n",
       "      <td>One year</td>\n",
       "      <td>No</td>\n",
       "      <td>Credit card (automatic)</td>\n",
       "      <td>19.80</td>\n",
       "      <td>457.3</td>\n",
       "      <td>No</td>\n",
       "    </tr>\n",
       "  </tbody>\n",
       "</table>\n",
       "<p>5986 rows × 22 columns</p>\n",
       "</div>"
      ],
      "text/plain": [
       "      Unnamed: 0  customerID  gender  SeniorCitizen Partner Dependents  \\\n",
       "0           1869  7010-BRBUU    Male              0     Yes        Yes   \n",
       "1           4528  9688-YGXVR  Female              0      No         No   \n",
       "2           6344  9286-DOJGF  Female              1     Yes         No   \n",
       "3           6739  6994-KERXL    Male              0      No         No   \n",
       "4            432  2181-UAESM    Male              0      No         No   \n",
       "...          ...         ...     ...            ...     ...        ...   \n",
       "5981        3772  0684-AOSIH    Male              0     Yes         No   \n",
       "5982        5191  5982-PSMKW  Female              0     Yes        Yes   \n",
       "5983        5226  8044-BGWPI    Male              0     Yes        Yes   \n",
       "5984        5390  7450-NWRTR    Male              1      No         No   \n",
       "5985         860  4795-UXVCJ    Male              0      No         No   \n",
       "\n",
       "      tenure PhoneService MultipleLines InternetService  ...  \\\n",
       "0         72          Yes           Yes              No  ...   \n",
       "1         44          Yes            No     Fiber optic  ...   \n",
       "2         38          Yes           Yes     Fiber optic  ...   \n",
       "3          4          Yes            No             DSL  ...   \n",
       "4          2          Yes            No             DSL  ...   \n",
       "...      ...          ...           ...             ...  ...   \n",
       "5981       1          Yes            No     Fiber optic  ...   \n",
       "5982      23          Yes           Yes             DSL  ...   \n",
       "5983      12          Yes            No              No  ...   \n",
       "5984      12          Yes           Yes     Fiber optic  ...   \n",
       "5985      26          Yes            No              No  ...   \n",
       "\n",
       "         DeviceProtection          TechSupport          StreamingTV  \\\n",
       "0     No internet service  No internet service  No internet service   \n",
       "1                     Yes                   No                  Yes   \n",
       "2                      No                   No                   No   \n",
       "3                      No                   No                   No   \n",
       "4                     Yes                   No                   No   \n",
       "...                   ...                  ...                  ...   \n",
       "5981                   No                   No                  Yes   \n",
       "5982                  Yes                  Yes                  Yes   \n",
       "5983  No internet service  No internet service  No internet service   \n",
       "5984                  Yes                   No                  Yes   \n",
       "5985  No internet service  No internet service  No internet service   \n",
       "\n",
       "          StreamingMovies        Contract PaperlessBilling  \\\n",
       "0     No internet service        Two year               No   \n",
       "1                      No  Month-to-month              Yes   \n",
       "2                      No  Month-to-month              Yes   \n",
       "3                     Yes  Month-to-month              Yes   \n",
       "4                      No  Month-to-month               No   \n",
       "...                   ...             ...              ...   \n",
       "5981                  Yes  Month-to-month              Yes   \n",
       "5982                  Yes        Two year              Yes   \n",
       "5983  No internet service  Month-to-month              Yes   \n",
       "5984                  Yes  Month-to-month              Yes   \n",
       "5985  No internet service        One year               No   \n",
       "\n",
       "                  PaymentMethod MonthlyCharges TotalCharges  Churn  \n",
       "0       Credit card (automatic)          24.10      1734.65     No  \n",
       "1       Credit card (automatic)          88.15       3973.2     No  \n",
       "2     Bank transfer (automatic)          74.95      2869.85    Yes  \n",
       "3              Electronic check          55.90        238.5     No  \n",
       "4              Electronic check          53.45        119.5     No  \n",
       "...                         ...            ...          ...    ...  \n",
       "5981           Electronic check          95.00           95    Yes  \n",
       "5982    Credit card (automatic)          91.10       2198.3     No  \n",
       "5983           Electronic check          21.15       306.05     No  \n",
       "5984           Electronic check          99.45      1200.15    Yes  \n",
       "5985    Credit card (automatic)          19.80        457.3     No  \n",
       "\n",
       "[5986 rows x 22 columns]"
      ]
     },
     "metadata": {},
     "output_type": "display_data"
    }
   ],
   "source": [
    "url = \"https://raw.githubusercontent.com/vhteran/UDLA_Big_Data_aplicada_a_los_Negocios/main/data/telecom_users.csv\"\n",
    "df = pd.read_csv(url)\n",
    "display(df)"
   ]
  },
  {
   "cell_type": "code",
   "execution_count": 46,
   "id": "90b2d1a7",
   "metadata": {},
   "outputs": [
    {
     "data": {
      "text/html": [
       "<div>\n",
       "<style scoped>\n",
       "    .dataframe tbody tr th:only-of-type {\n",
       "        vertical-align: middle;\n",
       "    }\n",
       "\n",
       "    .dataframe tbody tr th {\n",
       "        vertical-align: top;\n",
       "    }\n",
       "\n",
       "    .dataframe thead th {\n",
       "        text-align: right;\n",
       "    }\n",
       "</style>\n",
       "<table border=\"1\" class=\"dataframe\">\n",
       "  <thead>\n",
       "    <tr style=\"text-align: right;\">\n",
       "      <th></th>\n",
       "      <th>customerID</th>\n",
       "      <th>gender</th>\n",
       "      <th>SeniorCitizen</th>\n",
       "      <th>Partner</th>\n",
       "      <th>Dependents</th>\n",
       "      <th>tenure</th>\n",
       "      <th>PhoneService</th>\n",
       "      <th>MultipleLines</th>\n",
       "      <th>InternetService</th>\n",
       "      <th>OnlineSecurity</th>\n",
       "      <th>...</th>\n",
       "      <th>DeviceProtection</th>\n",
       "      <th>TechSupport</th>\n",
       "      <th>StreamingTV</th>\n",
       "      <th>StreamingMovies</th>\n",
       "      <th>Contract</th>\n",
       "      <th>PaperlessBilling</th>\n",
       "      <th>PaymentMethod</th>\n",
       "      <th>MonthlyCharges</th>\n",
       "      <th>TotalCharges</th>\n",
       "      <th>Churn</th>\n",
       "    </tr>\n",
       "  </thead>\n",
       "  <tbody>\n",
       "    <tr>\n",
       "      <th>1869</th>\n",
       "      <td>7010-BRBUU</td>\n",
       "      <td>Male</td>\n",
       "      <td>0</td>\n",
       "      <td>Yes</td>\n",
       "      <td>Yes</td>\n",
       "      <td>72</td>\n",
       "      <td>Yes</td>\n",
       "      <td>Yes</td>\n",
       "      <td>No</td>\n",
       "      <td>No internet service</td>\n",
       "      <td>...</td>\n",
       "      <td>No internet service</td>\n",
       "      <td>No internet service</td>\n",
       "      <td>No internet service</td>\n",
       "      <td>No internet service</td>\n",
       "      <td>Two year</td>\n",
       "      <td>No</td>\n",
       "      <td>Credit card (automatic)</td>\n",
       "      <td>24.10</td>\n",
       "      <td>1734.65</td>\n",
       "      <td>No</td>\n",
       "    </tr>\n",
       "    <tr>\n",
       "      <th>4528</th>\n",
       "      <td>9688-YGXVR</td>\n",
       "      <td>Female</td>\n",
       "      <td>0</td>\n",
       "      <td>No</td>\n",
       "      <td>No</td>\n",
       "      <td>44</td>\n",
       "      <td>Yes</td>\n",
       "      <td>No</td>\n",
       "      <td>Fiber optic</td>\n",
       "      <td>No</td>\n",
       "      <td>...</td>\n",
       "      <td>Yes</td>\n",
       "      <td>No</td>\n",
       "      <td>Yes</td>\n",
       "      <td>No</td>\n",
       "      <td>Month-to-month</td>\n",
       "      <td>Yes</td>\n",
       "      <td>Credit card (automatic)</td>\n",
       "      <td>88.15</td>\n",
       "      <td>3973.2</td>\n",
       "      <td>No</td>\n",
       "    </tr>\n",
       "    <tr>\n",
       "      <th>6344</th>\n",
       "      <td>9286-DOJGF</td>\n",
       "      <td>Female</td>\n",
       "      <td>1</td>\n",
       "      <td>Yes</td>\n",
       "      <td>No</td>\n",
       "      <td>38</td>\n",
       "      <td>Yes</td>\n",
       "      <td>Yes</td>\n",
       "      <td>Fiber optic</td>\n",
       "      <td>No</td>\n",
       "      <td>...</td>\n",
       "      <td>No</td>\n",
       "      <td>No</td>\n",
       "      <td>No</td>\n",
       "      <td>No</td>\n",
       "      <td>Month-to-month</td>\n",
       "      <td>Yes</td>\n",
       "      <td>Bank transfer (automatic)</td>\n",
       "      <td>74.95</td>\n",
       "      <td>2869.85</td>\n",
       "      <td>Yes</td>\n",
       "    </tr>\n",
       "    <tr>\n",
       "      <th>6739</th>\n",
       "      <td>6994-KERXL</td>\n",
       "      <td>Male</td>\n",
       "      <td>0</td>\n",
       "      <td>No</td>\n",
       "      <td>No</td>\n",
       "      <td>4</td>\n",
       "      <td>Yes</td>\n",
       "      <td>No</td>\n",
       "      <td>DSL</td>\n",
       "      <td>No</td>\n",
       "      <td>...</td>\n",
       "      <td>No</td>\n",
       "      <td>No</td>\n",
       "      <td>No</td>\n",
       "      <td>Yes</td>\n",
       "      <td>Month-to-month</td>\n",
       "      <td>Yes</td>\n",
       "      <td>Electronic check</td>\n",
       "      <td>55.90</td>\n",
       "      <td>238.5</td>\n",
       "      <td>No</td>\n",
       "    </tr>\n",
       "    <tr>\n",
       "      <th>432</th>\n",
       "      <td>2181-UAESM</td>\n",
       "      <td>Male</td>\n",
       "      <td>0</td>\n",
       "      <td>No</td>\n",
       "      <td>No</td>\n",
       "      <td>2</td>\n",
       "      <td>Yes</td>\n",
       "      <td>No</td>\n",
       "      <td>DSL</td>\n",
       "      <td>Yes</td>\n",
       "      <td>...</td>\n",
       "      <td>Yes</td>\n",
       "      <td>No</td>\n",
       "      <td>No</td>\n",
       "      <td>No</td>\n",
       "      <td>Month-to-month</td>\n",
       "      <td>No</td>\n",
       "      <td>Electronic check</td>\n",
       "      <td>53.45</td>\n",
       "      <td>119.5</td>\n",
       "      <td>No</td>\n",
       "    </tr>\n",
       "  </tbody>\n",
       "</table>\n",
       "<p>5 rows × 21 columns</p>\n",
       "</div>"
      ],
      "text/plain": [
       "      customerID  gender  SeniorCitizen Partner Dependents  tenure  \\\n",
       "1869  7010-BRBUU    Male              0     Yes        Yes      72   \n",
       "4528  9688-YGXVR  Female              0      No         No      44   \n",
       "6344  9286-DOJGF  Female              1     Yes         No      38   \n",
       "6739  6994-KERXL    Male              0      No         No       4   \n",
       "432   2181-UAESM    Male              0      No         No       2   \n",
       "\n",
       "     PhoneService MultipleLines InternetService       OnlineSecurity  ...  \\\n",
       "1869          Yes           Yes              No  No internet service  ...   \n",
       "4528          Yes            No     Fiber optic                   No  ...   \n",
       "6344          Yes           Yes     Fiber optic                   No  ...   \n",
       "6739          Yes            No             DSL                   No  ...   \n",
       "432           Yes            No             DSL                  Yes  ...   \n",
       "\n",
       "         DeviceProtection          TechSupport          StreamingTV  \\\n",
       "1869  No internet service  No internet service  No internet service   \n",
       "4528                  Yes                   No                  Yes   \n",
       "6344                   No                   No                   No   \n",
       "6739                   No                   No                   No   \n",
       "432                   Yes                   No                   No   \n",
       "\n",
       "          StreamingMovies        Contract PaperlessBilling  \\\n",
       "1869  No internet service        Two year               No   \n",
       "4528                   No  Month-to-month              Yes   \n",
       "6344                   No  Month-to-month              Yes   \n",
       "6739                  Yes  Month-to-month              Yes   \n",
       "432                    No  Month-to-month               No   \n",
       "\n",
       "                  PaymentMethod MonthlyCharges  TotalCharges Churn  \n",
       "1869    Credit card (automatic)          24.10       1734.65    No  \n",
       "4528    Credit card (automatic)          88.15        3973.2    No  \n",
       "6344  Bank transfer (automatic)          74.95       2869.85   Yes  \n",
       "6739           Electronic check          55.90         238.5    No  \n",
       "432            Electronic check          53.45         119.5    No  \n",
       "\n",
       "[5 rows x 21 columns]"
      ]
     },
     "execution_count": 46,
     "metadata": {},
     "output_type": "execute_result"
    }
   ],
   "source": [
    "# Transformamos la primera columna en el índice del dataframe\n",
    "df = pd.read_csv(url, index_col= 0)\n",
    "df.head()"
   ]
  },
  {
   "cell_type": "code",
   "execution_count": 48,
   "id": "adapted-myrtle",
   "metadata": {
    "execution": {
     "iopub.execute_input": "2021-04-09T12:39:18.230530Z",
     "iopub.status.busy": "2021-04-09T12:39:18.215491Z",
     "iopub.status.idle": "2021-04-09T12:39:18.236778Z",
     "shell.execute_reply": "2021-04-09T12:39:18.236071Z"
    },
    "jupyter": {
     "source_hidden": true
    },
    "papermill": {
     "duration": 0.086827,
     "end_time": "2021-04-09T12:39:18.236944",
     "exception": false,
     "start_time": "2021-04-09T12:39:18.150117",
     "status": "completed"
    },
    "tags": []
   },
   "outputs": [
    {
     "name": "stdout",
     "output_type": "stream",
     "text": [
      "<class 'pandas.core.frame.DataFrame'>\n",
      "Int64Index: 5986 entries, 1869 to 860\n",
      "Data columns (total 21 columns):\n",
      " #   Column            Non-Null Count  Dtype  \n",
      "---  ------            --------------  -----  \n",
      " 0   customerID        5986 non-null   object \n",
      " 1   gender            5986 non-null   object \n",
      " 2   SeniorCitizen     5986 non-null   int64  \n",
      " 3   Partner           5986 non-null   object \n",
      " 4   Dependents        5986 non-null   object \n",
      " 5   tenure            5986 non-null   int64  \n",
      " 6   PhoneService      5986 non-null   object \n",
      " 7   MultipleLines     5986 non-null   object \n",
      " 8   InternetService   5986 non-null   object \n",
      " 9   OnlineSecurity    5986 non-null   object \n",
      " 10  OnlineBackup      5986 non-null   object \n",
      " 11  DeviceProtection  5986 non-null   object \n",
      " 12  TechSupport       5986 non-null   object \n",
      " 13  StreamingTV       5986 non-null   object \n",
      " 14  StreamingMovies   5986 non-null   object \n",
      " 15  Contract          5986 non-null   object \n",
      " 16  PaperlessBilling  5986 non-null   object \n",
      " 17  PaymentMethod     5986 non-null   object \n",
      " 18  MonthlyCharges    5986 non-null   float64\n",
      " 19  TotalCharges      5986 non-null   object \n",
      " 20  Churn             5986 non-null   object \n",
      "dtypes: float64(1), int64(2), object(18)\n",
      "memory usage: 1.0+ MB\n"
     ]
    }
   ],
   "source": [
    "# Verificamos el tipo de datos de cada columna\n",
    "df.info()"
   ]
  },
  {
   "cell_type": "markdown",
   "id": "5ea49918",
   "metadata": {},
   "source": [
    "# 5. Validación y limpieza de datos\n",
    "Los datos no válidos pueden sesgar y falsear los resultados de los análisis. La etapa de validación y depuración de datos se enfoca en establecer reglas de validación a menudo complejas y a eliminar cualquier dato no válido conocido."
   ]
  },
  {
   "cell_type": "markdown",
   "id": "chronic-prior",
   "metadata": {
    "papermill": {
     "duration": 0.048974,
     "end_time": "2021-04-09T12:39:18.435940",
     "exception": false,
     "start_time": "2021-04-09T12:39:18.386966",
     "status": "completed"
    },
    "tags": []
   },
   "source": [
    "### EDA - Análisis exploratorio de Datos"
   ]
  },
  {
   "cell_type": "code",
   "execution_count": 51,
   "id": "spread-baseline",
   "metadata": {
    "execution": {
     "iopub.execute_input": "2021-04-09T12:39:18.540923Z",
     "iopub.status.busy": "2021-04-09T12:39:18.540206Z",
     "iopub.status.idle": "2021-04-09T12:39:18.568971Z",
     "shell.execute_reply": "2021-04-09T12:39:18.568391Z"
    },
    "papermill": {
     "duration": 0.08416,
     "end_time": "2021-04-09T12:39:18.569129",
     "exception": false,
     "start_time": "2021-04-09T12:39:18.484969",
     "status": "completed"
    },
    "tags": []
   },
   "outputs": [
    {
     "data": {
      "text/html": [
       "<div>\n",
       "<style scoped>\n",
       "    .dataframe tbody tr th:only-of-type {\n",
       "        vertical-align: middle;\n",
       "    }\n",
       "\n",
       "    .dataframe tbody tr th {\n",
       "        vertical-align: top;\n",
       "    }\n",
       "\n",
       "    .dataframe thead th {\n",
       "        text-align: right;\n",
       "    }\n",
       "</style>\n",
       "<table border=\"1\" class=\"dataframe\">\n",
       "  <thead>\n",
       "    <tr style=\"text-align: right;\">\n",
       "      <th></th>\n",
       "      <th>count</th>\n",
       "      <th>mean</th>\n",
       "      <th>std</th>\n",
       "      <th>min</th>\n",
       "      <th>25%</th>\n",
       "      <th>50%</th>\n",
       "      <th>75%</th>\n",
       "      <th>max</th>\n",
       "    </tr>\n",
       "  </thead>\n",
       "  <tbody>\n",
       "    <tr>\n",
       "      <th>tenure</th>\n",
       "      <td>1587.0</td>\n",
       "      <td>18.246377</td>\n",
       "      <td>19.667262</td>\n",
       "      <td>1.00</td>\n",
       "      <td>2.000</td>\n",
       "      <td>10.0</td>\n",
       "      <td>30.0</td>\n",
       "      <td>72.00</td>\n",
       "    </tr>\n",
       "    <tr>\n",
       "      <th>MonthlyCharges</th>\n",
       "      <td>1587.0</td>\n",
       "      <td>74.164871</td>\n",
       "      <td>24.965002</td>\n",
       "      <td>18.85</td>\n",
       "      <td>55.675</td>\n",
       "      <td>79.5</td>\n",
       "      <td>94.4</td>\n",
       "      <td>118.35</td>\n",
       "    </tr>\n",
       "  </tbody>\n",
       "</table>\n",
       "</div>"
      ],
      "text/plain": [
       "                 count       mean        std    min     25%   50%   75%  \\\n",
       "tenure          1587.0  18.246377  19.667262   1.00   2.000  10.0  30.0   \n",
       "MonthlyCharges  1587.0  74.164871  24.965002  18.85  55.675  79.5  94.4   \n",
       "\n",
       "                   max  \n",
       "tenure           72.00  \n",
       "MonthlyCharges  118.35  "
      ]
     },
     "execution_count": 51,
     "metadata": {},
     "output_type": "execute_result"
    }
   ],
   "source": [
    "# Generamos un análisis descriptivo de los campos 'tenure' y 'MonthlyCharges' con Churn = Si\n",
    "df[df['Churn']=='Yes'][['tenure','MonthlyCharges']].describe().T"
   ]
  },
  {
   "cell_type": "markdown",
   "id": "daf3c74b",
   "metadata": {},
   "source": [
    "Si observamos atentamente la media de los gastos mensuales de 74,16 y la mediana de 79,5 para los clientes que se cambian de proveedor (Churn = Si)."
   ]
  },
  {
   "cell_type": "code",
   "execution_count": 52,
   "id": "pretty-forum",
   "metadata": {
    "execution": {
     "iopub.execute_input": "2021-04-09T12:39:18.679278Z",
     "iopub.status.busy": "2021-04-09T12:39:18.678548Z",
     "iopub.status.idle": "2021-04-09T12:39:18.703644Z",
     "shell.execute_reply": "2021-04-09T12:39:18.704183Z"
    },
    "papermill": {
     "duration": 0.081062,
     "end_time": "2021-04-09T12:39:18.704373",
     "exception": false,
     "start_time": "2021-04-09T12:39:18.623311",
     "status": "completed"
    },
    "tags": []
   },
   "outputs": [
    {
     "data": {
      "text/html": [
       "<div>\n",
       "<style scoped>\n",
       "    .dataframe tbody tr th:only-of-type {\n",
       "        vertical-align: middle;\n",
       "    }\n",
       "\n",
       "    .dataframe tbody tr th {\n",
       "        vertical-align: top;\n",
       "    }\n",
       "\n",
       "    .dataframe thead th {\n",
       "        text-align: right;\n",
       "    }\n",
       "</style>\n",
       "<table border=\"1\" class=\"dataframe\">\n",
       "  <thead>\n",
       "    <tr style=\"text-align: right;\">\n",
       "      <th></th>\n",
       "      <th>count</th>\n",
       "      <th>mean</th>\n",
       "      <th>std</th>\n",
       "      <th>min</th>\n",
       "      <th>25%</th>\n",
       "      <th>50%</th>\n",
       "      <th>75%</th>\n",
       "      <th>max</th>\n",
       "    </tr>\n",
       "  </thead>\n",
       "  <tbody>\n",
       "    <tr>\n",
       "      <th>tenure</th>\n",
       "      <td>4399.0</td>\n",
       "      <td>37.599682</td>\n",
       "      <td>24.065131</td>\n",
       "      <td>0.00</td>\n",
       "      <td>15.000</td>\n",
       "      <td>37.00</td>\n",
       "      <td>61.0</td>\n",
       "      <td>72.00</td>\n",
       "    </tr>\n",
       "    <tr>\n",
       "      <th>MonthlyCharges</th>\n",
       "      <td>4399.0</td>\n",
       "      <td>61.424506</td>\n",
       "      <td>31.086101</td>\n",
       "      <td>18.25</td>\n",
       "      <td>25.125</td>\n",
       "      <td>64.75</td>\n",
       "      <td>88.7</td>\n",
       "      <td>118.75</td>\n",
       "    </tr>\n",
       "  </tbody>\n",
       "</table>\n",
       "</div>"
      ],
      "text/plain": [
       "                 count       mean        std    min     25%    50%   75%  \\\n",
       "tenure          4399.0  37.599682  24.065131   0.00  15.000  37.00  61.0   \n",
       "MonthlyCharges  4399.0  61.424506  31.086101  18.25  25.125  64.75  88.7   \n",
       "\n",
       "                   max  \n",
       "tenure           72.00  \n",
       "MonthlyCharges  118.75  "
      ]
     },
     "execution_count": 52,
     "metadata": {},
     "output_type": "execute_result"
    }
   ],
   "source": [
    "# Generamos un análisis descriptivo de los campos 'tenure' y 'MonthlyCharges' con Churn = No\n",
    "df[df['Churn']=='No'][['tenure','MonthlyCharges']].describe().T"
   ]
  },
  {
   "cell_type": "markdown",
   "id": "25b9e4a0",
   "metadata": {},
   "source": [
    "Si lo comparamos con la media de los gastos mensuales de 61,42 y la mediana de 64,75 para los clientes que no han cambiado de proveedor (Churn = No)."
   ]
  },
  {
   "cell_type": "markdown",
   "id": "3d7458bb",
   "metadata": {},
   "source": [
    "Podemos ver que los gastos mensuales de los clientes que abandonan son superiores a los de los clientes que no abandonan."
   ]
  },
  {
   "cell_type": "code",
   "execution_count": 53,
   "id": "single-memory",
   "metadata": {
    "_kg_hide-input": true,
    "execution": {
     "iopub.execute_input": "2021-04-09T12:39:18.910549Z",
     "iopub.status.busy": "2021-04-09T12:39:18.909926Z",
     "iopub.status.idle": "2021-04-09T12:39:21.060585Z",
     "shell.execute_reply": "2021-04-09T12:39:21.061083Z"
    },
    "jupyter": {
     "source_hidden": true
    },
    "papermill": {
     "duration": 2.206904,
     "end_time": "2021-04-09T12:39:21.061251",
     "exception": false,
     "start_time": "2021-04-09T12:39:18.854347",
     "status": "completed"
    },
    "tags": []
   },
   "outputs": [
    {
     "data": {
      "image/png": "[encoded data removed]",
      "text/plain": [
       "<Figure size 572.625x500 with 6 Axes>"
      ]
     },
     "metadata": {},
     "output_type": "display_data"
    }
   ],
   "source": [
    "# Creamos un diagrama de pares para visualizar la relación entre las variables\n",
    "plt.style.use('seaborn-dark')\n",
    "sns.pairplot(df[['tenure','MonthlyCharges','Churn']],hue='Churn',palette='Dark2');\n",
    "plt.tight_layout();"
   ]
  },
  {
   "cell_type": "code",
   "execution_count": 57,
   "id": "protecting-roots",
   "metadata": {
    "execution": {
     "iopub.execute_input": "2021-04-09T12:39:21.179811Z",
     "iopub.status.busy": "2021-04-09T12:39:21.179075Z",
     "iopub.status.idle": "2021-04-09T12:39:21.483368Z",
     "shell.execute_reply": "2021-04-09T12:39:21.483975Z"
    },
    "jupyter": {
     "source_hidden": true
    },
    "papermill": {
     "duration": 0.368295,
     "end_time": "2021-04-09T12:39:21.484148",
     "exception": false,
     "start_time": "2021-04-09T12:39:21.115853",
     "status": "completed"
    },
    "tags": []
   },
   "outputs": [
    {
     "data": {
      "application/vnd.plotly.v1+json": {
       "config": {
        "plotlyServerURL": "https://plot.ly"
       },
       "data": [
        {
         "domain": {
          "x": [
           0,
           1
          ],
          "y": [
           0,
           1
          ]
         },
         "hovertemplate": "Churn?=%{label}<br>Number_of_customers=%{value}<extra></extra>",
         "labels": [
          "No",
          "Yes"
         ],
         "legendgroup": "",
         "name": "",
         "showlegend": true,
         "type": "pie",
         "values": [
          4399,
          1587
         ]
        }
       ],
       "layout": {
        "autosize": true,
        "legend": {
         "tracegroupgap": 0
        },
        "template": {
         "data": {
          "scatter": [
           {
            "type": "scatter"
           }
          ]
         }
        },
        "title": {
         "text": "Churn"
        }
       }
      },
      "image/png": "[encoded data removed]",
      "text/html": [
       "<div>                            <div id=\"72529ec9-e084-4192-b4e3-9e44552b6d05\" class=\"plotly-graph-div\" style=\"height:525px; width:100%;\"></div>            <script type=\"text/javascript\">                require([\"plotly\"], function(Plotly) {                    window.PLOTLYENV=window.PLOTLYENV || {};                                    if (document.getElementById(\"72529ec9-e084-4192-b4e3-9e44552b6d05\")) {                    Plotly.newPlot(                        \"72529ec9-e084-4192-b4e3-9e44552b6d05\",                        [{\"domain\":{\"x\":[0.0,1.0],\"y\":[0.0,1.0]},\"hovertemplate\":\"Churn?=%{label}<br>Number_of_customers=%{value}<extra></extra>\",\"labels\":[\"No\",\"Yes\"],\"legendgroup\":\"\",\"name\":\"\",\"showlegend\":true,\"values\":[4399,1587],\"type\":\"pie\"}],                        {\"template\":{\"data\":{\"scatter\":[{\"type\":\"scatter\"}]}},\"legend\":{\"tracegroupgap\":0},\"title\":{\"text\":\"Churn\"}},                        {\"responsive\": true}                    ).then(function(){\n",
       "                            \n",
       "var gd = document.getElementById('72529ec9-e084-4192-b4e3-9e44552b6d05');\n",
       "var x = new MutationObserver(function (mutations, observer) {{\n",
       "        var display = window.getComputedStyle(gd).display;\n",
       "        if (!display || display === 'none') {{\n",
       "            console.log([gd, 'removed!']);\n",
       "            Plotly.purge(gd);\n",
       "            observer.disconnect();\n",
       "        }}\n",
       "}});\n",
       "\n",
       "// Listen for the removal of the full notebook cells\n",
       "var notebookContainer = gd.closest('#notebook-container');\n",
       "if (notebookContainer) {{\n",
       "    x.observe(notebookContainer, {childList: true});\n",
       "}}\n",
       "\n",
       "// Listen for the clearing of the current output cell\n",
       "var outputEl = gd.closest('.output');\n",
       "if (outputEl) {{\n",
       "    x.observe(outputEl, {childList: true});\n",
       "}}\n",
       "\n",
       "                        })                };                });            </script>        </div>"
      ]
     },
     "metadata": {},
     "output_type": "display_data"
    }
   ],
   "source": [
    "# Creamos un gráfico de pastel para visualizar la proporción de clientes desertores\n",
    "churn_plot = df['Churn'].value_counts().reset_index()\n",
    "churn_plot.columns = ['Churn?',\"Number_of_customers\"]\n",
    "px.pie(churn_plot,values =\"Number_of_customers\",names='Churn?',title='Churn',template='none')"
   ]
  },
  {
   "cell_type": "markdown",
   "id": "b3040bf8",
   "metadata": {},
   "source": [
    "# 6. Agregación y representación de datos\n",
    "La etapa de agregación y representación de datos, se dedica a integrar múltiples conjuntos de datos para obtener una visión unificada."
   ]
  },
  {
   "cell_type": "markdown",
   "id": "c96dc8af",
   "metadata": {},
   "source": [
    "El caso de negocio propuesto no requiere la integración de otros datos."
   ]
  },
  {
   "cell_type": "markdown",
   "id": "d1207227",
   "metadata": {},
   "source": [
    "# 7. Análisis de datos\n",
    "La etapa de análisis de datos se enfoca en llevar a cabo la tarea de análisis propiamente dicha, que suele implicar uno o más tipos de análisis"
   ]
  },
  {
   "cell_type": "markdown",
   "id": "latin-democrat",
   "metadata": {
    "papermill": {
     "duration": 0.055533,
     "end_time": "2021-04-09T12:39:21.706523",
     "exception": false,
     "start_time": "2021-04-09T12:39:21.650990",
     "status": "completed"
    },
    "tags": []
   },
   "source": [
    "## Análisis de datos con Tableau"
   ]
  },
  {
   "cell_type": "markdown",
   "id": "e45f45b0",
   "metadata": {},
   "source": [
    "![bbb](https://dev3lop.com/wp-content/uploads/2017/04/tableau-logo-tableau-software.jpg)"
   ]
  },
  {
   "cell_type": "markdown",
   "id": "a113345b",
   "metadata": {},
   "source": [
    "**Tableau** es una herramienta de Business Intelligence para analizar visualmente los datos. Los usuarios pueden crear y distribuir un panel de control interactivo y compartible, que representa las tendencias, las variaciones y la densidad de los datos en forma de gráficos y diagramas. Tableau puede conectarse a archivos, fuentes relacionales y de Big Data para adquirir y procesar datos. El software permite la combinación de datos y la colaboración en tiempo real, lo que lo hace muy singular. Es utilizado por empresas, investigadores académicos y muchas organizaciones gubernamentales para el análisis visual de datos.\n",
    "\n",
    "Además, tiene más poder de visualización que Python, por lo que ambas herramientas combinadas nos proporciona una visión y perspectiva más clara de datos complejos.\n"
   ]
  },
  {
   "cell_type": "code",
   "execution_count": 58,
   "id": "reserved-ebony",
   "metadata": {
    "_kg_hide-input": true,
    "execution": {
     "iopub.execute_input": "2021-04-09T12:39:22.072108Z",
     "iopub.status.busy": "2021-04-09T12:39:22.071345Z",
     "iopub.status.idle": "2021-04-09T12:39:22.075329Z",
     "shell.execute_reply": "2021-04-09T12:39:22.074803Z"
    },
    "jupyter": {
     "source_hidden": true
    },
    "papermill": {
     "duration": 0.081549,
     "end_time": "2021-04-09T12:39:22.075472",
     "exception": false,
     "start_time": "2021-04-09T12:39:21.993923",
     "status": "completed"
    },
    "tags": []
   },
   "outputs": [
    {
     "data": {
      "text/html": [
       "<div class='tableauPlaceholder' id='viz1617687716045' style='position: relative'><noscript><a href='#'><img alt=' ' src='https:&#47;&#47;public.tableau.com&#47;static&#47;images&#47;Te&#47;Telecom_Customer_Churn_prediction&#47;Telecom_churn_dashboard_1&#47;1_rss.png' style='border: none' /></a></noscript><object class='tableauViz'  style='display:none;'><param name='host_url' value='https%3A%2F%2Fpublic.tableau.com%2F' /> <param name='embed_code_version' value='3' /> <param name='site_root' value='' /><param name='name' value='Telecom_Customer_Churn_prediction&#47;Telecom_churn_dashboard_1' /><param name='tabs' value='yes' /><param name='toolbar' value='yes' /><param name='static_image' value='https:&#47;&#47;public.tableau.com&#47;static&#47;images&#47;Te&#47;Telecom_Customer_Churn_prediction&#47;Telecom_churn_dashboard_1&#47;1.png' /> <param name='animate_transition' value='yes' /><param name='display_static_image' value='yes' /><param name='display_spinner' value='yes' /><param name='display_overlay' value='yes' /><param name='display_count' value='yes' /><param name='language' value='en' /><param name='useGuest' value='true' /></object></div>                <script type='text/javascript'>                    var divElement = document.getElementById('viz1617687716045');                    var vizElement = divElement.getElementsByTagName('object')[0];                    if ( divElement.offsetWidth > 800 ) { vizElement.style.width='100%';vizElement.style.height=(divElement.offsetWidth*0.75)+'px';} else if ( divElement.offsetWidth > 500 ) { vizElement.style.width='100%';vizElement.style.height=(divElement.offsetWidth*0.75)+'px';} else { vizElement.style.width='100%';vizElement.style.minHeight='2400px';vizElement.style.maxHeight=(divElement.offsetWidth*1.77)+'px';}                     var scriptElement = document.createElement('script');                    scriptElement.src = 'https://public.tableau.com/javascripts/api/viz_v1.js';                    vizElement.parentNode.insertBefore(scriptElement, vizElement);                </script>\n"
      ],
      "text/plain": [
       "<IPython.core.display.HTML object>"
      ]
     },
     "metadata": {},
     "output_type": "display_data"
    }
   ],
   "source": [
    "%%HTML\n",
    "<div class='tableauPlaceholder' id='viz1617687716045' style='position: relative'><noscript><a href='#'><img alt=' ' src='https:&#47;&#47;public.tableau.com&#47;static&#47;images&#47;Te&#47;Telecom_Customer_Churn_prediction&#47;Telecom_churn_dashboard_1&#47;1_rss.png' style='border: none' /></a></noscript><object class='tableauViz'  style='display:none;'><param name='host_url' value='https%3A%2F%2Fpublic.tableau.com%2F' /> <param name='embed_code_version' value='3' /> <param name='site_root' value='' /><param name='name' value='Telecom_Customer_Churn_prediction&#47;Telecom_churn_dashboard_1' /><param name='tabs' value='yes' /><param name='toolbar' value='yes' /><param name='static_image' value='https:&#47;&#47;public.tableau.com&#47;static&#47;images&#47;Te&#47;Telecom_Customer_Churn_prediction&#47;Telecom_churn_dashboard_1&#47;1.png' /> <param name='animate_transition' value='yes' /><param name='display_static_image' value='yes' /><param name='display_spinner' value='yes' /><param name='display_overlay' value='yes' /><param name='display_count' value='yes' /><param name='language' value='en' /><param name='useGuest' value='true' /></object></div>                <script type='text/javascript'>                    var divElement = document.getElementById('viz1617687716045');                    var vizElement = divElement.getElementsByTagName('object')[0];                    if ( divElement.offsetWidth > 800 ) { vizElement.style.width='100%';vizElement.style.height=(divElement.offsetWidth*0.75)+'px';} else if ( divElement.offsetWidth > 500 ) { vizElement.style.width='100%';vizElement.style.height=(divElement.offsetWidth*0.75)+'px';} else { vizElement.style.width='100%';vizElement.style.minHeight='2400px';vizElement.style.maxHeight=(divElement.offsetWidth*1.77)+'px';}                     var scriptElement = document.createElement('script');                    scriptElement.src = 'https://public.tableau.com/javascripts/api/viz_v1.js';                    vizElement.parentNode.insertBefore(scriptElement, vizElement);                </script>"
   ]
  },
  {
   "cell_type": "markdown",
   "id": "another-coalition",
   "metadata": {
    "papermill": {
     "duration": 0.055839,
     "end_time": "2021-04-09T12:39:22.189008",
     "exception": false,
     "start_time": "2021-04-09T12:39:22.133169",
     "status": "completed"
    },
    "tags": []
   },
   "source": [
    "* Si hacemos clic en \"Sí\" para filtrar los clientes dados de baja en el Dashboard anterior, podemos observar que la mayoría de los cargos mensuales son superiores a los de los clientes existentes.\n",
    "\n",
    "* Podemos observar que el servicio de Internet de fibra óptica de los usuarios son la mayoría de los que abandonaron el servicio de telecomunicaciones y fuera de 2.627 usuarios de fibra óptica 1.091 usuarios de fibra óptica 41% son abandonados el servicio de telecomunicaciones."
   ]
  },
  {
   "cell_type": "code",
   "execution_count": 61,
   "id": "fluid-italian",
   "metadata": {
    "_kg_hide-input": true,
    "execution": {
     "iopub.execute_input": "2021-04-09T12:39:22.309987Z",
     "iopub.status.busy": "2021-04-09T12:39:22.309260Z",
     "iopub.status.idle": "2021-04-09T12:39:22.326686Z",
     "shell.execute_reply": "2021-04-09T12:39:22.326107Z"
    },
    "jupyter": {
     "source_hidden": true
    },
    "papermill": {
     "duration": 0.08145,
     "end_time": "2021-04-09T12:39:22.326837",
     "exception": false,
     "start_time": "2021-04-09T12:39:22.245387",
     "status": "completed"
    },
    "tags": []
   },
   "outputs": [
    {
     "name": "stdout",
     "output_type": "stream",
     "text": [
      "Total de usuarios de fibra óptica: 2627\n",
      "\n",
      "\n",
      "No. de usuarios de fibra óptica (Churn = 0): 1536\n",
      "\n",
      "\n",
      "No. de usuarios de fibra óptica (Churn = 1): 1091\n"
     ]
    }
   ],
   "source": [
    "# Clasificamos los usuarios de fibra óptica\n",
    "print('Total de usuarios de fibra óptica:',df[df['InternetService'] =='Fiber optic']['InternetService'].count())\n",
    "print('\\n')\n",
    "print('No. de usuarios de fibra óptica (Churn = 0):',df[(df['Churn'] =='No')& (df['InternetService'] =='Fiber optic')]['InternetService'].count())\n",
    "print('\\n')\n",
    "print('No. de usuarios de fibra óptica (Churn = 1):',df[(df['Churn'] =='Yes')& (df['InternetService'] =='Fiber optic')]['InternetService'].count())"
   ]
  },
  {
   "cell_type": "code",
   "execution_count": 65,
   "id": "framed-spanking",
   "metadata": {
    "execution": {
     "iopub.execute_input": "2021-04-09T12:39:22.450091Z",
     "iopub.status.busy": "2021-04-09T12:39:22.449119Z",
     "iopub.status.idle": "2021-04-09T12:39:22.459421Z",
     "shell.execute_reply": "2021-04-09T12:39:22.458899Z"
    },
    "jupyter": {
     "source_hidden": true
    },
    "papermill": {
     "duration": 0.075824,
     "end_time": "2021-04-09T12:39:22.459564",
     "exception": false,
     "start_time": "2021-04-09T12:39:22.383740",
     "status": "completed"
    },
    "tags": []
   },
   "outputs": [
    {
     "name": "stdout",
     "output_type": "stream",
     "text": [
      "Cargo mensual promedio de los clientes que se quedan: 94.75\n",
      "Cargo mensual promedio de los clientes que abandonan: 87.4\n"
     ]
    }
   ],
   "source": [
    "# Comparamos el cargo mensual de los que se quedan vs. los que se van\n",
    "print('Cargo mensual promedio de los clientes que se quedan:',df[(df['Churn'] =='No')& (df['InternetService'] =='Fiber optic')]['MonthlyCharges'].median())\n",
    "print('Cargo mensual promedio de los clientes que abandonan:',df[(df['Churn'] =='Yes')& (df['InternetService'] =='Fiber optic')]['MonthlyCharges'].median())"
   ]
  },
  {
   "cell_type": "code",
   "execution_count": 66,
   "id": "human-update",
   "metadata": {
    "_kg_hide-input": true,
    "execution": {
     "iopub.execute_input": "2021-04-09T12:39:22.580393Z",
     "iopub.status.busy": "2021-04-09T12:39:22.579621Z",
     "iopub.status.idle": "2021-04-09T12:39:22.582472Z",
     "shell.execute_reply": "2021-04-09T12:39:22.583053Z"
    },
    "jupyter": {
     "source_hidden": true
    },
    "papermill": {
     "duration": 0.066109,
     "end_time": "2021-04-09T12:39:22.583216",
     "exception": false,
     "start_time": "2021-04-09T12:39:22.517107",
     "status": "completed"
    },
    "tags": []
   },
   "outputs": [
    {
     "data": {
      "text/html": [
       "<div class='tableauPlaceholder' id='viz1617689871779' style='position: relative'><noscript><a href='#'><img alt=' ' src='https:&#47;&#47;public.tableau.com&#47;static&#47;images&#47;Te&#47;Telecom_Customer_Churn_prediction&#47;Telecom_churn_dashboard_2&#47;1_rss.png' style='border: none' /></a></noscript><object class='tableauViz'  style='display:none;'><param name='host_url' value='https%3A%2F%2Fpublic.tableau.com%2F' /> <param name='embed_code_version' value='3' /> <param name='site_root' value='' /><param name='name' value='Telecom_Customer_Churn_prediction&#47;Telecom_churn_dashboard_2' /><param name='tabs' value='yes' /><param name='toolbar' value='yes' /><param name='static_image' value='https:&#47;&#47;public.tableau.com&#47;static&#47;images&#47;Te&#47;Telecom_Customer_Churn_prediction&#47;Telecom_churn_dashboard_2&#47;1.png' /> <param name='animate_transition' value='yes' /><param name='display_static_image' value='yes' /><param name='display_spinner' value='yes' /><param name='display_overlay' value='yes' /><param name='display_count' value='yes' /><param name='language' value='en' /></object></div>                <script type='text/javascript'>                    var divElement = document.getElementById('viz1617689871779');                    var vizElement = divElement.getElementsByTagName('object')[0];                    if ( divElement.offsetWidth > 800 ) { vizElement.style.width='100%';vizElement.style.height=(divElement.offsetWidth*0.75)+'px';} else if ( divElement.offsetWidth > 500 ) { vizElement.style.width='100%';vizElement.style.height=(divElement.offsetWidth*0.75)+'px';} else { vizElement.style.width='100%';vizElement.style.minHeight='2400px';vizElement.style.maxHeight=(divElement.offsetWidth*1.77)+'px';}                     var scriptElement = document.createElement('script');                    scriptElement.src = 'https://public.tableau.com/javascripts/api/viz_v1.js';                    vizElement.parentNode.insertBefore(scriptElement, vizElement);                </script>\n"
      ],
      "text/plain": [
       "<IPython.core.display.HTML object>"
      ]
     },
     "metadata": {},
     "output_type": "display_data"
    }
   ],
   "source": [
    "%%HTML\n",
    "<div class='tableauPlaceholder' id='viz1617689871779' style='position: relative'><noscript><a href='#'><img alt=' ' src='https:&#47;&#47;public.tableau.com&#47;static&#47;images&#47;Te&#47;Telecom_Customer_Churn_prediction&#47;Telecom_churn_dashboard_2&#47;1_rss.png' style='border: none' /></a></noscript><object class='tableauViz'  style='display:none;'><param name='host_url' value='https%3A%2F%2Fpublic.tableau.com%2F' /> <param name='embed_code_version' value='3' /> <param name='site_root' value='' /><param name='name' value='Telecom_Customer_Churn_prediction&#47;Telecom_churn_dashboard_2' /><param name='tabs' value='yes' /><param name='toolbar' value='yes' /><param name='static_image' value='https:&#47;&#47;public.tableau.com&#47;static&#47;images&#47;Te&#47;Telecom_Customer_Churn_prediction&#47;Telecom_churn_dashboard_2&#47;1.png' /> <param name='animate_transition' value='yes' /><param name='display_static_image' value='yes' /><param name='display_spinner' value='yes' /><param name='display_overlay' value='yes' /><param name='display_count' value='yes' /><param name='language' value='en' /></object></div>                <script type='text/javascript'>                    var divElement = document.getElementById('viz1617689871779');                    var vizElement = divElement.getElementsByTagName('object')[0];                    if ( divElement.offsetWidth > 800 ) { vizElement.style.width='100%';vizElement.style.height=(divElement.offsetWidth*0.75)+'px';} else if ( divElement.offsetWidth > 500 ) { vizElement.style.width='100%';vizElement.style.height=(divElement.offsetWidth*0.75)+'px';} else { vizElement.style.width='100%';vizElement.style.minHeight='2400px';vizElement.style.maxHeight=(divElement.offsetWidth*1.77)+'px';}                     var scriptElement = document.createElement('script');                    scriptElement.src = 'https://public.tableau.com/javascripts/api/viz_v1.js';                    vizElement.parentNode.insertBefore(scriptElement, vizElement);                </script>"
   ]
  },
  {
   "cell_type": "markdown",
   "id": "capital-butler",
   "metadata": {
    "papermill": {
     "duration": 0.059778,
     "end_time": "2021-04-09T12:39:22.932587",
     "exception": false,
     "start_time": "2021-04-09T12:39:22.872809",
     "status": "completed"
    },
    "tags": []
   },
   "source": [
    "## Valores perdidos"
   ]
  },
  {
   "cell_type": "code",
   "execution_count": 76,
   "id": "olive-checkout",
   "metadata": {
    "_kg_hide-input": true,
    "execution": {
     "iopub.execute_input": "2021-04-09T12:39:23.056437Z",
     "iopub.status.busy": "2021-04-09T12:39:23.055782Z",
     "iopub.status.idle": "2021-04-09T12:39:24.072755Z",
     "shell.execute_reply": "2021-04-09T12:39:24.072104Z"
    },
    "jupyter": {
     "source_hidden": true
    },
    "papermill": {
     "duration": 1.080634,
     "end_time": "2021-04-09T12:39:24.072897",
     "exception": false,
     "start_time": "2021-04-09T12:39:22.992263",
     "status": "completed"
    },
    "tags": []
   },
   "outputs": [
    {
     "data": {
      "application/vnd.plotly.v1+json": {
       "config": {
        "plotlyServerURL": "https://plot.ly"
       },
       "data": [
        {
         "alignmentgroup": "True",
         "hovertemplate": "Variables=%{x}<br>missing values in percentage=%{text}<extra></extra>",
         "legendgroup": "",
         "marker": {
          "color": "#F8766D",
          "pattern": {
           "shape": ""
          }
         },
         "name": "",
         "offsetgroup": "",
         "orientation": "v",
         "showlegend": false,
         "text": [
          0,
          0,
          0,
          0,
          0,
          0,
          0,
          0,
          0,
          0,
          0,
          0,
          0,
          0,
          0,
          0,
          0,
          0,
          0,
          0,
          0
         ],
         "textposition": "inside",
         "texttemplate": "%{text:.2s}",
         "type": "bar",
         "x": [
          "customerID",
          "DeviceProtection",
          "TotalCharges",
          "MonthlyCharges",
          "PaymentMethod",
          "PaperlessBilling",
          "Contract",
          "StreamingMovies",
          "StreamingTV",
          "TechSupport",
          "OnlineBackup",
          "gender",
          "OnlineSecurity",
          "InternetService",
          "MultipleLines",
          "PhoneService",
          "tenure",
          "Dependents",
          "Partner",
          "SeniorCitizen",
          "Churn"
         ],
         "xaxis": "x",
         "y": [
          0,
          0,
          0,
          0,
          0,
          0,
          0,
          0,
          0,
          0,
          0,
          0,
          0,
          0,
          0,
          0,
          0,
          0,
          0,
          0,
          0
         ],
         "yaxis": "y"
        }
       ],
       "layout": {
        "autosize": true,
        "barmode": "relative",
        "legend": {
         "tracegroupgap": 0
        },
        "template": {
         "data": {
          "bar": [
           {
            "error_x": {
             "color": "rgb(51,51,51)"
            },
            "error_y": {
             "color": "rgb(51,51,51)"
            },
            "marker": {
             "line": {
              "color": "rgb(237,237,237)",
              "width": 0.5
             },
             "pattern": {
              "fillmode": "overlay",
              "size": 10,
              "solidity": 0.2
             }
            },
            "type": "bar"
           }
          ],
          "barpolar": [
           {
            "marker": {
             "line": {
              "color": "rgb(237,237,237)",
              "width": 0.5
             },
             "pattern": {
              "fillmode": "overlay",
              "size": 10,
              "solidity": 0.2
             }
            },
            "type": "barpolar"
           }
          ],
          "carpet": [
           {
            "aaxis": {
             "endlinecolor": "rgb(51,51,51)",
             "gridcolor": "white",
             "linecolor": "white",
             "minorgridcolor": "white",
             "startlinecolor": "rgb(51,51,51)"
            },
            "baxis": {
             "endlinecolor": "rgb(51,51,51)",
             "gridcolor": "white",
             "linecolor": "white",
             "minorgridcolor": "white",
             "startlinecolor": "rgb(51,51,51)"
            },
            "type": "carpet"
           }
          ],
          "choropleth": [
           {
            "colorbar": {
             "outlinewidth": 0,
             "tickcolor": "rgb(237,237,237)",
             "ticklen": 6,
             "ticks": "inside"
            },
            "type": "choropleth"
           }
          ],
          "contour": [
           {
            "colorbar": {
             "outlinewidth": 0,
             "tickcolor": "rgb(237,237,237)",
             "ticklen": 6,
             "ticks": "inside"
            },
            "colorscale": [
             [
              0,
              "rgb(20,44,66)"
             ],
             [
              1,
              "rgb(90,179,244)"
             ]
            ],
            "type": "contour"
           }
          ],
          "contourcarpet": [
           {
            "colorbar": {
             "outlinewidth": 0,
             "tickcolor": "rgb(237,237,237)",
             "ticklen": 6,
             "ticks": "inside"
            },
            "type": "contourcarpet"
           }
          ],
          "heatmap": [
           {
            "colorbar": {
             "outlinewidth": 0,
             "tickcolor": "rgb(237,237,237)",
             "ticklen": 6,
             "ticks": "inside"
            },
            "colorscale": [
             [
              0,
              "rgb(20,44,66)"
             ],
             [
              1,
              "rgb(90,179,244)"
             ]
            ],
            "type": "heatmap"
           }
          ],
          "heatmapgl": [
           {
            "colorbar": {
             "outlinewidth": 0,
             "tickcolor": "rgb(237,237,237)",
             "ticklen": 6,
             "ticks": "inside"
            },
            "colorscale": [
             [
              0,
              "rgb(20,44,66)"
             ],
             [
              1,
              "rgb(90,179,244)"
             ]
            ],
            "type": "heatmapgl"
           }
          ],
          "histogram": [
           {
            "marker": {
             "pattern": {
              "fillmode": "overlay",
              "size": 10,
              "solidity": 0.2
             }
            },
            "type": "histogram"
           }
          ],
          "histogram2d": [
           {
            "colorbar": {
             "outlinewidth": 0,
             "tickcolor": "rgb(237,237,237)",
             "ticklen": 6,
             "ticks": "inside"
            },
            "colorscale": [
             [
              0,
              "rgb(20,44,66)"
             ],
             [
              1,
              "rgb(90,179,244)"
             ]
            ],
            "type": "histogram2d"
           }
          ],
          "histogram2dcontour": [
           {
            "colorbar": {
             "outlinewidth": 0,
             "tickcolor": "rgb(237,237,237)",
             "ticklen": 6,
             "ticks": "inside"
            },
            "colorscale": [
             [
              0,
              "rgb(20,44,66)"
             ],
             [
              1,
              "rgb(90,179,244)"
             ]
            ],
            "type": "histogram2dcontour"
           }
          ],
          "mesh3d": [
           {
            "colorbar": {
             "outlinewidth": 0,
             "tickcolor": "rgb(237,237,237)",
             "ticklen": 6,
             "ticks": "inside"
            },
            "type": "mesh3d"
           }
          ],
          "parcoords": [
           {
            "line": {
             "colorbar": {
              "outlinewidth": 0,
              "tickcolor": "rgb(237,237,237)",
              "ticklen": 6,
              "ticks": "inside"
             }
            },
            "type": "parcoords"
           }
          ],
          "pie": [
           {
            "automargin": true,
            "type": "pie"
           }
          ],
          "scatter": [
           {
            "fillpattern": {
             "fillmode": "overlay",
             "size": 10,
             "solidity": 0.2
            },
            "type": "scatter"
           }
          ],
          "scatter3d": [
           {
            "line": {
             "colorbar": {
              "outlinewidth": 0,
              "tickcolor": "rgb(237,237,237)",
              "ticklen": 6,
              "ticks": "inside"
             }
            },
            "marker": {
             "colorbar": {
              "outlinewidth": 0,
              "tickcolor": "rgb(237,237,237)",
              "ticklen": 6,
              "ticks": "inside"
             }
            },
            "type": "scatter3d"
           }
          ],
          "scattercarpet": [
           {
            "marker": {
             "colorbar": {
              "outlinewidth": 0,
              "tickcolor": "rgb(237,237,237)",
              "ticklen": 6,
              "ticks": "inside"
             }
            },
            "type": "scattercarpet"
           }
          ],
          "scattergeo": [
           {
            "marker": {
             "colorbar": {
              "outlinewidth": 0,
              "tickcolor": "rgb(237,237,237)",
              "ticklen": 6,
              "ticks": "inside"
             }
            },
            "type": "scattergeo"
           }
          ],
          "scattergl": [
           {
            "marker": {
             "colorbar": {
              "outlinewidth": 0,
              "tickcolor": "rgb(237,237,237)",
              "ticklen": 6,
              "ticks": "inside"
             }
            },
            "type": "scattergl"
           }
          ],
          "scattermapbox": [
           {
            "marker": {
             "colorbar": {
              "outlinewidth": 0,
              "tickcolor": "rgb(237,237,237)",
              "ticklen": 6,
              "ticks": "inside"
             }
            },
            "type": "scattermapbox"
           }
          ],
          "scatterpolar": [
           {
            "marker": {
             "colorbar": {
              "outlinewidth": 0,
              "tickcolor": "rgb(237,237,237)",
              "ticklen": 6,
              "ticks": "inside"
             }
            },
            "type": "scatterpolar"
           }
          ],
          "scatterpolargl": [
           {
            "marker": {
             "colorbar": {
              "outlinewidth": 0,
              "tickcolor": "rgb(237,237,237)",
              "ticklen": 6,
              "ticks": "inside"
             }
            },
            "type": "scatterpolargl"
           }
          ],
          "scatterternary": [
           {
            "marker": {
             "colorbar": {
              "outlinewidth": 0,
              "tickcolor": "rgb(237,237,237)",
              "ticklen": 6,
              "ticks": "inside"
             }
            },
            "type": "scatterternary"
           }
          ],
          "surface": [
           {
            "colorbar": {
             "outlinewidth": 0,
             "tickcolor": "rgb(237,237,237)",
             "ticklen": 6,
             "ticks": "inside"
            },
            "colorscale": [
             [
              0,
              "rgb(20,44,66)"
             ],
             [
              1,
              "rgb(90,179,244)"
             ]
            ],
            "type": "surface"
           }
          ],
          "table": [
           {
            "cells": {
             "fill": {
              "color": "rgb(237,237,237)"
             },
             "line": {
              "color": "white"
             }
            },
            "header": {
             "fill": {
              "color": "rgb(217,217,217)"
             },
             "line": {
              "color": "white"
             }
            },
            "type": "table"
           }
          ]
         },
         "layout": {
          "annotationdefaults": {
           "arrowhead": 0,
           "arrowwidth": 1
          },
          "autotypenumbers": "strict",
          "coloraxis": {
           "colorbar": {
            "outlinewidth": 0,
            "tickcolor": "rgb(237,237,237)",
            "ticklen": 6,
            "ticks": "inside"
           }
          },
          "colorscale": {
           "sequential": [
            [
             0,
             "rgb(20,44,66)"
            ],
            [
             1,
             "rgb(90,179,244)"
            ]
           ],
           "sequentialminus": [
            [
             0,
             "rgb(20,44,66)"
            ],
            [
             1,
             "rgb(90,179,244)"
            ]
           ]
          },
          "colorway": [
           "#F8766D",
           "#A3A500",
           "#00BF7D",
           "#00B0F6",
           "#E76BF3"
          ],
          "font": {
           "color": "rgb(51,51,51)"
          },
          "geo": {
           "bgcolor": "white",
           "lakecolor": "white",
           "landcolor": "rgb(237,237,237)",
           "showlakes": true,
           "showland": true,
           "subunitcolor": "white"
          },
          "hoverlabel": {
           "align": "left"
          },
          "hovermode": "closest",
          "paper_bgcolor": "white",
          "plot_bgcolor": "rgb(237,237,237)",
          "polar": {
           "angularaxis": {
            "gridcolor": "white",
            "linecolor": "white",
            "showgrid": true,
            "tickcolor": "rgb(51,51,51)",
            "ticks": "outside"
           },
           "bgcolor": "rgb(237,237,237)",
           "radialaxis": {
            "gridcolor": "white",
            "linecolor": "white",
            "showgrid": true,
            "tickcolor": "rgb(51,51,51)",
            "ticks": "outside"
           }
          },
          "scene": {
           "xaxis": {
            "backgroundcolor": "rgb(237,237,237)",
            "gridcolor": "white",
            "gridwidth": 2,
            "linecolor": "white",
            "showbackground": true,
            "showgrid": true,
            "tickcolor": "rgb(51,51,51)",
            "ticks": "outside",
            "zerolinecolor": "white"
           },
           "yaxis": {
            "backgroundcolor": "rgb(237,237,237)",
            "gridcolor": "white",
            "gridwidth": 2,
            "linecolor": "white",
            "showbackground": true,
            "showgrid": true,
            "tickcolor": "rgb(51,51,51)",
            "ticks": "outside",
            "zerolinecolor": "white"
           },
           "zaxis": {
            "backgroundcolor": "rgb(237,237,237)",
            "gridcolor": "white",
            "gridwidth": 2,
            "linecolor": "white",
            "showbackground": true,
            "showgrid": true,
            "tickcolor": "rgb(51,51,51)",
            "ticks": "outside",
            "zerolinecolor": "white"
           }
          },
          "shapedefaults": {
           "fillcolor": "black",
           "line": {
            "width": 0
           },
           "opacity": 0.3
          },
          "ternary": {
           "aaxis": {
            "gridcolor": "white",
            "linecolor": "white",
            "showgrid": true,
            "tickcolor": "rgb(51,51,51)",
            "ticks": "outside"
           },
           "baxis": {
            "gridcolor": "white",
            "linecolor": "white",
            "showgrid": true,
            "tickcolor": "rgb(51,51,51)",
            "ticks": "outside"
           },
           "bgcolor": "rgb(237,237,237)",
           "caxis": {
            "gridcolor": "white",
            "linecolor": "white",
            "showgrid": true,
            "tickcolor": "rgb(51,51,51)",
            "ticks": "outside"
           }
          },
          "xaxis": {
           "automargin": true,
           "gridcolor": "white",
           "linecolor": "white",
           "showgrid": true,
           "tickcolor": "rgb(51,51,51)",
           "ticks": "outside",
           "title": {
            "standoff": 15
           },
           "zerolinecolor": "white"
          },
          "yaxis": {
           "automargin": true,
           "gridcolor": "white",
           "linecolor": "white",
           "showgrid": true,
           "tickcolor": "rgb(51,51,51)",
           "ticks": "outside",
           "title": {
            "standoff": 15
           },
           "zerolinecolor": "white"
          }
         }
        },
        "title": {
         "text": "% Valores perdidos por variable"
        },
        "uniformtext": {
         "minsize": 8,
         "mode": "hide"
        },
        "xaxis": {
         "anchor": "y",
         "autorange": true,
         "domain": [
          0,
          1
         ],
         "range": [
          -0.5,
          20.5
         ],
         "title": {
          "text": "Variables"
         },
         "type": "category"
        },
        "yaxis": {
         "anchor": "x",
         "autorange": true,
         "domain": [
          0,
          1
         ],
         "range": [
          -1,
          1
         ],
         "title": {
          "text": "missing values in percentage"
         },
         "type": "linear"
        }
       }
      },
      "image/png": "[encoded data removed]",
      "text/html": [
       "<div>                            <div id=\"aa6f5e0f-e4f1-4f13-a03f-9f4a4d6f7089\" class=\"plotly-graph-div\" style=\"height:525px; width:100%;\"></div>            <script type=\"text/javascript\">                require([\"plotly\"], function(Plotly) {                    window.PLOTLYENV=window.PLOTLYENV || {};                                    if (document.getElementById(\"aa6f5e0f-e4f1-4f13-a03f-9f4a4d6f7089\")) {                    Plotly.newPlot(                        \"aa6f5e0f-e4f1-4f13-a03f-9f4a4d6f7089\",                        [{\"alignmentgroup\":\"True\",\"hovertemplate\":\"Variables=%{x}<br>missing values in percentage=%{text}<extra></extra>\",\"legendgroup\":\"\",\"marker\":{\"color\":\"#F8766D\",\"pattern\":{\"shape\":\"\"}},\"name\":\"\",\"offsetgroup\":\"\",\"orientation\":\"v\",\"showlegend\":false,\"text\":[0.0,0.0,0.0,0.0,0.0,0.0,0.0,0.0,0.0,0.0,0.0,0.0,0.0,0.0,0.0,0.0,0.0,0.0,0.0,0.0,0.0],\"textposition\":\"inside\",\"x\":[\"customerID\",\"DeviceProtection\",\"TotalCharges\",\"MonthlyCharges\",\"PaymentMethod\",\"PaperlessBilling\",\"Contract\",\"StreamingMovies\",\"StreamingTV\",\"TechSupport\",\"OnlineBackup\",\"gender\",\"OnlineSecurity\",\"InternetService\",\"MultipleLines\",\"PhoneService\",\"tenure\",\"Dependents\",\"Partner\",\"SeniorCitizen\",\"Churn\"],\"xaxis\":\"x\",\"y\":[0.0,0.0,0.0,0.0,0.0,0.0,0.0,0.0,0.0,0.0,0.0,0.0,0.0,0.0,0.0,0.0,0.0,0.0,0.0,0.0,0.0],\"yaxis\":\"y\",\"type\":\"bar\",\"texttemplate\":\"%{text:.2s}\"}],                        {\"template\":{\"data\":{\"barpolar\":[{\"marker\":{\"line\":{\"color\":\"rgb(237,237,237)\",\"width\":0.5},\"pattern\":{\"fillmode\":\"overlay\",\"size\":10,\"solidity\":0.2}},\"type\":\"barpolar\"}],\"bar\":[{\"error_x\":{\"color\":\"rgb(51,51,51)\"},\"error_y\":{\"color\":\"rgb(51,51,51)\"},\"marker\":{\"line\":{\"color\":\"rgb(237,237,237)\",\"width\":0.5},\"pattern\":{\"fillmode\":\"overlay\",\"size\":10,\"solidity\":0.2}},\"type\":\"bar\"}],\"carpet\":[{\"aaxis\":{\"endlinecolor\":\"rgb(51,51,51)\",\"gridcolor\":\"white\",\"linecolor\":\"white\",\"minorgridcolor\":\"white\",\"startlinecolor\":\"rgb(51,51,51)\"},\"baxis\":{\"endlinecolor\":\"rgb(51,51,51)\",\"gridcolor\":\"white\",\"linecolor\":\"white\",\"minorgridcolor\":\"white\",\"startlinecolor\":\"rgb(51,51,51)\"},\"type\":\"carpet\"}],\"choropleth\":[{\"colorbar\":{\"outlinewidth\":0,\"tickcolor\":\"rgb(237,237,237)\",\"ticklen\":6,\"ticks\":\"inside\"},\"type\":\"choropleth\"}],\"contourcarpet\":[{\"colorbar\":{\"outlinewidth\":0,\"tickcolor\":\"rgb(237,237,237)\",\"ticklen\":6,\"ticks\":\"inside\"},\"type\":\"contourcarpet\"}],\"contour\":[{\"colorbar\":{\"outlinewidth\":0,\"tickcolor\":\"rgb(237,237,237)\",\"ticklen\":6,\"ticks\":\"inside\"},\"colorscale\":[[0,\"rgb(20,44,66)\"],[1,\"rgb(90,179,244)\"]],\"type\":\"contour\"}],\"heatmapgl\":[{\"colorbar\":{\"outlinewidth\":0,\"tickcolor\":\"rgb(237,237,237)\",\"ticklen\":6,\"ticks\":\"inside\"},\"colorscale\":[[0,\"rgb(20,44,66)\"],[1,\"rgb(90,179,244)\"]],\"type\":\"heatmapgl\"}],\"heatmap\":[{\"colorbar\":{\"outlinewidth\":0,\"tickcolor\":\"rgb(237,237,237)\",\"ticklen\":6,\"ticks\":\"inside\"},\"colorscale\":[[0,\"rgb(20,44,66)\"],[1,\"rgb(90,179,244)\"]],\"type\":\"heatmap\"}],\"histogram2dcontour\":[{\"colorbar\":{\"outlinewidth\":0,\"tickcolor\":\"rgb(237,237,237)\",\"ticklen\":6,\"ticks\":\"inside\"},\"colorscale\":[[0,\"rgb(20,44,66)\"],[1,\"rgb(90,179,244)\"]],\"type\":\"histogram2dcontour\"}],\"histogram2d\":[{\"colorbar\":{\"outlinewidth\":0,\"tickcolor\":\"rgb(237,237,237)\",\"ticklen\":6,\"ticks\":\"inside\"},\"colorscale\":[[0,\"rgb(20,44,66)\"],[1,\"rgb(90,179,244)\"]],\"type\":\"histogram2d\"}],\"histogram\":[{\"marker\":{\"pattern\":{\"fillmode\":\"overlay\",\"size\":10,\"solidity\":0.2}},\"type\":\"histogram\"}],\"mesh3d\":[{\"colorbar\":{\"outlinewidth\":0,\"tickcolor\":\"rgb(237,237,237)\",\"ticklen\":6,\"ticks\":\"inside\"},\"type\":\"mesh3d\"}],\"parcoords\":[{\"line\":{\"colorbar\":{\"outlinewidth\":0,\"tickcolor\":\"rgb(237,237,237)\",\"ticklen\":6,\"ticks\":\"inside\"}},\"type\":\"parcoords\"}],\"pie\":[{\"automargin\":true,\"type\":\"pie\"}],\"scatter3d\":[{\"line\":{\"colorbar\":{\"outlinewidth\":0,\"tickcolor\":\"rgb(237,237,237)\",\"ticklen\":6,\"ticks\":\"inside\"}},\"marker\":{\"colorbar\":{\"outlinewidth\":0,\"tickcolor\":\"rgb(237,237,237)\",\"ticklen\":6,\"ticks\":\"inside\"}},\"type\":\"scatter3d\"}],\"scattercarpet\":[{\"marker\":{\"colorbar\":{\"outlinewidth\":0,\"tickcolor\":\"rgb(237,237,237)\",\"ticklen\":6,\"ticks\":\"inside\"}},\"type\":\"scattercarpet\"}],\"scattergeo\":[{\"marker\":{\"colorbar\":{\"outlinewidth\":0,\"tickcolor\":\"rgb(237,237,237)\",\"ticklen\":6,\"ticks\":\"inside\"}},\"type\":\"scattergeo\"}],\"scattergl\":[{\"marker\":{\"colorbar\":{\"outlinewidth\":0,\"tickcolor\":\"rgb(237,237,237)\",\"ticklen\":6,\"ticks\":\"inside\"}},\"type\":\"scattergl\"}],\"scattermapbox\":[{\"marker\":{\"colorbar\":{\"outlinewidth\":0,\"tickcolor\":\"rgb(237,237,237)\",\"ticklen\":6,\"ticks\":\"inside\"}},\"type\":\"scattermapbox\"}],\"scatterpolargl\":[{\"marker\":{\"colorbar\":{\"outlinewidth\":0,\"tickcolor\":\"rgb(237,237,237)\",\"ticklen\":6,\"ticks\":\"inside\"}},\"type\":\"scatterpolargl\"}],\"scatterpolar\":[{\"marker\":{\"colorbar\":{\"outlinewidth\":0,\"tickcolor\":\"rgb(237,237,237)\",\"ticklen\":6,\"ticks\":\"inside\"}},\"type\":\"scatterpolar\"}],\"scatter\":[{\"fillpattern\":{\"fillmode\":\"overlay\",\"size\":10,\"solidity\":0.2},\"type\":\"scatter\"}],\"scatterternary\":[{\"marker\":{\"colorbar\":{\"outlinewidth\":0,\"tickcolor\":\"rgb(237,237,237)\",\"ticklen\":6,\"ticks\":\"inside\"}},\"type\":\"scatterternary\"}],\"surface\":[{\"colorbar\":{\"outlinewidth\":0,\"tickcolor\":\"rgb(237,237,237)\",\"ticklen\":6,\"ticks\":\"inside\"},\"colorscale\":[[0,\"rgb(20,44,66)\"],[1,\"rgb(90,179,244)\"]],\"type\":\"surface\"}],\"table\":[{\"cells\":{\"fill\":{\"color\":\"rgb(237,237,237)\"},\"line\":{\"color\":\"white\"}},\"header\":{\"fill\":{\"color\":\"rgb(217,217,217)\"},\"line\":{\"color\":\"white\"}},\"type\":\"table\"}]},\"layout\":{\"annotationdefaults\":{\"arrowhead\":0,\"arrowwidth\":1},\"autotypenumbers\":\"strict\",\"coloraxis\":{\"colorbar\":{\"outlinewidth\":0,\"tickcolor\":\"rgb(237,237,237)\",\"ticklen\":6,\"ticks\":\"inside\"}},\"colorscale\":{\"sequential\":[[0,\"rgb(20,44,66)\"],[1,\"rgb(90,179,244)\"]],\"sequentialminus\":[[0,\"rgb(20,44,66)\"],[1,\"rgb(90,179,244)\"]]},\"colorway\":[\"#F8766D\",\"#A3A500\",\"#00BF7D\",\"#00B0F6\",\"#E76BF3\"],\"font\":{\"color\":\"rgb(51,51,51)\"},\"geo\":{\"bgcolor\":\"white\",\"lakecolor\":\"white\",\"landcolor\":\"rgb(237,237,237)\",\"showlakes\":true,\"showland\":true,\"subunitcolor\":\"white\"},\"hoverlabel\":{\"align\":\"left\"},\"hovermode\":\"closest\",\"paper_bgcolor\":\"white\",\"plot_bgcolor\":\"rgb(237,237,237)\",\"polar\":{\"angularaxis\":{\"gridcolor\":\"white\",\"linecolor\":\"white\",\"showgrid\":true,\"tickcolor\":\"rgb(51,51,51)\",\"ticks\":\"outside\"},\"bgcolor\":\"rgb(237,237,237)\",\"radialaxis\":{\"gridcolor\":\"white\",\"linecolor\":\"white\",\"showgrid\":true,\"tickcolor\":\"rgb(51,51,51)\",\"ticks\":\"outside\"}},\"scene\":{\"xaxis\":{\"backgroundcolor\":\"rgb(237,237,237)\",\"gridcolor\":\"white\",\"gridwidth\":2,\"linecolor\":\"white\",\"showbackground\":true,\"showgrid\":true,\"tickcolor\":\"rgb(51,51,51)\",\"ticks\":\"outside\",\"zerolinecolor\":\"white\"},\"yaxis\":{\"backgroundcolor\":\"rgb(237,237,237)\",\"gridcolor\":\"white\",\"gridwidth\":2,\"linecolor\":\"white\",\"showbackground\":true,\"showgrid\":true,\"tickcolor\":\"rgb(51,51,51)\",\"ticks\":\"outside\",\"zerolinecolor\":\"white\"},\"zaxis\":{\"backgroundcolor\":\"rgb(237,237,237)\",\"gridcolor\":\"white\",\"gridwidth\":2,\"linecolor\":\"white\",\"showbackground\":true,\"showgrid\":true,\"tickcolor\":\"rgb(51,51,51)\",\"ticks\":\"outside\",\"zerolinecolor\":\"white\"}},\"shapedefaults\":{\"fillcolor\":\"black\",\"line\":{\"width\":0},\"opacity\":0.3},\"ternary\":{\"aaxis\":{\"gridcolor\":\"white\",\"linecolor\":\"white\",\"showgrid\":true,\"tickcolor\":\"rgb(51,51,51)\",\"ticks\":\"outside\"},\"baxis\":{\"gridcolor\":\"white\",\"linecolor\":\"white\",\"showgrid\":true,\"tickcolor\":\"rgb(51,51,51)\",\"ticks\":\"outside\"},\"bgcolor\":\"rgb(237,237,237)\",\"caxis\":{\"gridcolor\":\"white\",\"linecolor\":\"white\",\"showgrid\":true,\"tickcolor\":\"rgb(51,51,51)\",\"ticks\":\"outside\"}},\"xaxis\":{\"automargin\":true,\"gridcolor\":\"white\",\"linecolor\":\"white\",\"showgrid\":true,\"tickcolor\":\"rgb(51,51,51)\",\"ticks\":\"outside\",\"title\":{\"standoff\":15},\"zerolinecolor\":\"white\"},\"yaxis\":{\"automargin\":true,\"gridcolor\":\"white\",\"linecolor\":\"white\",\"showgrid\":true,\"tickcolor\":\"rgb(51,51,51)\",\"ticks\":\"outside\",\"title\":{\"standoff\":15},\"zerolinecolor\":\"white\"}}},\"xaxis\":{\"anchor\":\"y\",\"domain\":[0.0,1.0],\"title\":{\"text\":\"Variables\"}},\"yaxis\":{\"anchor\":\"x\",\"domain\":[0.0,1.0],\"title\":{\"text\":\"missing values in percentage\"}},\"legend\":{\"tracegroupgap\":0},\"title\":{\"text\":\"% Valores perdidos por variable\"},\"barmode\":\"relative\",\"uniformtext\":{\"minsize\":8,\"mode\":\"hide\"}},                        {\"responsive\": true}                    ).then(function(){\n",
       "                            \n",
       "var gd = document.getElementById('aa6f5e0f-e4f1-4f13-a03f-9f4a4d6f7089');\n",
       "var x = new MutationObserver(function (mutations, observer) {{\n",
       "        var display = window.getComputedStyle(gd).display;\n",
       "        if (!display || display === 'none') {{\n",
       "            console.log([gd, 'removed!']);\n",
       "            Plotly.purge(gd);\n",
       "            observer.disconnect();\n",
       "        }}\n",
       "}});\n",
       "\n",
       "// Listen for the removal of the full notebook cells\n",
       "var notebookContainer = gd.closest('#notebook-container');\n",
       "if (notebookContainer) {{\n",
       "    x.observe(notebookContainer, {childList: true});\n",
       "}}\n",
       "\n",
       "// Listen for the clearing of the current output cell\n",
       "var outputEl = gd.closest('.output');\n",
       "if (outputEl) {{\n",
       "    x.observe(outputEl, {childList: true});\n",
       "}}\n",
       "\n",
       "                        })                };                });            </script>        </div>"
      ]
     },
     "metadata": {},
     "output_type": "display_data"
    }
   ],
   "source": [
    "# missing values\n",
    "missing_value = 100* df.isnull().sum()/len(df)\n",
    "missing_value = missing_value.reset_index()\n",
    "missing_value.columns = ['Variables','missing values in percentage']\n",
    "missing_value = missing_value.sort_values('missing values in percentage',ascending=False)\n",
    "\n",
    "# barplot\n",
    "fig = px.bar(missing_value, y='missing values in percentage',x='Variables',title='% Valores perdidos por variable',\n",
    "             template='ggplot2',text='missing values in percentage');\n",
    "fig.update_traces(texttemplate='%{text:.2s}', textposition='inside')\n",
    "fig.update_layout(uniformtext_minsize=8, uniformtext_mode='hide')\n",
    "\n",
    "fig.show()"
   ]
  },
  {
   "cell_type": "markdown",
   "id": "premier-payment",
   "metadata": {
    "papermill": {
     "duration": 0.063418,
     "end_time": "2021-04-09T12:39:24.200848",
     "exception": false,
     "start_time": "2021-04-09T12:39:24.137430",
     "status": "completed"
    },
    "tags": []
   },
   "source": [
    "Como se muestra en el gráfico anterior, no se han encontrado valores perdidos en el dataset."
   ]
  },
  {
   "cell_type": "markdown",
   "id": "encouraging-criterion",
   "metadata": {
    "papermill": {
     "duration": 0.065522,
     "end_time": "2021-04-09T12:39:24.330367",
     "exception": false,
     "start_time": "2021-04-09T12:39:24.264845",
     "status": "completed"
    },
    "tags": []
   },
   "source": [
    "## Limpieza de Datos"
   ]
  },
  {
   "cell_type": "code",
   "execution_count": 79,
   "id": "eleven-madness",
   "metadata": {
    "execution": {
     "iopub.execute_input": "2021-04-09T12:39:24.465837Z",
     "iopub.status.busy": "2021-04-09T12:39:24.465160Z",
     "iopub.status.idle": "2021-04-09T12:39:24.468011Z",
     "shell.execute_reply": "2021-04-09T12:39:24.468467Z"
    },
    "papermill": {
     "duration": 0.072606,
     "end_time": "2021-04-09T12:39:24.468637",
     "exception": false,
     "start_time": "2021-04-09T12:39:24.396031",
     "status": "completed"
    },
    "tags": []
   },
   "outputs": [
    {
     "data": {
      "text/plain": [
       "['gender',\n",
       " 'SeniorCitizen',\n",
       " 'Partner',\n",
       " 'Dependents',\n",
       " 'PhoneService',\n",
       " 'MultipleLines',\n",
       " 'InternetService',\n",
       " 'OnlineSecurity',\n",
       " 'OnlineBackup',\n",
       " 'DeviceProtection',\n",
       " 'TechSupport',\n",
       " 'StreamingTV',\n",
       " 'StreamingMovies',\n",
       " 'Contract',\n",
       " 'PaperlessBilling',\n",
       " 'PaymentMethod',\n",
       " 'Churn']"
      ]
     },
     "execution_count": 79,
     "metadata": {},
     "output_type": "execute_result"
    }
   ],
   "source": [
    "# Seleccionamos las variables categoricas\n",
    "cat_columns = ['gender', 'SeniorCitizen', 'Partner', 'Dependents',\n",
    "       'PhoneService', 'MultipleLines', 'InternetService', 'OnlineSecurity',\n",
    "       'OnlineBackup', 'DeviceProtection', 'TechSupport', 'StreamingTV',\n",
    "       'StreamingMovies', 'Contract', 'PaperlessBilling', 'PaymentMethod',\n",
    "       'Churn']\n",
    "cat_columns"
   ]
  },
  {
   "cell_type": "code",
   "execution_count": 81,
   "id": "contained-fleece",
   "metadata": {
    "execution": {
     "iopub.execute_input": "2021-04-09T12:39:24.601204Z",
     "iopub.status.busy": "2021-04-09T12:39:24.600510Z",
     "iopub.status.idle": "2021-04-09T12:39:24.603931Z",
     "shell.execute_reply": "2021-04-09T12:39:24.604433Z"
    },
    "papermill": {
     "duration": 0.071037,
     "end_time": "2021-04-09T12:39:24.604601",
     "exception": false,
     "start_time": "2021-04-09T12:39:24.533564",
     "status": "completed"
    },
    "tags": []
   },
   "outputs": [
    {
     "data": {
      "text/plain": [
       "['TotalCharges', 'MonthlyCharges', 'tenure']"
      ]
     },
     "execution_count": 81,
     "metadata": {},
     "output_type": "execute_result"
    }
   ],
   "source": [
    "# Seleccionamos las variables numericas\n",
    "num_columns = ['TotalCharges','MonthlyCharges','tenure']\n",
    "num_columns"
   ]
  },
  {
   "cell_type": "code",
   "execution_count": 83,
   "id": "laughing-humanity",
   "metadata": {
    "_kg_hide-output": true,
    "collapsed": true,
    "execution": {
     "iopub.execute_input": "2021-04-09T12:39:24.736331Z",
     "iopub.status.busy": "2021-04-09T12:39:24.735728Z",
     "iopub.status.idle": "2021-04-09T12:39:24.850936Z",
     "shell.execute_reply": "2021-04-09T12:39:24.851867Z"
    },
    "jupyter": {
     "outputs_hidden": true
    },
    "papermill": {
     "duration": 0.183584,
     "end_time": "2021-04-09T12:39:24.852145",
     "exception": false,
     "start_time": "2021-04-09T12:39:24.668561",
     "status": "completed"
    },
    "tags": []
   },
   "outputs": [
    {
     "name": "stdout",
     "output_type": "stream",
     "text": [
      "\n",
      " \n",
      "************* Column name: gender *************\n",
      "1. Unique values: ['Male' 'Female']\n",
      " \n",
      "2. Min values: Female\n",
      " \n",
      "3. value counts: Male      50.952222\n",
      "Female    49.047778\n",
      "Name: gender, dtype: float64\n",
      " \n",
      "**************************************************\n",
      "***************-end-******************************\n",
      "\n",
      " \n",
      "\n",
      " \n",
      "************* Column name: SeniorCitizen *************\n",
      "1. Unique values: [0 1]\n",
      " \n",
      "2. Min values: 0\n",
      " \n",
      "3. value counts: 0    83.862345\n",
      "1    16.137655\n",
      "Name: SeniorCitizen, dtype: float64\n",
      " \n",
      "**************************************************\n",
      "***************-end-******************************\n",
      "\n",
      " \n",
      "\n",
      " \n",
      "************* Column name: Partner *************\n",
      "1. Unique values: ['Yes' 'No']\n",
      " \n",
      "2. Min values: No\n",
      " \n",
      "3. value counts: No     51.486803\n",
      "Yes    48.513197\n",
      "Name: Partner, dtype: float64\n",
      " \n",
      "**************************************************\n",
      "***************-end-******************************\n",
      "\n",
      " \n",
      "\n",
      " \n",
      "************* Column name: Dependents *************\n",
      "1. Unique values: ['Yes' 'No']\n",
      " \n",
      "2. Min values: No\n",
      " \n",
      "3. value counts: No     70.080187\n",
      "Yes    29.919813\n",
      "Name: Dependents, dtype: float64\n",
      " \n",
      "**************************************************\n",
      "***************-end-******************************\n",
      "\n",
      " \n",
      "\n",
      " \n",
      "************* Column name: PhoneService *************\n",
      "1. Unique values: ['Yes' 'No']\n",
      " \n",
      "2. Min values: No\n",
      " \n",
      "3. value counts: Yes    90.143669\n",
      "No      9.856331\n",
      "Name: PhoneService, dtype: float64\n",
      " \n",
      "**************************************************\n",
      "***************-end-******************************\n",
      "\n",
      " \n",
      "\n",
      " \n",
      "************* Column name: MultipleLines *************\n",
      "1. Unique values: ['Yes' 'No' 'No phone service']\n",
      " \n",
      "2. Min values: No\n",
      " \n",
      "3. value counts: No                  47.577681\n",
      "Yes                 42.565987\n",
      "No phone service     9.856331\n",
      "Name: MultipleLines, dtype: float64\n",
      " \n",
      "**************************************************\n",
      "***************-end-******************************\n",
      "\n",
      " \n",
      "\n",
      " \n",
      "************* Column name: InternetService *************\n",
      "1. Unique values: ['No' 'Fiber optic' 'DSL']\n",
      " \n",
      "2. Min values: DSL\n",
      " \n",
      "3. value counts: Fiber optic    43.885733\n",
      "DSL            34.547277\n",
      "No             21.566990\n",
      "Name: InternetService, dtype: float64\n",
      " \n",
      "**************************************************\n",
      "***************-end-******************************\n",
      "\n",
      " \n",
      "\n",
      " \n",
      "************* Column name: OnlineSecurity *************\n",
      "1. Unique values: ['No internet service' 'No' 'Yes']\n",
      " \n",
      "2. Min values: No\n",
      " \n",
      "3. value counts: No                     49.816238\n",
      "Yes                    28.616772\n",
      "No internet service    21.566990\n",
      "Name: OnlineSecurity, dtype: float64\n",
      " \n",
      "**************************************************\n",
      "***************-end-******************************\n",
      "\n",
      " \n",
      "\n",
      " \n",
      "************* Column name: OnlineBackup *************\n",
      "1. Unique values: ['No internet service' 'Yes' 'No']\n",
      " \n",
      "2. Min values: No\n",
      " \n",
      "3. value counts: No                     43.518209\n",
      "Yes                    34.914801\n",
      "No internet service    21.566990\n",
      "Name: OnlineBackup, dtype: float64\n",
      " \n",
      "**************************************************\n",
      "***************-end-******************************\n",
      "\n",
      " \n",
      "\n",
      " \n",
      "************* Column name: DeviceProtection *************\n",
      "1. Unique values: ['No internet service' 'Yes' 'No']\n",
      " \n",
      "2. Min values: No\n",
      " \n",
      "3. value counts: No                     44.102907\n",
      "Yes                    34.330104\n",
      "No internet service    21.566990\n",
      "Name: DeviceProtection, dtype: float64\n",
      " \n",
      "**************************************************\n",
      "***************-end-******************************\n",
      "\n",
      " \n",
      "\n",
      " \n",
      "************* Column name: TechSupport *************\n",
      "1. Unique values: ['No internet service' 'No' 'Yes']\n",
      " \n",
      "2. Min values: No\n",
      " \n",
      "3. value counts: No                     49.448714\n",
      "Yes                    28.984297\n",
      "No internet service    21.566990\n",
      "Name: TechSupport, dtype: float64\n",
      " \n",
      "**************************************************\n",
      "***************-end-******************************\n",
      "\n",
      " \n",
      "\n",
      " \n",
      "************* Column name: StreamingTV *************\n",
      "1. Unique values: ['No internet service' 'Yes' 'No']\n",
      " \n",
      "2. Min values: No\n",
      " \n",
      "3. value counts: No                     39.909790\n",
      "Yes                    38.523221\n",
      "No internet service    21.566990\n",
      "Name: StreamingTV, dtype: float64\n",
      " \n",
      "**************************************************\n",
      "***************-end-******************************\n",
      "\n",
      " \n",
      "\n",
      " \n",
      "************* Column name: StreamingMovies *************\n",
      "1. Unique values: ['No internet service' 'No' 'Yes']\n",
      " \n",
      "2. Min values: No\n",
      " \n",
      "3. value counts: No                     39.358503\n",
      "Yes                    39.074507\n",
      "No internet service    21.566990\n",
      "Name: StreamingMovies, dtype: float64\n",
      " \n",
      "**************************************************\n",
      "***************-end-******************************\n",
      "\n",
      " \n",
      "\n",
      " \n",
      "************* Column name: Contract *************\n",
      "1. Unique values: ['Two year' 'Month-to-month' 'One year']\n",
      " \n",
      "2. Min values: Month-to-month\n",
      " \n",
      "3. value counts: Month-to-month    54.610758\n",
      "Two year          24.072837\n",
      "One year          21.316405\n",
      "Name: Contract, dtype: float64\n",
      " \n",
      "**************************************************\n",
      "***************-end-******************************\n",
      "\n",
      " \n",
      "\n",
      " \n",
      "************* Column name: PaperlessBilling *************\n",
      "1. Unique values: ['No' 'Yes']\n",
      " \n",
      "2. Min values: No\n",
      " \n",
      "3. value counts: Yes    58.937521\n",
      "No     41.062479\n",
      "Name: PaperlessBilling, dtype: float64\n",
      " \n",
      "**************************************************\n",
      "***************-end-******************************\n",
      "\n",
      " \n",
      "\n",
      " \n",
      "************* Column name: PaymentMethod *************\n",
      "1. Unique values: ['Credit card (automatic)' 'Bank transfer (automatic)' 'Electronic check'\n",
      " 'Mailed check']\n",
      " \n",
      "2. Min values: Bank transfer (automatic)\n",
      " \n",
      "3. value counts: Electronic check             33.511527\n",
      "Mailed check                 22.870030\n",
      "Bank transfer (automatic)    21.850986\n",
      "Credit card (automatic)      21.767457\n",
      "Name: PaymentMethod, dtype: float64\n",
      " \n",
      "**************************************************\n",
      "***************-end-******************************\n",
      "\n",
      " \n",
      "\n",
      " \n",
      "************* Column name: Churn *************\n",
      "1. Unique values: ['No' 'Yes']\n",
      " \n",
      "2. Min values: No\n",
      " \n",
      "3. value counts: No     73.488139\n",
      "Yes    26.511861\n",
      "Name: Churn, dtype: float64\n",
      " \n",
      "**************************************************\n",
      "***************-end-******************************\n",
      "\n",
      " \n"
     ]
    }
   ],
   "source": [
    "# Realizamos un análisis descriptivo de las variables categoricas\n",
    "\n",
    "#\"\"\"\n",
    "for feature in df[cat_columns].columns:\n",
    "    print('\\n ')\n",
    "    print('*************','Column name:',feature,'*************')\n",
    "    print('1. Unique values:',df[feature].unique())\n",
    "    print(' ')\n",
    "    print('2. Min values:',df[feature].min())\n",
    "    print(' ')\n",
    "    print('3. value counts:',df[feature].value_counts(1)*100)\n",
    "    print(' ')\n",
    "    print('**************************************************')\n",
    "    print('***************-end-******************************')\n",
    "    print('\\n ')\n",
    "\n",
    "#\"\"\""
   ]
  },
  {
   "cell_type": "code",
   "execution_count": 84,
   "id": "growing-asbestos",
   "metadata": {
    "execution": {
     "iopub.execute_input": "2021-04-09T12:39:24.998125Z",
     "iopub.status.busy": "2021-04-09T12:39:24.997347Z",
     "iopub.status.idle": "2021-04-09T12:39:25.004940Z",
     "shell.execute_reply": "2021-04-09T12:39:25.006152Z"
    },
    "papermill": {
     "duration": 0.084023,
     "end_time": "2021-04-09T12:39:25.006356",
     "exception": false,
     "start_time": "2021-04-09T12:39:24.922333",
     "status": "completed"
    },
    "tags": []
   },
   "outputs": [
    {
     "name": "stdout",
     "output_type": "stream",
     "text": [
      "******* Column name: TotalCharges *******\n",
      "Min values:  \n",
      "Max values: 999.9\n",
      "***********-end-***********\n",
      "\n",
      "\n",
      "******* Column name: MonthlyCharges *******\n",
      "Min values: 18.25\n",
      "Max values: 118.75\n",
      "***********-end-***********\n",
      "\n",
      "\n",
      "******* Column name: tenure *******\n",
      "Min values: 0\n",
      "Max values: 72\n",
      "***********-end-***********\n",
      "\n",
      "\n"
     ]
    }
   ],
   "source": [
    "# Realizamos un análisis descriptivo de las variables numericas\n",
    "\n",
    "for feature in df[num_columns].columns:\n",
    "    print('*******','Column name:',feature,'*******')\n",
    "    \n",
    "    print('Min values:',df[feature].min())\n",
    "    print('Max values:',df[feature].max())\n",
    "    \n",
    "    print('***********-end-***********')\n",
    "    print('\\n')"
   ]
  },
  {
   "cell_type": "markdown",
   "id": "455594ee",
   "metadata": {},
   "source": [
    "Podemos evidenciar que los campos 'TotalCharges' y 'tenure' presentan registros con valores vacíos y 0, respectivamente"
   ]
  },
  {
   "cell_type": "code",
   "execution_count": 86,
   "id": "impossible-retention",
   "metadata": {
    "execution": {
     "iopub.execute_input": "2021-04-09T12:39:25.145251Z",
     "iopub.status.busy": "2021-04-09T12:39:25.144455Z",
     "iopub.status.idle": "2021-04-09T12:39:25.148279Z",
     "shell.execute_reply": "2021-04-09T12:39:25.147645Z"
    },
    "papermill": {
     "duration": 0.075384,
     "end_time": "2021-04-09T12:39:25.148415",
     "exception": false,
     "start_time": "2021-04-09T12:39:25.073031",
     "status": "completed"
    },
    "tags": []
   },
   "outputs": [
    {
     "data": {
      "text/plain": [
       "' '"
      ]
     },
     "execution_count": 86,
     "metadata": {},
     "output_type": "execute_result"
    }
   ],
   "source": [
    "# Validamos los registros con valores vacíos en el campo 'TotalCharges'\n",
    "\n",
    "df['TotalCharges'].min()"
   ]
  },
  {
   "cell_type": "code",
   "execution_count": 87,
   "id": "distributed-caution",
   "metadata": {
    "execution": {
     "iopub.execute_input": "2021-04-09T12:39:25.288102Z",
     "iopub.status.busy": "2021-04-09T12:39:25.287267Z",
     "iopub.status.idle": "2021-04-09T12:39:25.308860Z",
     "shell.execute_reply": "2021-04-09T12:39:25.309399Z"
    },
    "papermill": {
     "duration": 0.095318,
     "end_time": "2021-04-09T12:39:25.309589",
     "exception": false,
     "start_time": "2021-04-09T12:39:25.214271",
     "status": "completed"
    },
    "tags": []
   },
   "outputs": [
    {
     "data": {
      "text/html": [
       "<div>\n",
       "<style scoped>\n",
       "    .dataframe tbody tr th:only-of-type {\n",
       "        vertical-align: middle;\n",
       "    }\n",
       "\n",
       "    .dataframe tbody tr th {\n",
       "        vertical-align: top;\n",
       "    }\n",
       "\n",
       "    .dataframe thead th {\n",
       "        text-align: right;\n",
       "    }\n",
       "</style>\n",
       "<table border=\"1\" class=\"dataframe\">\n",
       "  <thead>\n",
       "    <tr style=\"text-align: right;\">\n",
       "      <th></th>\n",
       "      <th>customerID</th>\n",
       "      <th>gender</th>\n",
       "      <th>SeniorCitizen</th>\n",
       "      <th>Partner</th>\n",
       "      <th>Dependents</th>\n",
       "      <th>tenure</th>\n",
       "      <th>PhoneService</th>\n",
       "      <th>MultipleLines</th>\n",
       "      <th>InternetService</th>\n",
       "      <th>OnlineSecurity</th>\n",
       "      <th>...</th>\n",
       "      <th>DeviceProtection</th>\n",
       "      <th>TechSupport</th>\n",
       "      <th>StreamingTV</th>\n",
       "      <th>StreamingMovies</th>\n",
       "      <th>Contract</th>\n",
       "      <th>PaperlessBilling</th>\n",
       "      <th>PaymentMethod</th>\n",
       "      <th>MonthlyCharges</th>\n",
       "      <th>TotalCharges</th>\n",
       "      <th>Churn</th>\n",
       "    </tr>\n",
       "  </thead>\n",
       "  <tbody>\n",
       "    <tr>\n",
       "      <th>6754</th>\n",
       "      <td>2775-SEFEE</td>\n",
       "      <td>Male</td>\n",
       "      <td>0</td>\n",
       "      <td>No</td>\n",
       "      <td>Yes</td>\n",
       "      <td>0</td>\n",
       "      <td>Yes</td>\n",
       "      <td>Yes</td>\n",
       "      <td>DSL</td>\n",
       "      <td>Yes</td>\n",
       "      <td>...</td>\n",
       "      <td>No</td>\n",
       "      <td>Yes</td>\n",
       "      <td>No</td>\n",
       "      <td>No</td>\n",
       "      <td>Two year</td>\n",
       "      <td>Yes</td>\n",
       "      <td>Bank transfer (automatic)</td>\n",
       "      <td>61.90</td>\n",
       "      <td></td>\n",
       "      <td>No</td>\n",
       "    </tr>\n",
       "    <tr>\n",
       "      <th>1340</th>\n",
       "      <td>1371-DWPAZ</td>\n",
       "      <td>Female</td>\n",
       "      <td>0</td>\n",
       "      <td>Yes</td>\n",
       "      <td>Yes</td>\n",
       "      <td>0</td>\n",
       "      <td>No</td>\n",
       "      <td>No phone service</td>\n",
       "      <td>DSL</td>\n",
       "      <td>Yes</td>\n",
       "      <td>...</td>\n",
       "      <td>Yes</td>\n",
       "      <td>Yes</td>\n",
       "      <td>Yes</td>\n",
       "      <td>No</td>\n",
       "      <td>Two year</td>\n",
       "      <td>No</td>\n",
       "      <td>Credit card (automatic)</td>\n",
       "      <td>56.05</td>\n",
       "      <td></td>\n",
       "      <td>No</td>\n",
       "    </tr>\n",
       "    <tr>\n",
       "      <th>3826</th>\n",
       "      <td>3213-VVOLG</td>\n",
       "      <td>Male</td>\n",
       "      <td>0</td>\n",
       "      <td>Yes</td>\n",
       "      <td>Yes</td>\n",
       "      <td>0</td>\n",
       "      <td>Yes</td>\n",
       "      <td>Yes</td>\n",
       "      <td>No</td>\n",
       "      <td>No internet service</td>\n",
       "      <td>...</td>\n",
       "      <td>No internet service</td>\n",
       "      <td>No internet service</td>\n",
       "      <td>No internet service</td>\n",
       "      <td>No internet service</td>\n",
       "      <td>Two year</td>\n",
       "      <td>No</td>\n",
       "      <td>Mailed check</td>\n",
       "      <td>25.35</td>\n",
       "      <td></td>\n",
       "      <td>No</td>\n",
       "    </tr>\n",
       "  </tbody>\n",
       "</table>\n",
       "<p>3 rows × 21 columns</p>\n",
       "</div>"
      ],
      "text/plain": [
       "      customerID  gender  SeniorCitizen Partner Dependents  tenure  \\\n",
       "6754  2775-SEFEE    Male              0      No        Yes       0   \n",
       "1340  1371-DWPAZ  Female              0     Yes        Yes       0   \n",
       "3826  3213-VVOLG    Male              0     Yes        Yes       0   \n",
       "\n",
       "     PhoneService     MultipleLines InternetService       OnlineSecurity  ...  \\\n",
       "6754          Yes               Yes             DSL                  Yes  ...   \n",
       "1340           No  No phone service             DSL                  Yes  ...   \n",
       "3826          Yes               Yes              No  No internet service  ...   \n",
       "\n",
       "         DeviceProtection          TechSupport          StreamingTV  \\\n",
       "6754                   No                  Yes                   No   \n",
       "1340                  Yes                  Yes                  Yes   \n",
       "3826  No internet service  No internet service  No internet service   \n",
       "\n",
       "          StreamingMovies  Contract PaperlessBilling  \\\n",
       "6754                   No  Two year              Yes   \n",
       "1340                   No  Two year               No   \n",
       "3826  No internet service  Two year               No   \n",
       "\n",
       "                  PaymentMethod MonthlyCharges  TotalCharges Churn  \n",
       "6754  Bank transfer (automatic)          61.90                  No  \n",
       "1340    Credit card (automatic)          56.05                  No  \n",
       "3826               Mailed check          25.35                  No  \n",
       "\n",
       "[3 rows x 21 columns]"
      ]
     },
     "execution_count": 87,
     "metadata": {},
     "output_type": "execute_result"
    }
   ],
   "source": [
    "# Seleccionamos los registros donde el campo 'TotalCharges' esta vacío\n",
    "\n",
    "df[df['TotalCharges'] == df['TotalCharges'].min()][0:3]"
   ]
  },
  {
   "cell_type": "code",
   "execution_count": 89,
   "id": "mechanical-annual",
   "metadata": {
    "execution": {
     "iopub.execute_input": "2021-04-09T12:39:25.448252Z",
     "iopub.status.busy": "2021-04-09T12:39:25.447596Z",
     "iopub.status.idle": "2021-04-09T12:39:25.455413Z",
     "shell.execute_reply": "2021-04-09T12:39:25.454888Z"
    },
    "papermill": {
     "duration": 0.077695,
     "end_time": "2021-04-09T12:39:25.455557",
     "exception": false,
     "start_time": "2021-04-09T12:39:25.377862",
     "status": "completed"
    },
    "tags": []
   },
   "outputs": [],
   "source": [
    "# Reemplazamos los espacios vacíos por la mediana del campo 'TotalCharges'\n",
    "df['TotalCharges'] =  df['TotalCharges'].replace(' ',2298.06)"
   ]
  },
  {
   "cell_type": "code",
   "execution_count": 90,
   "id": "english-veteran",
   "metadata": {
    "execution": {
     "iopub.execute_input": "2021-04-09T12:39:25.596620Z",
     "iopub.status.busy": "2021-04-09T12:39:25.595998Z",
     "iopub.status.idle": "2021-04-09T12:39:25.599043Z",
     "shell.execute_reply": "2021-04-09T12:39:25.598505Z"
    },
    "papermill": {
     "duration": 0.076503,
     "end_time": "2021-04-09T12:39:25.599186",
     "exception": false,
     "start_time": "2021-04-09T12:39:25.522683",
     "status": "completed"
    },
    "tags": []
   },
   "outputs": [],
   "source": [
    "# Cambiamos el tipo de dato a Float\n",
    "\n",
    "df['TotalCharges'] =  df['TotalCharges'].astype(float)"
   ]
  },
  {
   "cell_type": "code",
   "execution_count": 93,
   "id": "marked-identification",
   "metadata": {
    "execution": {
     "iopub.execute_input": "2021-04-09T12:39:25.737893Z",
     "iopub.status.busy": "2021-04-09T12:39:25.737173Z",
     "iopub.status.idle": "2021-04-09T12:39:25.759758Z",
     "shell.execute_reply": "2021-04-09T12:39:25.759205Z"
    },
    "papermill": {
     "duration": 0.09421,
     "end_time": "2021-04-09T12:39:25.759912",
     "exception": false,
     "start_time": "2021-04-09T12:39:25.665702",
     "status": "completed"
    },
    "tags": []
   },
   "outputs": [
    {
     "data": {
      "text/html": [
       "<div>\n",
       "<style scoped>\n",
       "    .dataframe tbody tr th:only-of-type {\n",
       "        vertical-align: middle;\n",
       "    }\n",
       "\n",
       "    .dataframe tbody tr th {\n",
       "        vertical-align: top;\n",
       "    }\n",
       "\n",
       "    .dataframe thead th {\n",
       "        text-align: right;\n",
       "    }\n",
       "</style>\n",
       "<table border=\"1\" class=\"dataframe\">\n",
       "  <thead>\n",
       "    <tr style=\"text-align: right;\">\n",
       "      <th></th>\n",
       "      <th>customerID</th>\n",
       "      <th>gender</th>\n",
       "      <th>SeniorCitizen</th>\n",
       "      <th>Partner</th>\n",
       "      <th>Dependents</th>\n",
       "      <th>tenure</th>\n",
       "      <th>PhoneService</th>\n",
       "      <th>MultipleLines</th>\n",
       "      <th>InternetService</th>\n",
       "      <th>OnlineSecurity</th>\n",
       "      <th>...</th>\n",
       "      <th>DeviceProtection</th>\n",
       "      <th>TechSupport</th>\n",
       "      <th>StreamingTV</th>\n",
       "      <th>StreamingMovies</th>\n",
       "      <th>Contract</th>\n",
       "      <th>PaperlessBilling</th>\n",
       "      <th>PaymentMethod</th>\n",
       "      <th>MonthlyCharges</th>\n",
       "      <th>TotalCharges</th>\n",
       "      <th>Churn</th>\n",
       "    </tr>\n",
       "  </thead>\n",
       "  <tbody>\n",
       "    <tr>\n",
       "      <th>6754</th>\n",
       "      <td>2775-SEFEE</td>\n",
       "      <td>Male</td>\n",
       "      <td>0</td>\n",
       "      <td>No</td>\n",
       "      <td>Yes</td>\n",
       "      <td>0</td>\n",
       "      <td>Yes</td>\n",
       "      <td>Yes</td>\n",
       "      <td>DSL</td>\n",
       "      <td>Yes</td>\n",
       "      <td>...</td>\n",
       "      <td>No</td>\n",
       "      <td>Yes</td>\n",
       "      <td>No</td>\n",
       "      <td>No</td>\n",
       "      <td>Two year</td>\n",
       "      <td>Yes</td>\n",
       "      <td>Bank transfer (automatic)</td>\n",
       "      <td>61.90</td>\n",
       "      <td>2298.06</td>\n",
       "      <td>No</td>\n",
       "    </tr>\n",
       "    <tr>\n",
       "      <th>1340</th>\n",
       "      <td>1371-DWPAZ</td>\n",
       "      <td>Female</td>\n",
       "      <td>0</td>\n",
       "      <td>Yes</td>\n",
       "      <td>Yes</td>\n",
       "      <td>0</td>\n",
       "      <td>No</td>\n",
       "      <td>No phone service</td>\n",
       "      <td>DSL</td>\n",
       "      <td>Yes</td>\n",
       "      <td>...</td>\n",
       "      <td>Yes</td>\n",
       "      <td>Yes</td>\n",
       "      <td>Yes</td>\n",
       "      <td>No</td>\n",
       "      <td>Two year</td>\n",
       "      <td>No</td>\n",
       "      <td>Credit card (automatic)</td>\n",
       "      <td>56.05</td>\n",
       "      <td>2298.06</td>\n",
       "      <td>No</td>\n",
       "    </tr>\n",
       "    <tr>\n",
       "      <th>3826</th>\n",
       "      <td>3213-VVOLG</td>\n",
       "      <td>Male</td>\n",
       "      <td>0</td>\n",
       "      <td>Yes</td>\n",
       "      <td>Yes</td>\n",
       "      <td>0</td>\n",
       "      <td>Yes</td>\n",
       "      <td>Yes</td>\n",
       "      <td>No</td>\n",
       "      <td>No internet service</td>\n",
       "      <td>...</td>\n",
       "      <td>No internet service</td>\n",
       "      <td>No internet service</td>\n",
       "      <td>No internet service</td>\n",
       "      <td>No internet service</td>\n",
       "      <td>Two year</td>\n",
       "      <td>No</td>\n",
       "      <td>Mailed check</td>\n",
       "      <td>25.35</td>\n",
       "      <td>2298.06</td>\n",
       "      <td>No</td>\n",
       "    </tr>\n",
       "  </tbody>\n",
       "</table>\n",
       "<p>3 rows × 21 columns</p>\n",
       "</div>"
      ],
      "text/plain": [
       "      customerID  gender  SeniorCitizen Partner Dependents  tenure  \\\n",
       "6754  2775-SEFEE    Male              0      No        Yes       0   \n",
       "1340  1371-DWPAZ  Female              0     Yes        Yes       0   \n",
       "3826  3213-VVOLG    Male              0     Yes        Yes       0   \n",
       "\n",
       "     PhoneService     MultipleLines InternetService       OnlineSecurity  ...  \\\n",
       "6754          Yes               Yes             DSL                  Yes  ...   \n",
       "1340           No  No phone service             DSL                  Yes  ...   \n",
       "3826          Yes               Yes              No  No internet service  ...   \n",
       "\n",
       "         DeviceProtection          TechSupport          StreamingTV  \\\n",
       "6754                   No                  Yes                   No   \n",
       "1340                  Yes                  Yes                  Yes   \n",
       "3826  No internet service  No internet service  No internet service   \n",
       "\n",
       "          StreamingMovies  Contract PaperlessBilling  \\\n",
       "6754                   No  Two year              Yes   \n",
       "1340                   No  Two year               No   \n",
       "3826  No internet service  Two year               No   \n",
       "\n",
       "                  PaymentMethod MonthlyCharges  TotalCharges  Churn  \n",
       "6754  Bank transfer (automatic)          61.90       2298.06     No  \n",
       "1340    Credit card (automatic)          56.05       2298.06     No  \n",
       "3826               Mailed check          25.35       2298.06     No  \n",
       "\n",
       "[3 rows x 21 columns]"
      ]
     },
     "execution_count": 93,
     "metadata": {},
     "output_type": "execute_result"
    }
   ],
   "source": [
    "# Validamos los registros con valores vacíos en el campo 'tenure'\n",
    "df[df['tenure']==0][0:3]"
   ]
  },
  {
   "cell_type": "code",
   "execution_count": 96,
   "id": "viral-bonus",
   "metadata": {
    "execution": {
     "iopub.execute_input": "2021-04-09T12:39:25.899177Z",
     "iopub.status.busy": "2021-04-09T12:39:25.898525Z",
     "iopub.status.idle": "2021-04-09T12:39:25.902638Z",
     "shell.execute_reply": "2021-04-09T12:39:25.903136Z"
    },
    "papermill": {
     "duration": 0.074943,
     "end_time": "2021-04-09T12:39:25.903350",
     "exception": false,
     "start_time": "2021-04-09T12:39:25.828407",
     "status": "completed"
    },
    "tags": []
   },
   "outputs": [],
   "source": [
    "# Reemplazamos los registros con valor 0 con la mediana del campo 'tenure'\n",
    "df['tenure'] =  df['tenure'].replace(0,29)"
   ]
  },
  {
   "cell_type": "markdown",
   "id": "3fb30586",
   "metadata": {},
   "source": [
    "# 8. Visualización de datos\n",
    "La capacidad de analizar grandes cantidades de datos y obtener información útil tiene poco valor si los únicos que pueden interpretar los resultados son los analistas.\n",
    "La etapa de visualización de datos se dedica a utilizar técnicas y herramientas de visualización de datos para comunicar gráficamente los resultados del análisis con vistas a una interpretación eficaz por parte de los usuarios empresariales."
   ]
  },
  {
   "cell_type": "markdown",
   "id": "increasing-brisbane",
   "metadata": {
    "papermill": {
     "duration": 0.067142,
     "end_time": "2021-04-09T12:39:26.039542",
     "exception": false,
     "start_time": "2021-04-09T12:39:25.972400",
     "status": "completed"
    },
    "tags": []
   },
   "source": [
    "## Análisis de correlación"
   ]
  },
  {
   "cell_type": "code",
   "execution_count": 97,
   "id": "previous-duplicate",
   "metadata": {
    "_kg_hide-input": true,
    "execution": {
     "iopub.execute_input": "2021-04-09T12:39:26.179073Z",
     "iopub.status.busy": "2021-04-09T12:39:26.178467Z",
     "iopub.status.idle": "2021-04-09T12:39:26.417645Z",
     "shell.execute_reply": "2021-04-09T12:39:26.418575Z"
    },
    "papermill": {
     "duration": 0.311532,
     "end_time": "2021-04-09T12:39:26.418877",
     "exception": false,
     "start_time": "2021-04-09T12:39:26.107345",
     "status": "completed"
    },
    "tags": []
   },
   "outputs": [
    {
     "data": {
      "image/png": "[encoded data removed]",
      "text/plain": [
       "<Figure size 800x400 with 2 Axes>"
      ]
     },
     "metadata": {},
     "output_type": "display_data"
    }
   ],
   "source": [
    "# Gráfico de correlación\n",
    "plt.figure(figsize=(8,4))\n",
    "sns.set_context(context='notebook',font_scale=1.2)\n",
    "sns.heatmap(df[['TotalCharges','MonthlyCharges']].corr('pearson'),annot=True,cmap='Blues');\n",
    "plt.title('Pearson correlation');\n",
    "plt.tight_layout();"
   ]
  },
  {
   "cell_type": "markdown",
   "id": "wound-particle",
   "metadata": {
    "papermill": {
     "duration": 0.068782,
     "end_time": "2021-04-09T12:39:26.565879",
     "exception": false,
     "start_time": "2021-04-09T12:39:26.497097",
     "status": "completed"
    },
    "tags": []
   },
   "source": [
    "\n",
    "Como se evidencia en el gráfico anteriore, los gastos mensuales tienen una correlación ligeramente positiva con los gastos totales."
   ]
  },
  {
   "cell_type": "markdown",
   "id": "immediate-administrator",
   "metadata": {
    "papermill": {
     "duration": 0.068871,
     "end_time": "2021-04-09T12:39:26.703467",
     "exception": false,
     "start_time": "2021-04-09T12:39:26.634596",
     "status": "completed"
    },
    "tags": []
   },
   "source": [
    "## Transformación de Datos"
   ]
  },
  {
   "cell_type": "code",
   "execution_count": 99,
   "id": "identical-saskatchewan",
   "metadata": {
    "execution": {
     "iopub.execute_input": "2021-04-09T12:39:26.846897Z",
     "iopub.status.busy": "2021-04-09T12:39:26.846217Z",
     "iopub.status.idle": "2021-04-09T12:39:26.876603Z",
     "shell.execute_reply": "2021-04-09T12:39:26.877147Z"
    },
    "papermill": {
     "duration": 0.103157,
     "end_time": "2021-04-09T12:39:26.877354",
     "exception": false,
     "start_time": "2021-04-09T12:39:26.774197",
     "status": "completed"
    },
    "tags": []
   },
   "outputs": [],
   "source": [
    "# Transformamos las variables categoricas a numéricas\n",
    "for features in df[cat_columns].columns:\n",
    "    df[features] = pd.Categorical(df[features]).codes "
   ]
  },
  {
   "cell_type": "markdown",
   "id": "private-transcription",
   "metadata": {
    "papermill": {
     "duration": 0.06912,
     "end_time": "2021-04-09T12:39:27.016176",
     "exception": false,
     "start_time": "2021-04-09T12:39:26.947056",
     "status": "completed"
    },
    "tags": []
   },
   "source": [
    "## Identificamos posibles Outliers"
   ]
  },
  {
   "cell_type": "code",
   "execution_count": 100,
   "id": "compressed-mission",
   "metadata": {
    "execution": {
     "iopub.execute_input": "2021-04-09T12:39:27.159157Z",
     "iopub.status.busy": "2021-04-09T12:39:27.158533Z",
     "iopub.status.idle": "2021-04-09T12:39:27.890623Z",
     "shell.execute_reply": "2021-04-09T12:39:27.891158Z"
    },
    "papermill": {
     "duration": 0.804927,
     "end_time": "2021-04-09T12:39:27.891327",
     "exception": false,
     "start_time": "2021-04-09T12:39:27.086400",
     "status": "completed"
    },
    "tags": []
   },
   "outputs": [
    {
     "data": {
      "image/png": "[encoded data removed]",
      "text/plain": [
       "<Figure size 1200x400 with 1 Axes>"
      ]
     },
     "metadata": {},
     "output_type": "display_data"
    }
   ],
   "source": [
    "# Graficamos los valores atípicos\n",
    "plt.style.use('fivethirtyeight')\n",
    "df.plot(kind='box',figsize=(12,4))\n",
    "plt.xticks(rotation=70);\n",
    "plt.title('Outliers check');"
   ]
  },
  {
   "cell_type": "code",
   "execution_count": 101,
   "id": "impaired-inventory",
   "metadata": {
    "_kg_hide-input": true,
    "execution": {
     "iopub.execute_input": "2021-04-09T12:39:28.044090Z",
     "iopub.status.busy": "2021-04-09T12:39:28.043376Z",
     "iopub.status.idle": "2021-04-09T12:39:28.046479Z",
     "shell.execute_reply": "2021-04-09T12:39:28.045987Z"
    },
    "jupyter": {
     "source_hidden": true
    },
    "papermill": {
     "duration": 0.081336,
     "end_time": "2021-04-09T12:39:28.046616",
     "exception": false,
     "start_time": "2021-04-09T12:39:27.965280",
     "status": "completed"
    },
    "tags": []
   },
   "outputs": [],
   "source": [
    "#\"\"\"\n",
    "def treat_outlier(x):\n",
    "    sorted(x)\n",
    "    q1,q3=np.percentile(x,[25,75])\n",
    "    iqr=q3-q1\n",
    "    l_r=q1-(1.5*iqr)\n",
    "    u_r=q3+(1.5*iqr)\n",
    "    return l_r,u_r  \n",
    "#\""
   ]
  },
  {
   "cell_type": "code",
   "execution_count": 109,
   "id": "superb-reader",
   "metadata": {
    "_kg_hide-input": true,
    "execution": {
     "iopub.execute_input": "2021-04-09T12:39:28.198146Z",
     "iopub.status.busy": "2021-04-09T12:39:28.197461Z",
     "iopub.status.idle": "2021-04-09T12:39:28.211965Z",
     "shell.execute_reply": "2021-04-09T12:39:28.212484Z"
    },
    "jupyter": {
     "source_hidden": true
    },
    "papermill": {
     "duration": 0.093348,
     "end_time": "2021-04-09T12:39:28.212654",
     "exception": false,
     "start_time": "2021-04-09T12:39:28.119306",
     "status": "completed"
    },
    "tags": []
   },
   "outputs": [],
   "source": [
    "#\"\"\"\n",
    "\n",
    "for i in df[num_columns].columns:\n",
    "    lr,ur = treat_outlier(df[i])\n",
    "    df[i] = np.where(df[i]>ur,ur,df[i])\n",
    "    df[i] = np.where(df[i]<lr,lr,df[i])\n",
    "#\"\"\""
   ]
  },
  {
   "cell_type": "markdown",
   "id": "metric-salad",
   "metadata": {
    "papermill": {
     "duration": 0.073043,
     "end_time": "2021-04-09T12:39:28.357484",
     "exception": false,
     "start_time": "2021-04-09T12:39:28.284441",
     "status": "completed"
    },
    "tags": []
   },
   "source": [
    "## División de Datos"
   ]
  },
  {
   "cell_type": "code",
   "execution_count": 120,
   "id": "behavioral-bachelor",
   "metadata": {
    "execution": {
     "iopub.execute_input": "2021-04-09T12:39:28.509085Z",
     "iopub.status.busy": "2021-04-09T12:39:28.507028Z",
     "iopub.status.idle": "2021-04-09T12:39:28.512880Z",
     "shell.execute_reply": "2021-04-09T12:39:28.512214Z"
    },
    "papermill": {
     "duration": 0.083395,
     "end_time": "2021-04-09T12:39:28.513023",
     "exception": false,
     "start_time": "2021-04-09T12:39:28.429628",
     "status": "completed"
    },
    "tags": []
   },
   "outputs": [],
   "source": [
    "X= df.drop('Churn',axis=1)\n",
    "y= df.pop('Churn')"
   ]
  },
  {
   "cell_type": "code",
   "execution_count": 111,
   "id": "viral-cameroon",
   "metadata": {
    "execution": {
     "iopub.execute_input": "2021-04-09T12:39:28.666705Z",
     "iopub.status.busy": "2021-04-09T12:39:28.665795Z",
     "iopub.status.idle": "2021-04-09T12:39:28.670268Z",
     "shell.execute_reply": "2021-04-09T12:39:28.670855Z"
    },
    "papermill": {
     "duration": 0.085931,
     "end_time": "2021-04-09T12:39:28.671056",
     "exception": false,
     "start_time": "2021-04-09T12:39:28.585125",
     "status": "completed"
    },
    "tags": []
   },
   "outputs": [],
   "source": [
    "from sklearn.model_selection import train_test_split\n",
    "\n",
    "X_train, X_test,y_train,y_test = train_test_split(X,y,test_size=30,random_state =1)"
   ]
  },
  {
   "cell_type": "markdown",
   "id": "dc5460a8",
   "metadata": {
    "papermill": {
     "duration": 0.073043,
     "end_time": "2021-04-09T12:39:28.357484",
     "exception": false,
     "start_time": "2021-04-09T12:39:28.284441",
     "status": "completed"
    },
    "tags": []
   },
   "source": [
    "## Escalado de Datos"
   ]
  },
  {
   "cell_type": "code",
   "execution_count": 121,
   "id": "historic-mistress",
   "metadata": {
    "execution": {
     "iopub.execute_input": "2021-04-09T12:39:28.970707Z",
     "iopub.status.busy": "2021-04-09T12:39:28.969922Z",
     "iopub.status.idle": "2021-04-09T12:39:28.980907Z",
     "shell.execute_reply": "2021-04-09T12:39:28.980272Z"
    },
    "papermill": {
     "duration": 0.091875,
     "end_time": "2021-04-09T12:39:28.981046",
     "exception": false,
     "start_time": "2021-04-09T12:39:28.889171",
     "status": "completed"
    },
    "tags": []
   },
   "outputs": [],
   "source": [
    "sc = StandardScaler()\n",
    "\n",
    "X_train = sc.fit_transform(X_train)\n",
    "X_test = sc.transform(X_test)"
   ]
  },
  {
   "cell_type": "markdown",
   "id": "proud-philippines",
   "metadata": {
    "papermill": {
     "duration": 0.072149,
     "end_time": "2021-04-09T12:39:28.815951",
     "exception": false,
     "start_time": "2021-04-09T12:39:28.743802",
     "status": "completed"
    },
    "tags": []
   },
   "source": [
    "💡**Escalado de Datos:** El escalado va a transformar los valores de las características de forma que estén confinados en un rango [a, b], típicamente [0, 1] o [-1, 1]. La normalización va a transformar las características de forma que todas compartan un mismo valor medio y una misma desviación media, por ejemplo."
   ]
  },
  {
   "cell_type": "markdown",
   "id": "martial-mailing",
   "metadata": {
    "papermill": {
     "duration": 0.072471,
     "end_time": "2021-04-09T12:39:29.126184",
     "exception": false,
     "start_time": "2021-04-09T12:39:29.053713",
     "status": "completed"
    },
    "tags": []
   },
   "source": [
    "## Sobremuestreo"
   ]
  },
  {
   "cell_type": "code",
   "execution_count": 122,
   "id": "suspected-cemetery",
   "metadata": {
    "execution": {
     "iopub.execute_input": "2021-04-09T12:39:29.279043Z",
     "iopub.status.busy": "2021-04-09T12:39:29.278348Z",
     "iopub.status.idle": "2021-04-09T12:39:29.385028Z",
     "shell.execute_reply": "2021-04-09T12:39:29.385931Z"
    },
    "papermill": {
     "duration": 0.185732,
     "end_time": "2021-04-09T12:39:29.386211",
     "exception": false,
     "start_time": "2021-04-09T12:39:29.200479",
     "status": "completed"
    },
    "tags": []
   },
   "outputs": [],
   "source": [
    "## Sobremuestreo con SMOTE\n",
    "\n",
    "SMOTE_oversample = SMOTE(random_state=1)\n",
    "X_train,y_train = SMOTE_oversample.fit_resample(X_train, y_train.ravel())"
   ]
  },
  {
   "cell_type": "markdown",
   "id": "short-penguin",
   "metadata": {
    "papermill": {
     "duration": 0.072485,
     "end_time": "2021-04-09T12:39:29.695897",
     "exception": false,
     "start_time": "2021-04-09T12:39:29.623412",
     "status": "completed"
    },
    "tags": []
   },
   "source": [
    "# Implementación modelo Churn"
   ]
  },
  {
   "cell_type": "markdown",
   "id": "07397964",
   "metadata": {},
   "source": [
    "## Modelo con Árboles de decisión"
   ]
  },
  {
   "cell_type": "code",
   "execution_count": null,
   "id": "af6ec464",
   "metadata": {},
   "outputs": [],
   "source": [
    "# Importamos librerías\n",
    "from sklearn.tree import DecisionTreeClassifier"
   ]
  },
  {
   "cell_type": "code",
   "execution_count": 125,
   "id": "expanded-monitoring",
   "metadata": {
    "execution": {
     "iopub.execute_input": "2021-04-09T12:39:30.139937Z",
     "iopub.status.busy": "2021-04-09T12:39:30.139175Z",
     "iopub.status.idle": "2021-04-09T12:39:30.363445Z",
     "shell.execute_reply": "2021-04-09T12:39:30.362904Z"
    },
    "papermill": {
     "duration": 0.306746,
     "end_time": "2021-04-09T12:39:30.363596",
     "exception": false,
     "start_time": "2021-04-09T12:39:30.056850",
     "status": "completed"
    },
    "tags": []
   },
   "outputs": [],
   "source": [
    "DT_model= DecisionTreeClassifier(max_features= 5,max_depth= 10,min_samples_split= 90,min_samples_leaf= 30,random_state=1)\n",
    "\n",
    "# Ajuste del modelo\n",
    "DT_model.fit(X_train,y_train)\n",
    "\n",
    "# Score modelo\n",
    "predict_train_DT = DT_model.predict(X_train)\n",
    "predict_test_DT = DT_model.predict(X_test)\n",
    "\n",
    "# Accuracy\n",
    "DT_train_score = DT_model.score(X_train,y_train)\n",
    "DT_test_score = DT_model.score(X_test,y_test)\n",
    "\n",
    "# f1-Score\n",
    "DT_f1_score = metrics.f1_score(y_test, predict_test_DT)\n",
    "\n",
    "print('Accuracy en el set entrenamiento:',DT_train_score)\n",
    "print('Accuracy en el set de prueba:',DT_test_score)\n",
    "print('F1-score en el set de prueba:',DT_f1_score)\n",
    "print('\\n')\n",
    "print(metrics.classification_report(y_test, predict_test_DT))\n",
    "print('\\n')\n",
    "\n",
    "# Matriz de confusión\n",
    "metrics.plot_confusion_matrix(DT_model,X_test,y_test,cmap='Blues');\n",
    "plt.grid(False)\n",
    "plt.title('Matriz de confusión en set de prueba');\n"
   ]
  },
  {
   "cell_type": "markdown",
   "id": "e2dd3903",
   "metadata": {},
   "source": [
    "## Modelo con Random Forest"
   ]
  },
  {
   "cell_type": "code",
   "execution_count": 119,
   "id": "1c885689",
   "metadata": {},
   "outputs": [],
   "source": [
    "# Importamos librerías\n",
    "from sklearn.ensemble import RandomForestClassifier"
   ]
  },
  {
   "cell_type": "code",
   "execution_count": 34,
   "id": "modern-titanium",
   "metadata": {
    "execution": {
     "iopub.execute_input": "2021-04-09T12:39:30.667266Z",
     "iopub.status.busy": "2021-04-09T12:39:30.666534Z",
     "iopub.status.idle": "2021-04-09T12:39:37.532156Z",
     "shell.execute_reply": "2021-04-09T12:39:37.531626Z"
    },
    "papermill": {
     "duration": 6.947313,
     "end_time": "2021-04-09T12:39:37.532304",
     "exception": false,
     "start_time": "2021-04-09T12:39:30.584991",
     "status": "completed"
    },
    "tags": []
   },
   "outputs": [
    {
     "name": "stdout",
     "output_type": "stream",
     "text": [
      "Accuracy on Train set 0.8312785388127854\n",
      "Accuracy on Test set 0.7\n",
      "F1-score on Test set: 0.5714285714285713\n",
      "\n",
      "\n",
      "              precision    recall  f1-score   support\n",
      "\n",
      "           0       0.75      0.79      0.77        19\n",
      "           1       0.60      0.55      0.57        11\n",
      "\n",
      "    accuracy                           0.70        30\n",
      "   macro avg       0.68      0.67      0.67        30\n",
      "weighted avg       0.70      0.70      0.70        30\n",
      "\n",
      "\n",
      "\n"
     ]
    },
    {
     "data": {
      "image/png": "[encoded data removed]",
      "text/plain": [
       "<Figure size 432x288 with 2 Axes>"
      ]
     },
     "metadata": {},
     "output_type": "display_data"
    }
   ],
   "source": [
    "# Creamos el dataset para ejecutar el modelo\n",
    "RF_model = RandomForestClassifier(n_estimators= 600,min_samples_split= 90,min_samples_leaf= 20,\n",
    "                                  max_features= 5,max_depth= 10)# RF model tuned\n",
    "\n",
    "# Ajuste del modelo\n",
    "RF_model.fit(X_train,y_train)\n",
    "\n",
    "# Score del modelo\n",
    "predict_train_RF = RF_model.predict(X_train)\n",
    "predict_test_RF = RF_model.predict(X_test)\n",
    "\n",
    "# Accuracy\n",
    "RF_train_score = RF_model.score(X_train,y_train)\n",
    "RF_test_score = RF_model.score(X_test,y_test)\n",
    "\n",
    "# f1-Score\n",
    "RF_f1_score = metrics.f1_score(y_test,predict_test_RF)\n",
    "\n",
    "print('Accuracy en el set entrenamiento:',RF_train_score)\n",
    "print('Accuracy en el set de prueba:',RF_test_score)\n",
    "print('F1-score en el set de prueba:',RF_f1_score)\n",
    "print('\\n')\n",
    "print(metrics.classification_report(y_test,predict_test_RF))\n",
    "print('\\n')\n",
    "\n",
    "# Matriz de confusión\n",
    "metrics.plot_confusion_matrix(RF_model,X_test,y_test,cmap='Blues');\n",
    "plt.grid(False)\n",
    "plt.title('Confusion Matrix on test set');"
   ]
  },
  {
   "cell_type": "markdown",
   "id": "e2abd891",
   "metadata": {},
   "source": [
    "## Modelo con XGBoost "
   ]
  },
  {
   "cell_type": "code",
   "execution_count": null,
   "id": "7ce87503",
   "metadata": {},
   "outputs": [],
   "source": [
    "# Importamos librerías\n",
    "import xgboost as xgb"
   ]
  },
  {
   "cell_type": "code",
   "execution_count": 35,
   "id": "operating-forwarding",
   "metadata": {
    "execution": {
     "iopub.execute_input": "2021-04-09T12:39:37.845285Z",
     "iopub.status.busy": "2021-04-09T12:39:37.844185Z",
     "iopub.status.idle": "2021-04-09T12:39:38.910084Z",
     "shell.execute_reply": "2021-04-09T12:39:38.909434Z"
    },
    "papermill": {
     "duration": 1.15303,
     "end_time": "2021-04-09T12:39:38.910222",
     "exception": false,
     "start_time": "2021-04-09T12:39:37.757192",
     "status": "completed"
    },
    "tags": []
   },
   "outputs": [
    {
     "name": "stdout",
     "output_type": "stream",
     "text": [
      "Accuracy on Train set 0.8337899543378996\n",
      "Accuracy on Test set 0.7333333333333333\n",
      "F1-score on Test set: 0.6363636363636364\n",
      "\n",
      "\n",
      "              precision    recall  f1-score   support\n",
      "\n",
      "           0       0.79      0.79      0.79        19\n",
      "           1       0.64      0.64      0.64        11\n",
      "\n",
      "    accuracy                           0.73        30\n",
      "   macro avg       0.71      0.71      0.71        30\n",
      "weighted avg       0.73      0.73      0.73        30\n",
      "\n",
      "\n",
      "\n"
     ]
    },
    {
     "data": {
      "image/png": "[encoded data removed]",
      "text/plain": [
       "<Figure size 432x288 with 2 Axes>"
      ]
     },
     "metadata": {},
     "output_type": "display_data"
    }
   ],
   "source": [
    "# Creamos el dataset para ejecutar el modelo\n",
    "Xgboost_model = xgb.XGBClassifier(learning_rate=0.01,verbosity=0)\n",
    "\n",
    "# Ajuste del modelo\n",
    "Xgboost_model.fit(X_train,y_train)\n",
    "\n",
    "# Score del modelo\n",
    "predict_train_Xgb = Xgboost_model.predict(X_train)\n",
    "predict_test_Xgb = Xgboost_model.predict(X_test)\n",
    "\n",
    "# Accuracy\n",
    "Xgb_train_score = Xgboost_model.score(X_train,y_train)\n",
    "Xgb_test_score = Xgboost_model.score(X_test,y_test)\n",
    "\n",
    "# f1-Score\n",
    "Xgb_f1_score = metrics.f1_score(y_test,predict_test_Xgb)\n",
    "\n",
    "print('Accuracy en el set entrenamiento:',Xgb_train_score)\n",
    "print('Accuracy en el set de prueba:,Xgb_test_score)\n",
    "print('F1-score en el set de prueba:',Xgb_f1_score)\n",
    "print('\\n')\n",
    "print(metrics.classification_report(y_test,predict_test_Xgb))\n",
    "print('\\n')\n",
    "\n",
    "# Matriz de confusión\n",
    "metrics.plot_confusion_matrix(Xgboost_model,X_test,y_test,cmap='Blues');\n",
    "plt.grid(False)\n",
    "plt.title('Confusion Matrix on test set');"
   ]
  },
  {
   "cell_type": "markdown",
   "id": "cf8879be",
   "metadata": {},
   "source": [
    "# 9. Utilización de los resultados del análisis\n",
    "Después de que los resultados del análisis se pongan a disposición de los usuarios de negocio para apoyar la toma de decisiones empresariales, por ejemplo a través de cuadros de mando o paneles, puede haber más oportunidades para utilizar los resultados del análisis. La etapa de utilización de los resultados del análisis, esta enfocada en determinar cómo y dónde se pueden aprovechar más los datos del análisis procesado."
   ]
  },
  {
   "cell_type": "markdown",
   "id": "twenty-roots",
   "metadata": {
    "papermill": {
     "duration": 0.079623,
     "end_time": "2021-04-09T12:39:46.203402",
     "exception": false,
     "start_time": "2021-04-09T12:39:46.123779",
     "status": "completed"
    },
    "tags": []
   },
   "source": [
    "## Comparativo de Modelos"
   ]
  },
  {
   "cell_type": "markdown",
   "id": "corrected-offense",
   "metadata": {
    "papermill": {
     "duration": 0.079722,
     "end_time": "2021-04-09T12:39:46.362788",
     "exception": false,
     "start_time": "2021-04-09T12:39:46.283066",
     "status": "completed"
    },
    "tags": []
   },
   "source": [
    "El objetivo es seleccionar un modelo con buenas métricas. Se recomienda evaluar métricas como: \n",
    "* Confusion Matrix (Matriz de Confusión)\n",
    "* Precision (Precisión)\n",
    "* Recall (Exhaustividad)\n",
    "* Accuracy (Exactitud)"
   ]
  },
  {
   "cell_type": "code",
   "execution_count": 38,
   "id": "powerful-split",
   "metadata": {
    "_kg_hide-input": true,
    "execution": {
     "iopub.execute_input": "2021-04-09T12:39:46.524764Z",
     "iopub.status.busy": "2021-04-09T12:39:46.524111Z",
     "iopub.status.idle": "2021-04-09T12:39:47.923217Z",
     "shell.execute_reply": "2021-04-09T12:39:47.923739Z"
    },
    "jupyter": {
     "source_hidden": true
    },
    "papermill": {
     "duration": 1.481306,
     "end_time": "2021-04-09T12:39:47.923932",
     "exception": false,
     "start_time": "2021-04-09T12:39:46.442626",
     "status": "completed"
    },
    "tags": []
   },
   "outputs": [],
   "source": [
    "models_list = [Xgboost_model,RF_model,DT_model]\n",
    "recall =[]\n",
    "precision =[]\n",
    "test_acc = []\n",
    "train_acc = []\n",
    "f1score = []\n",
    "\n",
    "for model in models_list:\n",
    "    predict_test = model.predict(X_test)\n",
    "    predict_train = model.predict(X_train)\n",
    "    f1s = metrics.f1_score(y_test, predict_test)\n",
    "    pre = metrics.precision_score(y_test, predict_test)\n",
    "    rec = metrics.recall_score(y_test, predict_test)\n",
    "    acc_test = model.score(X_test,y_test)\n",
    "    acc_train = model.score(X_train,y_train)\n",
    "    \n",
    "    recall.append(rec)\n",
    "    precision.append(pre)\n",
    "    test_acc.append(acc_test)\n",
    "    train_acc.append(acc_train)\n",
    "    f1score.append(f1s)\n",
    "    \n",
    "model_compare = pd.DataFrame({\n",
    "'Models':['XGboost','Random_Forest','Arbol_Decisión'],\n",
    "'recall':recall,\n",
    "'Precisión':precision,\n",
    "'F1-Score':f1score,\n",
    "'Accuracy en Prueba':test_acc,\n",
    "'Accuracy en Entrenamiento':train_acc\n",
    "})"
   ]
  },
  {
   "cell_type": "code",
   "execution_count": 39,
   "id": "raising-requirement",
   "metadata": {
    "execution": {
     "iopub.execute_input": "2021-04-09T12:39:48.090630Z",
     "iopub.status.busy": "2021-04-09T12:39:48.089981Z",
     "iopub.status.idle": "2021-04-09T12:39:48.136081Z",
     "shell.execute_reply": "2021-04-09T12:39:48.135552Z"
    },
    "papermill": {
     "duration": 0.129328,
     "end_time": "2021-04-09T12:39:48.136223",
     "exception": false,
     "start_time": "2021-04-09T12:39:48.006895",
     "status": "completed"
    },
    "tags": []
   },
   "outputs": [
    {
     "data": {
      "text/html": [
       "<style  type=\"text/css\" >\n",
       "#T_cc11e_row0_col1,#T_cc11e_row0_col2,#T_cc11e_row0_col3,#T_cc11e_row0_col4,#T_cc11e_row0_col5{\n",
       "            background-color:  #08306b;\n",
       "            color:  #f1f1f1;\n",
       "        }#T_cc11e_row1_col1,#T_cc11e_row1_col2,#T_cc11e_row1_col3,#T_cc11e_row1_col4,#T_cc11e_row2_col1,#T_cc11e_row2_col2,#T_cc11e_row2_col3,#T_cc11e_row2_col4,#T_cc11e_row2_col5{\n",
       "            background-color:  #f7fbff;\n",
       "            color:  #000000;\n",
       "        }#T_cc11e_row1_col5{\n",
       "            background-color:  #084387;\n",
       "            color:  #f1f1f1;\n",
       "        }</style><table id=\"T_cc11e_\" ><thead>    <tr>        <th class=\"blank level0\" ></th>        <th class=\"col_heading level0 col0\" >Models</th>        <th class=\"col_heading level0 col1\" >recall</th>        <th class=\"col_heading level0 col2\" >Precision</th>        <th class=\"col_heading level0 col3\" >f1score</th>        <th class=\"col_heading level0 col4\" >Accuracy on Test</th>        <th class=\"col_heading level0 col5\" >Accuracy on Train</th>    </tr></thead><tbody>\n",
       "                <tr>\n",
       "                        <th id=\"T_cc11e_level0_row0\" class=\"row_heading level0 row0\" >0</th>\n",
       "                        <td id=\"T_cc11e_row0_col0\" class=\"data row0 col0\" >Xgboost</td>\n",
       "                        <td id=\"T_cc11e_row0_col1\" class=\"data row0 col1\" >0.636364</td>\n",
       "                        <td id=\"T_cc11e_row0_col2\" class=\"data row0 col2\" >0.636364</td>\n",
       "                        <td id=\"T_cc11e_row0_col3\" class=\"data row0 col3\" >0.636364</td>\n",
       "                        <td id=\"T_cc11e_row0_col4\" class=\"data row0 col4\" >0.733333</td>\n",
       "                        <td id=\"T_cc11e_row0_col5\" class=\"data row0 col5\" >0.833790</td>\n",
       "            </tr>\n",
       "            <tr>\n",
       "                        <th id=\"T_cc11e_level0_row1\" class=\"row_heading level0 row1\" >1</th>\n",
       "                        <td id=\"T_cc11e_row1_col0\" class=\"data row1 col0\" >Random_forest</td>\n",
       "                        <td id=\"T_cc11e_row1_col1\" class=\"data row1 col1\" >0.545455</td>\n",
       "                        <td id=\"T_cc11e_row1_col2\" class=\"data row1 col2\" >0.600000</td>\n",
       "                        <td id=\"T_cc11e_row1_col3\" class=\"data row1 col3\" >0.571429</td>\n",
       "                        <td id=\"T_cc11e_row1_col4\" class=\"data row1 col4\" >0.700000</td>\n",
       "                        <td id=\"T_cc11e_row1_col5\" class=\"data row1 col5\" >0.831279</td>\n",
       "            </tr>\n",
       "            <tr>\n",
       "                        <th id=\"T_cc11e_level0_row2\" class=\"row_heading level0 row2\" >2</th>\n",
       "                        <td id=\"T_cc11e_row2_col0\" class=\"data row2 col0\" >Decision_Tree</td>\n",
       "                        <td id=\"T_cc11e_row2_col1\" class=\"data row2 col1\" >0.545455</td>\n",
       "                        <td id=\"T_cc11e_row2_col2\" class=\"data row2 col2\" >0.600000</td>\n",
       "                        <td id=\"T_cc11e_row2_col3\" class=\"data row2 col3\" >0.571429</td>\n",
       "                        <td id=\"T_cc11e_row2_col4\" class=\"data row2 col4\" >0.700000</td>\n",
       "                        <td id=\"T_cc11e_row2_col5\" class=\"data row2 col5\" >0.799772</td>\n",
       "            </tr>\n",
       "    </tbody></table>"
      ],
      "text/plain": [
       "<pandas.io.formats.style.Styler at 0x7fe54e8ee150>"
      ]
     },
     "execution_count": 39,
     "metadata": {},
     "output_type": "execute_result"
    }
   ],
   "source": [
    "model_compare.style.background_gradient(cmap='Blues')"
   ]
  },
  {
   "cell_type": "markdown",
   "id": "af36978b",
   "metadata": {},
   "source": [
    "## Conclusiones"
   ]
  },
  {
   "cell_type": "markdown",
   "id": "descending-grave",
   "metadata": {
    "papermill": {
     "duration": 0.078317,
     "end_time": "2021-04-09T12:39:48.293425",
     "exception": false,
     "start_time": "2021-04-09T12:39:48.215108",
     "status": "completed"
    },
    "tags": []
   },
   "source": [
    "* Los resultados de Random Forest y Arboles de decisión son muy similares en términos de precisión y recall (exhaustividad).\n",
    "* En base a las metricas evaluadas, es recomendable utilizar el modelo **XGboost** para la predicción ya que presenta un balance de precisión y recall (exhaustividad)."
   ]
  },
  {
   "cell_type": "markdown",
   "id": "portuguese-suite",
   "metadata": {
    "papermill": {
     "duration": 0.08141,
     "end_time": "2021-04-09T12:39:48.617248",
     "exception": false,
     "start_time": "2021-04-09T12:39:48.535838",
     "status": "completed"
    },
    "tags": []
   },
   "source": [
    "## Referencias"
   ]
  },
  {
   "cell_type": "markdown",
   "id": "touched-cutting",
   "metadata": {
    "papermill": {
     "duration": 0.07887,
     "end_time": "2021-04-09T12:39:48.776981",
     "exception": false,
     "start_time": "2021-04-09T12:39:48.698111",
     "status": "completed"
    },
    "tags": []
   },
   "source": [
    "1. https://xgboost.readthedocs.io/en/latest/tutorials/model.html\n",
    "2. Precision, Recall, F1, Accuracy en clasificación https://www.iartificial.net/precision-recall-f1-accuracy-en-clasificacion/\n",
    "3. Tutorial Tableau https://www.youtube.com/watch?v=6mBtTNggkUk"
   ]
  }
 ],
 "metadata": {
  "kernelspec": {
   "display_name": "Python 3 (ipykernel)",
   "language": "python",
   "name": "python3"
  },
  "language_info": {
   "codemirror_mode": {
    "name": "ipython",
    "version": 3
   },
   "file_extension": ".py",
   "mimetype": "text/x-python",
   "name": "python",
   "nbconvert_exporter": "python",
   "pygments_lexer": "ipython3",
   "version": "3.10.9"
  },
  "papermill": {
   "default_parameters": {},
   "duration": 49.119287,
   "end_time": "2021-04-09T12:39:50.503329",
   "environment_variables": {},
   "exception": null,
   "input_path": "__notebook__.ipynb",
   "output_path": "__notebook__.ipynb",
   "parameters": {},
   "start_time": "2021-04-09T12:39:01.384042",
   "version": "2.3.2"
  }
 },
 "nbformat": 4,
 "nbformat_minor": 5
}
