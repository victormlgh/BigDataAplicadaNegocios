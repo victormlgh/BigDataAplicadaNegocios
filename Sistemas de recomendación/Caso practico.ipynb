{
 "cells": [
  {
   "cell_type": "markdown",
   "metadata": {},
   "source": [
    "# <center> Unidad 4: Sistemas de recomendación </center>"
   ]
  },
  {
   "cell_type": "markdown",
   "metadata": {
    "application/vnd.databricks.v1+cell": {
     "cellMetadata": {},
     "inputWidgets": {},
     "nuid": "40e69f3e-3806-43ca-8dd2-949b81f305b0",
     "showTitle": false,
     "title": ""
    }
   },
   "source": [
    "## Introducción\n",
    "En esta lección revisaremos los **sistemas de recomendación** o también conocidos en inglés como “recommender systems”. Los **sistemas de recomendación** son algoritmos que permiten a las empresas detectar las necesidades y preferencias de sus clientes de forma personalizada, a través del análisis de grandes cantidades de datos. Estos sistemas tienen dos objetivos fundamentales: \n",
    "\n",
    "1. Maximizar las ventas de los proveedores; y,\n",
    "2. Facilitar las búsquedas de productos o intereses de los usuarios. \n",
    "\n",
    "Los **sistemas de recomendación** pueden ser el tipo más común de modelo predictivo que puede encontrar una persona promedio y proporcionan la base para recomendaciones sobre servicios tan populares como Amazon, Spotify y YouTube.\n",
    "\n",
    "### Modelos de recomendación \n",
    "\n",
    "El principal objetivo de estos modelos es descubrir patrones en el conjunto de datos donde el sistema recomienda ítems al usuario basándose exclusivamente en su experiencia pasada y su la correlación con sus necesidades e intereses. Existen diversas formas de crear de recomendación, unas más sencillas y otras un poco más complejas.\n",
    "\n",
    "#### Tipos de modelos de recomendación\n",
    "\n",
    "**1. Popularity (basado en popularidad)**: Es un tipo de sistema de recomendación que funciona según el principio de popularidad. Estos sistemas comprueban qué productos o películas están de moda o son los más populares entre los usuarios y los recomiendan directamente. Se caracteriza por ser fácil de implementar pero no personaliza las recomendaciones. Ejemplo: los productos más vendidos en una e-commerce, los videos más vistos en Youtube.\n",
    " \n",
    "**2. Content-based filtering (filtrado basado en el contenido)**: Es otro tipo de sistema de recomendación que funciona según el principio del contenido similar. Si un usuario está viendo una película, el sistema buscará otras películas de contenido similar o del mismo género que la película que está viendo. Ejemplo: Google que a partir del histórico de búsquedas o visitas realizadas nos recomienda web similares.\n",
    " \n",
    "**3. Collaborative filtering (filtrado colaborativo)**:  Está considerado como uno de los sistemas de recomendación más inteligentes que funcionan a partir de la similitud entre diferentes usuarios y también artículos que se utilizan ampliamente como sitio web de comercio electrónico y también sitios web de películas en línea. Comprueba los gustos de usuarios similares y hace recomendaciones. La similitud no se limita al gusto del usuario, sino que también se puede tener en cuenta la similitud entre diferentes artículos. El sistema ofrecerá recomendaciones más eficaces si disponemos de un gran volumen de información sobre usuarios y artículos. Ejemplo: Amazon cuyo modelo de recomendación identifica usuarios similares y recomienda nuevos ítems a otros usuarios basado en el rating dado por otros usuarios similares (que no haya valorado este usuario)."
   ]
  },
  {
   "cell_type": "markdown",
   "metadata": {},
   "source": [
    "# Caso práctico\n",
    "\n",
    "Este material expande el marco inicial de los sistemas de recomendación y aborda la temática en un contexto del análisis y resolución de un caso práctico con Python. Tiene por objetivo analizar los sistemas de recomendación y su aplicabilidad como una herramienta para la personalización del consumidor."
   ]
  },
  {
   "cell_type": "markdown",
   "metadata": {},
   "source": [
    "## Sobre la empresa\n",
    "\n",
    "La cadena de supermercados **K-Mart** es una de las más populares de América y de varios países a lo largo del mundo. Con sede en Boston, es uno de los minoristas más grande con más de dos millones de colaboradores. Tiene presencia internacional en más de 28 países con casi 11.000 tiendas.\n",
    "\n",
    "**K-Mart**, en su misión, busca promover el ahorro y una mejor calidad de vida en las personas de todo el mundo que accedan a sus servicios, ya sea de tiendas minoristas o de comercio electrónico. Basa su éxito en la importancia que le otorga a las familias ocupadas, en las cuales reside su estrategia de negocio, para que logren empoderamiento cubriendo todas sus necesidades con las mejores marcas con las que trabaja la compañía. La empresa participa de 3 formatos principales de tiendas: supercentros, tiendas de descuentos y tiendas de barrio. También ofrece 3 unidades principales de mercancías: comestibles, mercadería en general y salud y bienestar. En cada uno de los formatos la compañía fomenta los precios bajos."
   ]
  },
  {
   "cell_type": "markdown",
   "metadata": {},
   "source": [
    "## 1. Evaluación de necesidades del negocio\n",
    "La fase de evaluación del caso de negocio requiere que se cree, evalúe y apruebe un caso de negocio antes de proceder a las tareas reales de análisis práctico."
   ]
  },
  {
   "cell_type": "markdown",
   "metadata": {},
   "source": [
    "Sin duda, algo que caracteriza a **K-Mart** es brindar una mejor experiencia de compra gracias a la iniciativa de promover precios bajos todos los días. Pero decir que su éxito se basa únicamente en bajar los precios es no reconocer la importancia de su gestión de inventario eficiente. En este sentido, la empresa puede desarrollar, abrir y operar unidades en ubicaciones estratégicas y ofrecer una experiencia omnicanal enfocada en el cliente. \n",
    "\n",
    "Su activo diferencial para alcanzar el éxito es la innovación. Por ello, esta importante cadena de supermercados ha lanzado al mercado una aplicación móvil que permite a sus clientes realizar pedidos en línea. Existe una oportunidad para que la app muestre recomendaciones de sus productos cuando un cliente desde el momento en que ingresa a la tienda online. El área de Marketing de la empresa se ha planteado como objetivo que la aplicación pueda recomendar a sus clientes al menos 10 artículos en su canasta de compras. "
   ]
  },
  {
   "cell_type": "markdown",
   "metadata": {},
   "source": [
    "# 2. Identificación de datos\n",
    "La etapa de identificación de datos consiste en identificar los conjuntos de datos necesarios para el proyecto de análisis y sus fuentes."
   ]
  },
  {
   "cell_type": "markdown",
   "metadata": {
    "application/vnd.databricks.v1+cell": {
     "cellMetadata": {},
     "inputWidgets": {},
     "nuid": "c3979316-7125-404c-aa22-0234538d0f22",
     "showTitle": false,
     "title": ""
    }
   },
   "source": [
    "**Dataset:** \n",
    "\n",
    "El conjunto de datos contiene las transacciones de compra de **K-Mart** en un período determinado. La información incluye la fecha, hora, identificación del cliente y el nombre del producto de cada compra."
   ]
  },
  {
   "cell_type": "markdown",
   "metadata": {
    "application/vnd.databricks.v1+cell": {
     "cellMetadata": {},
     "inputWidgets": {},
     "nuid": "51aadc59-6920-45fb-8e81-85a2a7f26c12",
     "showTitle": false,
     "title": ""
    }
   },
   "source": [
    "**Diccionario de datos**\n",
    "\n",
    "  * `date`: fecha de compra\n",
    "  * `time`: hora de compra \n",
    "  * `transaction`: id del clien\n",
    "  * `item`: nombre del producto"
   ]
  },
  {
   "cell_type": "markdown",
   "metadata": {},
   "source": [
    "# 3. Adquisición y filtrado de datos\n",
    "Durante la etapa de adquisición y filtrado de datos se recopilan los datos de todas las fuentes de datos que se identificaron durante la etapa **Identificación de datos**.\n"
   ]
  },
  {
   "cell_type": "markdown",
   "metadata": {},
   "source": [
    "El conjunto de datos planteado contiene información de más de 21.200 transacciones. Todos los datos se han recogido a través de la aplicación movil de **K-Mart**. Los datos se han restringido y anonimizado para proteger la privacidad de los clientes. "
   ]
  },
  {
   "cell_type": "markdown",
   "metadata": {},
   "source": [
    "# 4. Extracción de datos\n",
    "Durante esta etapa se debe extraer datos dispares y transformarlos en un formato que pueda facilitar el análisis de datos."
   ]
  },
  {
   "cell_type": "markdown",
   "metadata": {
    "application/vnd.databricks.v1+cell": {
     "cellMetadata": {},
     "inputWidgets": {},
     "nuid": "7248c764-48c5-46ba-b102-706ef9682ccd",
     "showTitle": false,
     "title": ""
    }
   },
   "source": [
    "**Instalar librerías**"
   ]
  },
  {
   "cell_type": "code",
   "execution_count": 2,
   "metadata": {},
   "outputs": [],
   "source": [
    "# !pip install turicreate"
   ]
  },
  {
   "cell_type": "markdown",
   "metadata": {
    "application/vnd.databricks.v1+cell": {
     "cellMetadata": {},
     "inputWidgets": {},
     "nuid": "0d68e671-56fb-4bed-860e-cf2d9bac0944",
     "showTitle": false,
     "title": ""
    }
   },
   "source": [
    "**Importar librerías y módulos específicos de librerías**"
   ]
  },
  {
   "cell_type": "code",
   "execution_count": 3,
   "metadata": {},
   "outputs": [],
   "source": [
    "import pandas as pd\n",
    "import numpy as np\n",
    "import time\n",
    "# import turicreate as tc"
   ]
  },
  {
   "cell_type": "markdown",
   "metadata": {
    "application/vnd.databricks.v1+cell": {
     "cellMetadata": {},
     "inputWidgets": {},
     "nuid": "fe054151-24ee-4c50-b047-e851d9c32adb",
     "showTitle": false,
     "title": ""
    }
   },
   "source": [
    "**Cargar el dataset**"
   ]
  },
  {
   "cell_type": "code",
   "execution_count": 15,
   "metadata": {},
   "outputs": [],
   "source": [
    "url = \"https://raw.githubusercontent.com/vhteran/UDLA_Big_Data_aplicada_a_los_Negocios/main/data/ventas.csv\"\n",
    "data = pd.read_csv(url, sep = \";\")"
   ]
  },
  {
   "cell_type": "code",
   "execution_count": 16,
   "metadata": {},
   "outputs": [
    {
     "data": {
      "text/html": [
       "<div>\n",
       "<style scoped>\n",
       "    .dataframe tbody tr th:only-of-type {\n",
       "        vertical-align: middle;\n",
       "    }\n",
       "\n",
       "    .dataframe tbody tr th {\n",
       "        vertical-align: top;\n",
       "    }\n",
       "\n",
       "    .dataframe thead th {\n",
       "        text-align: right;\n",
       "    }\n",
       "</style>\n",
       "<table border=\"1\" class=\"dataframe\">\n",
       "  <thead>\n",
       "    <tr style=\"text-align: right;\">\n",
       "      <th></th>\n",
       "      <th>date</th>\n",
       "      <th>time</th>\n",
       "      <th>transaction</th>\n",
       "      <th>quantity</th>\n",
       "      <th>item</th>\n",
       "    </tr>\n",
       "  </thead>\n",
       "  <tbody>\n",
       "    <tr>\n",
       "      <th>0</th>\n",
       "      <td>30/10/2019</td>\n",
       "      <td>9:58:11</td>\n",
       "      <td>1</td>\n",
       "      <td>1</td>\n",
       "      <td>Bread</td>\n",
       "    </tr>\n",
       "    <tr>\n",
       "      <th>1</th>\n",
       "      <td>30/10/2019</td>\n",
       "      <td>10:05:34</td>\n",
       "      <td>2</td>\n",
       "      <td>2</td>\n",
       "      <td>Scandinavian</td>\n",
       "    </tr>\n",
       "    <tr>\n",
       "      <th>2</th>\n",
       "      <td>30/10/2019</td>\n",
       "      <td>10:05:34</td>\n",
       "      <td>2</td>\n",
       "      <td>3</td>\n",
       "      <td>Scandinavian</td>\n",
       "    </tr>\n",
       "    <tr>\n",
       "      <th>3</th>\n",
       "      <td>30/10/2019</td>\n",
       "      <td>10:07:57</td>\n",
       "      <td>3</td>\n",
       "      <td>1</td>\n",
       "      <td>Hot chocolate</td>\n",
       "    </tr>\n",
       "    <tr>\n",
       "      <th>4</th>\n",
       "      <td>30/10/2019</td>\n",
       "      <td>10:07:57</td>\n",
       "      <td>3</td>\n",
       "      <td>1</td>\n",
       "      <td>Jam</td>\n",
       "    </tr>\n",
       "    <tr>\n",
       "      <th>...</th>\n",
       "      <td>...</td>\n",
       "      <td>...</td>\n",
       "      <td>...</td>\n",
       "      <td>...</td>\n",
       "      <td>...</td>\n",
       "    </tr>\n",
       "    <tr>\n",
       "      <th>21288</th>\n",
       "      <td>9/4/2020</td>\n",
       "      <td>14:32:58</td>\n",
       "      <td>9682</td>\n",
       "      <td>2</td>\n",
       "      <td>Coffee</td>\n",
       "    </tr>\n",
       "    <tr>\n",
       "      <th>21289</th>\n",
       "      <td>9/4/2020</td>\n",
       "      <td>14:32:58</td>\n",
       "      <td>9682</td>\n",
       "      <td>2</td>\n",
       "      <td>Tea</td>\n",
       "    </tr>\n",
       "    <tr>\n",
       "      <th>21290</th>\n",
       "      <td>9/4/2020</td>\n",
       "      <td>14:57:06</td>\n",
       "      <td>9683</td>\n",
       "      <td>2</td>\n",
       "      <td>Coffee</td>\n",
       "    </tr>\n",
       "    <tr>\n",
       "      <th>21291</th>\n",
       "      <td>9/4/2020</td>\n",
       "      <td>14:57:06</td>\n",
       "      <td>9683</td>\n",
       "      <td>2</td>\n",
       "      <td>Pastry</td>\n",
       "    </tr>\n",
       "    <tr>\n",
       "      <th>21292</th>\n",
       "      <td>9/4/2020</td>\n",
       "      <td>15:04:24</td>\n",
       "      <td>9684</td>\n",
       "      <td>2</td>\n",
       "      <td>Smoothies</td>\n",
       "    </tr>\n",
       "  </tbody>\n",
       "</table>\n",
       "<p>21293 rows × 5 columns</p>\n",
       "</div>"
      ],
      "text/plain": [
       "             date      time  transaction  quantity           item\n",
       "0      30/10/2019   9:58:11            1         1          Bread\n",
       "1      30/10/2019  10:05:34            2         2   Scandinavian\n",
       "2      30/10/2019  10:05:34            2         3   Scandinavian\n",
       "3      30/10/2019  10:07:57            3         1  Hot chocolate\n",
       "4      30/10/2019  10:07:57            3         1            Jam\n",
       "...           ...       ...          ...       ...            ...\n",
       "21288    9/4/2020  14:32:58         9682         2         Coffee\n",
       "21289    9/4/2020  14:32:58         9682         2            Tea\n",
       "21290    9/4/2020  14:57:06         9683         2         Coffee\n",
       "21291    9/4/2020  14:57:06         9683         2         Pastry\n",
       "21292    9/4/2020  15:04:24         9684         2      Smoothies\n",
       "\n",
       "[21293 rows x 5 columns]"
      ]
     },
     "metadata": {},
     "output_type": "display_data"
    }
   ],
   "source": [
    "# Visualizamos el dataset\n",
    "display(data)"
   ]
  },
  {
   "cell_type": "markdown",
   "metadata": {},
   "source": [
    "# 5. Validación y limpieza de datos\n",
    "Los datos no válidos pueden sesgar y falsear los resultados de los análisis. La etapa de validación y depuración de datos se enfoca en establecer reglas de validación a menudo complejas y a eliminar cualquier dato no válido conocido."
   ]
  },
  {
   "cell_type": "code",
   "execution_count": 19,
   "metadata": {
    "application/vnd.databricks.v1+cell": {
     "cellMetadata": {},
     "inputWidgets": {},
     "nuid": "b1ff990c-c9f4-44d8-940e-e4c0bba92354",
     "showTitle": false,
     "title": ""
    }
   },
   "outputs": [
    {
     "data": {
      "text/html": [
       "<div>\n",
       "<style scoped>\n",
       "    .dataframe tbody tr th:only-of-type {\n",
       "        vertical-align: middle;\n",
       "    }\n",
       "\n",
       "    .dataframe tbody tr th {\n",
       "        vertical-align: top;\n",
       "    }\n",
       "\n",
       "    .dataframe thead th {\n",
       "        text-align: right;\n",
       "    }\n",
       "</style>\n",
       "<table border=\"1\" class=\"dataframe\">\n",
       "  <thead>\n",
       "    <tr style=\"text-align: right;\">\n",
       "      <th></th>\n",
       "      <th>transaction</th>\n",
       "      <th>quantity</th>\n",
       "      <th>item</th>\n",
       "    </tr>\n",
       "  </thead>\n",
       "  <tbody>\n",
       "    <tr>\n",
       "      <th>0</th>\n",
       "      <td>1</td>\n",
       "      <td>1</td>\n",
       "      <td>Bread</td>\n",
       "    </tr>\n",
       "    <tr>\n",
       "      <th>1</th>\n",
       "      <td>2</td>\n",
       "      <td>2</td>\n",
       "      <td>Scandinavian</td>\n",
       "    </tr>\n",
       "    <tr>\n",
       "      <th>2</th>\n",
       "      <td>2</td>\n",
       "      <td>3</td>\n",
       "      <td>Scandinavian</td>\n",
       "    </tr>\n",
       "    <tr>\n",
       "      <th>3</th>\n",
       "      <td>3</td>\n",
       "      <td>1</td>\n",
       "      <td>Hot chocolate</td>\n",
       "    </tr>\n",
       "    <tr>\n",
       "      <th>4</th>\n",
       "      <td>3</td>\n",
       "      <td>1</td>\n",
       "      <td>Jam</td>\n",
       "    </tr>\n",
       "    <tr>\n",
       "      <th>...</th>\n",
       "      <td>...</td>\n",
       "      <td>...</td>\n",
       "      <td>...</td>\n",
       "    </tr>\n",
       "    <tr>\n",
       "      <th>21288</th>\n",
       "      <td>9682</td>\n",
       "      <td>2</td>\n",
       "      <td>Coffee</td>\n",
       "    </tr>\n",
       "    <tr>\n",
       "      <th>21289</th>\n",
       "      <td>9682</td>\n",
       "      <td>2</td>\n",
       "      <td>Tea</td>\n",
       "    </tr>\n",
       "    <tr>\n",
       "      <th>21290</th>\n",
       "      <td>9683</td>\n",
       "      <td>2</td>\n",
       "      <td>Coffee</td>\n",
       "    </tr>\n",
       "    <tr>\n",
       "      <th>21291</th>\n",
       "      <td>9683</td>\n",
       "      <td>2</td>\n",
       "      <td>Pastry</td>\n",
       "    </tr>\n",
       "    <tr>\n",
       "      <th>21292</th>\n",
       "      <td>9684</td>\n",
       "      <td>2</td>\n",
       "      <td>Smoothies</td>\n",
       "    </tr>\n",
       "  </tbody>\n",
       "</table>\n",
       "<p>21293 rows × 3 columns</p>\n",
       "</div>"
      ],
      "text/plain": [
       "       transaction  quantity           item\n",
       "0                1         1          Bread\n",
       "1                2         2   Scandinavian\n",
       "2                2         3   Scandinavian\n",
       "3                3         1  Hot chocolate\n",
       "4                3         1            Jam\n",
       "...            ...       ...            ...\n",
       "21288         9682         2         Coffee\n",
       "21289         9682         2            Tea\n",
       "21290         9683         2         Coffee\n",
       "21291         9683         2         Pastry\n",
       "21292         9684         2      Smoothies\n",
       "\n",
       "[21293 rows x 3 columns]"
      ]
     },
     "metadata": {},
     "output_type": "display_data"
    }
   ],
   "source": [
    "#Seleccionamos las columnas que requerimos para el análisis y renombra con: 'customerId', 'purchase_count', 'productId'\n",
    "dataset = data[[\"transaction\",\"quantity\",\"item\"]]\n",
    "display(dataset)"
   ]
  },
  {
   "cell_type": "code",
   "execution_count": 22,
   "metadata": {
    "application/vnd.databricks.v1+cell": {
     "cellMetadata": {},
     "inputWidgets": {},
     "nuid": "b1ff990c-c9f4-44d8-940e-e4c0bba92354",
     "showTitle": false,
     "title": ""
    }
   },
   "outputs": [
    {
     "data": {
      "text/html": [
       "<div>\n",
       "<style scoped>\n",
       "    .dataframe tbody tr th:only-of-type {\n",
       "        vertical-align: middle;\n",
       "    }\n",
       "\n",
       "    .dataframe tbody tr th {\n",
       "        vertical-align: top;\n",
       "    }\n",
       "\n",
       "    .dataframe thead th {\n",
       "        text-align: right;\n",
       "    }\n",
       "</style>\n",
       "<table border=\"1\" class=\"dataframe\">\n",
       "  <thead>\n",
       "    <tr style=\"text-align: right;\">\n",
       "      <th></th>\n",
       "      <th>customerId</th>\n",
       "      <th>purchase_count</th>\n",
       "      <th>productId</th>\n",
       "    </tr>\n",
       "  </thead>\n",
       "  <tbody>\n",
       "    <tr>\n",
       "      <th>0</th>\n",
       "      <td>1</td>\n",
       "      <td>1</td>\n",
       "      <td>Bread</td>\n",
       "    </tr>\n",
       "    <tr>\n",
       "      <th>1</th>\n",
       "      <td>2</td>\n",
       "      <td>2</td>\n",
       "      <td>Scandinavian</td>\n",
       "    </tr>\n",
       "    <tr>\n",
       "      <th>2</th>\n",
       "      <td>2</td>\n",
       "      <td>3</td>\n",
       "      <td>Scandinavian</td>\n",
       "    </tr>\n",
       "    <tr>\n",
       "      <th>3</th>\n",
       "      <td>3</td>\n",
       "      <td>1</td>\n",
       "      <td>Hot chocolate</td>\n",
       "    </tr>\n",
       "    <tr>\n",
       "      <th>4</th>\n",
       "      <td>3</td>\n",
       "      <td>1</td>\n",
       "      <td>Jam</td>\n",
       "    </tr>\n",
       "    <tr>\n",
       "      <th>...</th>\n",
       "      <td>...</td>\n",
       "      <td>...</td>\n",
       "      <td>...</td>\n",
       "    </tr>\n",
       "    <tr>\n",
       "      <th>21288</th>\n",
       "      <td>9682</td>\n",
       "      <td>2</td>\n",
       "      <td>Coffee</td>\n",
       "    </tr>\n",
       "    <tr>\n",
       "      <th>21289</th>\n",
       "      <td>9682</td>\n",
       "      <td>2</td>\n",
       "      <td>Tea</td>\n",
       "    </tr>\n",
       "    <tr>\n",
       "      <th>21290</th>\n",
       "      <td>9683</td>\n",
       "      <td>2</td>\n",
       "      <td>Coffee</td>\n",
       "    </tr>\n",
       "    <tr>\n",
       "      <th>21291</th>\n",
       "      <td>9683</td>\n",
       "      <td>2</td>\n",
       "      <td>Pastry</td>\n",
       "    </tr>\n",
       "    <tr>\n",
       "      <th>21292</th>\n",
       "      <td>9684</td>\n",
       "      <td>2</td>\n",
       "      <td>Smoothies</td>\n",
       "    </tr>\n",
       "  </tbody>\n",
       "</table>\n",
       "<p>21293 rows × 3 columns</p>\n",
       "</div>"
      ],
      "text/plain": [
       "       customerId  purchase_count      productId\n",
       "0               1               1          Bread\n",
       "1               2               2   Scandinavian\n",
       "2               2               3   Scandinavian\n",
       "3               3               1  Hot chocolate\n",
       "4               3               1            Jam\n",
       "...           ...             ...            ...\n",
       "21288        9682               2         Coffee\n",
       "21289        9682               2            Tea\n",
       "21290        9683               2         Coffee\n",
       "21291        9683               2         Pastry\n",
       "21292        9684               2      Smoothies\n",
       "\n",
       "[21293 rows x 3 columns]"
      ]
     },
     "metadata": {},
     "output_type": "display_data"
    }
   ],
   "source": [
    "# Renombramos los columnas seleccionadas previamente por 'customerId', 'purchase_count' y 'productId'\n",
    "dataset.columns=['customerId', 'purchase_count', 'productId']\n",
    "display(dataset)"
   ]
  },
  {
   "cell_type": "code",
   "execution_count": 23,
   "metadata": {
    "application/vnd.databricks.v1+cell": {
     "cellMetadata": {},
     "inputWidgets": {},
     "nuid": "d20f985e-77b6-4f62-b99d-f3daecb0f43e",
     "showTitle": false,
     "title": ""
    }
   },
   "outputs": [
    {
     "data": {
      "text/plain": [
       "customerId  productId    \n",
       "1           Bread            1\n",
       "2           Scandinavian     5\n",
       "3           Cookies          1\n",
       "            Hot chocolate    1\n",
       "            Jam              1\n",
       "Name: purchase_count, dtype: int64"
      ]
     },
     "execution_count": 23,
     "metadata": {},
     "output_type": "execute_result"
    }
   ],
   "source": [
    "# Agrupamos los datos por 'customerId' y 'productId'\n",
    "dataset_transformado = dataset.groupby(['customerId', 'productId'])['purchase_count'].sum()\n",
    "dataset_transformado.head()"
   ]
  },
  {
   "cell_type": "code",
   "execution_count": 25,
   "metadata": {
    "application/vnd.databricks.v1+cell": {
     "cellMetadata": {},
     "inputWidgets": {},
     "nuid": "a8dddc5c-b4bb-40d2-9308-0adc73040358",
     "showTitle": false,
     "title": ""
    }
   },
   "outputs": [
    {
     "data": {
      "text/plain": [
       "productId   customerId\n",
       "Adjustment  1            NaN\n",
       "            2            NaN\n",
       "            3            NaN\n",
       "            4            NaN\n",
       "            5            NaN\n",
       "dtype: float64"
      ]
     },
     "execution_count": 25,
     "metadata": {},
     "output_type": "execute_result"
    }
   ],
   "source": [
    "# Transponemos el dataset\n",
    "dataset_transformado = dataset_transformado.unstack()\n",
    "dataset_transformado.head()"
   ]
  },
  {
   "cell_type": "markdown",
   "metadata": {},
   "source": [
    "**Normalizar los valores de los elementos entre los usuarios**"
   ]
  },
  {
   "cell_type": "markdown",
   "metadata": {
    "application/vnd.databricks.v1+cell": {
     "cellMetadata": {},
     "inputWidgets": {},
     "nuid": "0a453040-9966-4088-b0e6-f14d52a29c48",
     "showTitle": false,
     "title": ""
    }
   },
   "source": [
    "Para hacer esto, normalizamos la frecuencia de compra de cada artículo entre los usuarios creando primero una matriz usuario-artículo de la siguiente manera:\n",
    "\n",
    "💡 **Normalizar:** significa que se van a ajustar los valores medidos en diferentes escalas respecto a una escala común. Ayudará a mejorar el performance del modelo._"
   ]
  },
  {
   "cell_type": "code",
   "execution_count": 26,
   "metadata": {
    "application/vnd.databricks.v1+cell": {
     "cellMetadata": {},
     "inputWidgets": {},
     "nuid": "2c822fb5-8454-46f2-a2ef-086f679cc952",
     "showTitle": false,
     "title": ""
    }
   },
   "outputs": [
    {
     "data": {
      "text/plain": [
       "productId   customerId\n",
       "Adjustment  1            NaN\n",
       "            2            NaN\n",
       "            3            NaN\n",
       "            4            NaN\n",
       "            5            NaN\n",
       "dtype: float64"
      ]
     },
     "execution_count": 26,
     "metadata": {},
     "output_type": "execute_result"
    }
   ],
   "source": [
    "#Creamos una matriz normalizada\n",
    "df_matrix_norm = (dataset_transformado-dataset_transformado.min())/(dataset_transformado.max()-dataset_transformado.min())\n",
    "df_matrix_norm.head()"
   ]
  },
  {
   "cell_type": "markdown",
   "metadata": {
    "application/vnd.databricks.v1+cell": {
     "cellMetadata": {},
     "inputWidgets": {},
     "nuid": "7af33744-07b0-49d1-8fda-bb0f04d7f16e",
     "showTitle": false,
     "title": ""
    }
   },
   "source": [
    "**Crear una tabla para la entrada al modelado**"
   ]
  },
  {
   "cell_type": "code",
   "execution_count": 28,
   "metadata": {},
   "outputs": [
    {
     "data": {
      "text/html": [
       "<div>\n",
       "<style scoped>\n",
       "    .dataframe tbody tr th:only-of-type {\n",
       "        vertical-align: middle;\n",
       "    }\n",
       "\n",
       "    .dataframe tbody tr th {\n",
       "        vertical-align: top;\n",
       "    }\n",
       "\n",
       "    .dataframe thead th {\n",
       "        text-align: right;\n",
       "    }\n",
       "</style>\n",
       "<table border=\"1\" class=\"dataframe\">\n",
       "  <thead>\n",
       "    <tr style=\"text-align: right;\">\n",
       "      <th></th>\n",
       "      <th>productId</th>\n",
       "      <th>customerId</th>\n",
       "      <th>0</th>\n",
       "    </tr>\n",
       "  </thead>\n",
       "  <tbody>\n",
       "    <tr>\n",
       "      <th>0</th>\n",
       "      <td>Adjustment</td>\n",
       "      <td>1</td>\n",
       "      <td>NaN</td>\n",
       "    </tr>\n",
       "    <tr>\n",
       "      <th>1</th>\n",
       "      <td>Adjustment</td>\n",
       "      <td>2</td>\n",
       "      <td>NaN</td>\n",
       "    </tr>\n",
       "    <tr>\n",
       "      <th>2</th>\n",
       "      <td>Adjustment</td>\n",
       "      <td>3</td>\n",
       "      <td>NaN</td>\n",
       "    </tr>\n",
       "    <tr>\n",
       "      <th>3</th>\n",
       "      <td>Adjustment</td>\n",
       "      <td>4</td>\n",
       "      <td>NaN</td>\n",
       "    </tr>\n",
       "    <tr>\n",
       "      <th>4</th>\n",
       "      <td>Adjustment</td>\n",
       "      <td>5</td>\n",
       "      <td>NaN</td>\n",
       "    </tr>\n",
       "  </tbody>\n",
       "</table>\n",
       "</div>"
      ],
      "text/plain": [
       "    productId  customerId   0\n",
       "0  Adjustment           1 NaN\n",
       "1  Adjustment           2 NaN\n",
       "2  Adjustment           3 NaN\n",
       "3  Adjustment           4 NaN\n",
       "4  Adjustment           5 NaN"
      ]
     },
     "execution_count": 28,
     "metadata": {},
     "output_type": "execute_result"
    }
   ],
   "source": [
    "#Agregamos como columna el campo 'customerId'\n",
    "dataModelo = df_matrix_norm.reset_index() \n",
    "dataModelo.head()"
   ]
  },
  {
   "cell_type": "code",
   "execution_count": 29,
   "metadata": {
    "application/vnd.databricks.v1+cell": {
     "cellMetadata": {},
     "inputWidgets": {},
     "nuid": "f31af8ff-d333-41c4-adbe-888982e74965",
     "showTitle": false,
     "title": ""
    }
   },
   "outputs": [
    {
     "data": {
      "text/html": [
       "<div>\n",
       "<style scoped>\n",
       "    .dataframe tbody tr th:only-of-type {\n",
       "        vertical-align: middle;\n",
       "    }\n",
       "\n",
       "    .dataframe tbody tr th {\n",
       "        vertical-align: top;\n",
       "    }\n",
       "\n",
       "    .dataframe thead th {\n",
       "        text-align: right;\n",
       "    }\n",
       "</style>\n",
       "<table border=\"1\" class=\"dataframe\">\n",
       "  <thead>\n",
       "    <tr style=\"text-align: right;\">\n",
       "      <th></th>\n",
       "      <th>productId</th>\n",
       "      <th>customerId</th>\n",
       "      <th>0</th>\n",
       "    </tr>\n",
       "    <tr>\n",
       "      <th>scaled_purchase_freq</th>\n",
       "      <th></th>\n",
       "      <th></th>\n",
       "      <th></th>\n",
       "    </tr>\n",
       "  </thead>\n",
       "  <tbody>\n",
       "    <tr>\n",
       "      <th>0</th>\n",
       "      <td>Adjustment</td>\n",
       "      <td>1</td>\n",
       "      <td>NaN</td>\n",
       "    </tr>\n",
       "    <tr>\n",
       "      <th>1</th>\n",
       "      <td>Adjustment</td>\n",
       "      <td>2</td>\n",
       "      <td>NaN</td>\n",
       "    </tr>\n",
       "    <tr>\n",
       "      <th>2</th>\n",
       "      <td>Adjustment</td>\n",
       "      <td>3</td>\n",
       "      <td>NaN</td>\n",
       "    </tr>\n",
       "    <tr>\n",
       "      <th>3</th>\n",
       "      <td>Adjustment</td>\n",
       "      <td>4</td>\n",
       "      <td>NaN</td>\n",
       "    </tr>\n",
       "    <tr>\n",
       "      <th>4</th>\n",
       "      <td>Adjustment</td>\n",
       "      <td>5</td>\n",
       "      <td>NaN</td>\n",
       "    </tr>\n",
       "  </tbody>\n",
       "</table>\n",
       "</div>"
      ],
      "text/plain": [
       "                       productId  customerId   0\n",
       "scaled_purchase_freq                            \n",
       "0                     Adjustment           1 NaN\n",
       "1                     Adjustment           2 NaN\n",
       "2                     Adjustment           3 NaN\n",
       "3                     Adjustment           4 NaN\n",
       "4                     Adjustment           5 NaN"
      ]
     },
     "execution_count": 29,
     "metadata": {},
     "output_type": "execute_result"
    }
   ],
   "source": [
    "#Cambiamos el nombre de la columna index por 'scaled_purchase_freq'\n",
    "dataModelo.index.names = ['scaled_purchase_freq'] \n",
    "dataModelo.head()"
   ]
  },
  {
   "cell_type": "code",
   "execution_count": 30,
   "metadata": {},
   "outputs": [
    {
     "data": {
      "text/html": [
       "<div>\n",
       "<style scoped>\n",
       "    .dataframe tbody tr th:only-of-type {\n",
       "        vertical-align: middle;\n",
       "    }\n",
       "\n",
       "    .dataframe tbody tr th {\n",
       "        vertical-align: top;\n",
       "    }\n",
       "\n",
       "    .dataframe thead th {\n",
       "        text-align: right;\n",
       "    }\n",
       "</style>\n",
       "<table border=\"1\" class=\"dataframe\">\n",
       "  <thead>\n",
       "    <tr style=\"text-align: right;\">\n",
       "      <th></th>\n",
       "      <th>productId</th>\n",
       "      <th>customerId</th>\n",
       "      <th>0</th>\n",
       "    </tr>\n",
       "  </thead>\n",
       "  <tbody>\n",
       "    <tr>\n",
       "      <th>0</th>\n",
       "      <td>Adjustment</td>\n",
       "      <td>1</td>\n",
       "      <td>NaN</td>\n",
       "    </tr>\n",
       "    <tr>\n",
       "      <th>1</th>\n",
       "      <td>Adjustment</td>\n",
       "      <td>2</td>\n",
       "      <td>NaN</td>\n",
       "    </tr>\n",
       "    <tr>\n",
       "      <th>2</th>\n",
       "      <td>Adjustment</td>\n",
       "      <td>3</td>\n",
       "      <td>NaN</td>\n",
       "    </tr>\n",
       "    <tr>\n",
       "      <th>3</th>\n",
       "      <td>Adjustment</td>\n",
       "      <td>4</td>\n",
       "      <td>NaN</td>\n",
       "    </tr>\n",
       "    <tr>\n",
       "      <th>4</th>\n",
       "      <td>Adjustment</td>\n",
       "      <td>5</td>\n",
       "      <td>NaN</td>\n",
       "    </tr>\n",
       "  </tbody>\n",
       "</table>\n",
       "</div>"
      ],
      "text/plain": [
       "    productId  customerId   0\n",
       "0  Adjustment           1 NaN\n",
       "1  Adjustment           2 NaN\n",
       "2  Adjustment           3 NaN\n",
       "3  Adjustment           4 NaN\n",
       "4  Adjustment           5 NaN"
      ]
     },
     "execution_count": 30,
     "metadata": {},
     "output_type": "execute_result"
    }
   ],
   "source": [
    "#Agregamos como columna el campo 'customerId'\n",
    "dataModelo = df_matrix_norm.reset_index() \n",
    "dataModelo.head()"
   ]
  },
  {
   "cell_type": "code",
   "execution_count": 31,
   "metadata": {
    "application/vnd.databricks.v1+cell": {
     "cellMetadata": {},
     "inputWidgets": {},
     "nuid": "e5799408-5a43-4912-a878-4a183b42f4b3",
     "showTitle": false,
     "title": ""
    }
   },
   "outputs": [
    {
     "data": {
      "text/html": [
       "<div>\n",
       "<style scoped>\n",
       "    .dataframe tbody tr th:only-of-type {\n",
       "        vertical-align: middle;\n",
       "    }\n",
       "\n",
       "    .dataframe tbody tr th {\n",
       "        vertical-align: top;\n",
       "    }\n",
       "\n",
       "    .dataframe thead th {\n",
       "        text-align: right;\n",
       "    }\n",
       "</style>\n",
       "<table border=\"1\" class=\"dataframe\">\n",
       "  <thead>\n",
       "    <tr style=\"text-align: right;\">\n",
       "      <th></th>\n",
       "      <th>customerId</th>\n",
       "      <th>variable</th>\n",
       "      <th>scaled_purchase_freq</th>\n",
       "    </tr>\n",
       "  </thead>\n",
       "  <tbody>\n",
       "    <tr>\n",
       "      <th>0</th>\n",
       "      <td>1</td>\n",
       "      <td>productId</td>\n",
       "      <td>Adjustment</td>\n",
       "    </tr>\n",
       "    <tr>\n",
       "      <th>1</th>\n",
       "      <td>2</td>\n",
       "      <td>productId</td>\n",
       "      <td>Adjustment</td>\n",
       "    </tr>\n",
       "    <tr>\n",
       "      <th>2</th>\n",
       "      <td>3</td>\n",
       "      <td>productId</td>\n",
       "      <td>Adjustment</td>\n",
       "    </tr>\n",
       "    <tr>\n",
       "      <th>3</th>\n",
       "      <td>4</td>\n",
       "      <td>productId</td>\n",
       "      <td>Adjustment</td>\n",
       "    </tr>\n",
       "    <tr>\n",
       "      <th>4</th>\n",
       "      <td>5</td>\n",
       "      <td>productId</td>\n",
       "      <td>Adjustment</td>\n",
       "    </tr>\n",
       "  </tbody>\n",
       "</table>\n",
       "</div>"
      ],
      "text/plain": [
       "   customerId   variable scaled_purchase_freq\n",
       "0           1  productId           Adjustment\n",
       "1           2  productId           Adjustment\n",
       "2           3  productId           Adjustment\n",
       "3           4  productId           Adjustment\n",
       "4           5  productId           Adjustment"
      ]
     },
     "execution_count": 31,
     "metadata": {},
     "output_type": "execute_result"
    }
   ],
   "source": [
    "#Obtenemos una matriz usuario, producto, rating/interacción\n",
    "dataModelo = pd.melt(dataModelo, id_vars=['customerId'], value_name='scaled_purchase_freq').dropna()\n",
    "dataModelo.head()"
   ]
  },
  {
   "cell_type": "code",
   "execution_count": 44,
   "metadata": {
    "application/vnd.databricks.v1+cell": {
     "cellMetadata": {},
     "inputWidgets": {},
     "nuid": "0527109a-1e3b-4a7e-b438-550858c08952",
     "showTitle": false,
     "title": ""
    }
   },
   "outputs": [],
   "source": [
    "dataModelo.scaled_purchase_freq.mean()"
   ]
  },
  {
   "cell_type": "markdown",
   "metadata": {
    "application/vnd.databricks.v1+cell": {
     "cellMetadata": {},
     "inputWidgets": {},
     "nuid": "43bf4e31-44ac-4036-89e2-bd9a26a6e072",
     "showTitle": false,
     "title": ""
    }
   },
   "source": [
    "**Definir modelos usando la librería Turicreate**"
   ]
  },
  {
   "cell_type": "code",
   "execution_count": null,
   "metadata": {
    "application/vnd.databricks.v1+cell": {
     "cellMetadata": {},
     "inputWidgets": {},
     "nuid": "a38a999b-f05b-4447-99c7-b55ece1266a3",
     "showTitle": false,
     "title": ""
    }
   },
   "outputs": [],
   "source": [
    "user_id = 'customerId'\n",
    "item_id = 'productId'\n",
    "users_to_recommend = list(dataset[user_id])\n",
    "\n",
    "n_rec = 10 #número de items recomendados\n",
    "n_display = 20 #visualizar las primeras 20 filas del resultado"
   ]
  },
  {
   "cell_type": "markdown",
   "metadata": {},
   "source": [
    "# 6. Agregación y representación de datos\n",
    "La etapa de agregación y representación de datos, se dedica a integrar múltiples conjuntos de datos para obtener una visión unificada."
   ]
  },
  {
   "cell_type": "markdown",
   "metadata": {},
   "source": [
    "El caso de negocio propuesto no requiere la integración de otros datos."
   ]
  },
  {
   "cell_type": "markdown",
   "metadata": {},
   "source": [
    "# 7. Análisis de datos\n",
    "La etapa de análisis de datos se enfoca en llevar a cabo la tarea de análisis propiamente dicha, que suele implicar uno o más tipos de análisis"
   ]
  },
  {
   "cell_type": "markdown",
   "metadata": {
    "application/vnd.databricks.v1+cell": {
     "cellMetadata": {},
     "inputWidgets": {},
     "nuid": "20dac0f1-8f6d-41e6-b518-5cfca882c316",
     "showTitle": false,
     "title": ""
    }
   },
   "source": [
    "## Implementación modelo Popularity (basado en popularidad)\n",
    "Como revisamos anteriormente, el modelo **Popularity** es la manera más sencilla de crear un sistema de recomendación. Entonces, ¿cómo identificamos los productos populares? ¿Cuáles son los productos que tienen mejor puntaje/rating?"
   ]
  },
  {
   "cell_type": "code",
   "execution_count": null,
   "metadata": {
    "application/vnd.databricks.v1+cell": {
     "cellMetadata": {},
     "inputWidgets": {},
     "nuid": "2981fec0-7aa4-4d31-bf29-e3bad051066a",
     "showTitle": false,
     "title": ""
    }
   },
   "outputs": [],
   "source": [
    "#Crear modelo por popularidad\n",
    "popularity = tc.popularity_recommender.create(tc.SFrame(dataModelo), \n",
    "                                                    user_id = user_id, \n",
    "                                                    item_id = item_id, \n",
    "                                                     target='scaled_purchase_freq')\n",
    "#Recomendación de productos por popularidad\n",
    "recom = popularity.recommend(users=users_to_recommend, k=n_rec)\n",
    "recom.print_rows(n_display)"
   ]
  },
  {
   "cell_type": "markdown",
   "metadata": {
    "application/vnd.databricks.v1+cell": {
     "cellMetadata": {},
     "inputWidgets": {},
     "nuid": "028a3b4a-55d6-4066-8463-315f87418ad1",
     "showTitle": false,
     "title": ""
    }
   },
   "source": [
    "#### Conclusión: \n",
    "La aplicación móvil podría indicar los artículos populares a los clientes nuevos de los que no se tienen mayor información de sus transacciones. Los productos que deberían generarse como recomendación serían: \n",
    "* Argentina Night, Kids biscuit, Pick and Mix Bowls, My-5 Fruit Shoot, Victorian Sponge, Honey, Bowl Nic Pitt, Fairy Doors, Spread, Chimichurri Oil"
   ]
  },
  {
   "cell_type": "markdown",
   "metadata": {},
   "source": [
    "### Implementación modelo Collaborative filtering (filtrado colaborativo)"
   ]
  },
  {
   "cell_type": "markdown",
   "metadata": {
    "application/vnd.databricks.v1+cell": {
     "cellMetadata": {},
     "inputWidgets": {},
     "nuid": "258e82ae-7cf9-4f6b-a603-522c36a64d69",
     "showTitle": false,
     "title": ""
    }
   },
   "source": [
    "\n",
    "Como revisamos anteriormente, en el modelo de filtrado colaborativo, recomendamos elementos en función de cómo compran elementos usuarios similares. Los modelos de filtrado colaborativo pueden ser calculados por la ténica del **vecino más cercano** o por **factorización de matrices**.\n",
    "\n",
    " * **Vecino más cercano:** el enfoque del vecino más cercano se utiliza para encontrar usuarios o productos similares. \n"
   ]
  },
  {
   "cell_type": "code",
   "execution_count": null,
   "metadata": {
    "application/vnd.databricks.v1+cell": {
     "cellMetadata": {},
     "inputWidgets": {},
     "nuid": "665fa732-9542-4352-a873-3e73ae2ff621",
     "showTitle": false,
     "title": ""
    }
   },
   "outputs": [],
   "source": [
    "#Creamos el modelo por filtrado colaborativo\n",
    "filter_model = tc.item_similarity_recommender.create(tc.SFrame(dataModelo), \n",
    "                                            user_id = user_id, \n",
    "                                            item_id = item_id)\n",
    "#Recomendación del modelo de filtrado colaborativo\n",
    "recom = filter_model.recommend(users=users_to_recommend, k=n_rec)\n",
    "recom.print_rows(n_display)"
   ]
  },
  {
   "cell_type": "markdown",
   "metadata": {},
   "source": [
    "# 8. Visualización de datos\n",
    "La capacidad de analizar grandes cantidades de datos y obtener información útil tiene poco valor si los únicos que pueden interpretar los resultados son los analistas.\n",
    "La etapa de visualización de datos se dedica a utilizar técnicas y herramientas de visualización de datos para comunicar gráficamente los resultados del análisis con vistas a una interpretación eficaz por parte de los usuarios empresariales."
   ]
  },
  {
   "cell_type": "code",
   "execution_count": null,
   "metadata": {
    "application/vnd.databricks.v1+cell": {
     "cellMetadata": {},
     "inputWidgets": {},
     "nuid": "4f6f3607-2ed9-4412-9697-4a5042b9fd34",
     "showTitle": false,
     "title": ""
    }
   },
   "outputs": [],
   "source": [
    "#Productos similares\n",
    "filter_model.get_similar_items(items=['Coffee','Pastry','Scandinavian'], k=2 )"
   ]
  },
  {
   "cell_type": "code",
   "execution_count": null,
   "metadata": {
    "application/vnd.databricks.v1+cell": {
     "cellMetadata": {},
     "inputWidgets": {},
     "nuid": "0222fb46-3d40-4a17-acc8-ae553db17b17",
     "showTitle": false,
     "title": ""
    }
   },
   "outputs": [],
   "source": [
    "#Recomienda productos que el cliente aun no ha comprado\n",
    "dataModelo[dataModelo['customerId']==2]"
   ]
  },
  {
   "cell_type": "markdown",
   "metadata": {},
   "source": [
    "# 9. Utilización de los resultados del análisis\n",
    "Después de que los resultados del análisis se pongan a disposición de los usuarios de negocio para apoyar la toma de decisiones empresariales, por ejemplo a través de cuadros de mando o paneles, puede haber más oportunidades para utilizar los resultados del análisis. La etapa de utilización de los resultados del análisis, esta enfocada en determinar cómo y dónde se pueden aprovechar más los datos del análisis procesado."
   ]
  },
  {
   "cell_type": "markdown",
   "metadata": {},
   "source": [
    "**Conclusiones**"
   ]
  },
  {
   "cell_type": "markdown",
   "metadata": {},
   "source": [
    "Con este breve análisis se podría concluir que:\n",
    "\n",
    " * La aplicación móvil podría indicar los artículos populares a los clientes nuevos de los que no se tienen mayor información de sus transacciones. Los productos que deberían generarse como recomendación serían: Argentina Night, Kids biscuit, Pick and Mix Bowls, My-5 Fruit Shoot, Victorian Sponge, Honey, Bowl Nic Pitt, Fairy Doors, Spread, Chimichurri Oil.\n",
    "\n",
    " * Para aquellos clientes que ya tienen un historial de compra, la aplicación móvil les recomendaría de forma personalizada los 10 mejores productos. En el caso del cliente \"1\" se le podría recomendar Coffe o Pastry."
   ]
  },
  {
   "cell_type": "markdown",
   "metadata": {},
   "source": [
    "# **Referencias** <a class=\"anchor\" id=\"18\"></a>\n",
    "    \n",
    "\n",
    "  1. https://unipython.com/como-desarrollar-un-sistema-de-recomendacion-en-python/\n",
    "\n",
    "  2. https://ourcodeworld.co/articulos/leer/1101/construyendo-un-sistema-de-recomendacion-simple-en-python\n",
    "\n",
    "  3. https://anderfernandez.com/blog/sistema-de-recomendacion-con-python/\n",
    "  \n",
    "\n"
   ]
  }
 ],
 "metadata": {
  "application/vnd.databricks.v1+notebook": {
   "dashboards": [],
   "language": "python",
   "notebookMetadata": {
    "pythonIndentUnit": 2
   },
   "notebookName": "02 Motor de recomendaciones",
   "notebookOrigID": 2046640213322581,
   "widgets": {}
  },
  "kernelspec": {
   "display_name": "Python 3 (ipykernel)",
   "language": "python",
   "name": "python3"
  },
  "language_info": {
   "codemirror_mode": {
    "name": "ipython",
    "version": 3
   },
   "file_extension": ".py",
   "mimetype": "text/x-python",
   "name": "python",
   "nbconvert_exporter": "python",
   "pygments_lexer": "ipython3",
   "version": "3.10.9"
  }
 },
 "nbformat": 4,
 "nbformat_minor": 4
}
