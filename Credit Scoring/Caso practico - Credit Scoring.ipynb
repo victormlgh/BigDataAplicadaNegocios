{
 "cells": [
  {
   "cell_type": "markdown",
   "metadata": {
    "id": "VpK7esl5Dyya"
   },
   "source": [
    "# <center> Unidad 6: Credit Scoring </center>"
   ]
  },
  {
   "cell_type": "markdown",
   "metadata": {},
   "source": [
    "## Introducción\n",
    "En esta lección revisaremos los modelos de **Credit Scoring** como una herramienta muy importante en la gestión de riesgos financieros y permiten a las instituciones financieras tomar decisiones más objetivas y equitativas.\n",
    "\n",
    "Los modelos de **Credit Scoring** son algoritmos utilizados por las entidades financieras para evaluar el riesgo crediticio de un solicitante de financiamiento o de alguien que ya es cliente de la entidad. La importancia de estos modelos radica en su poder predictivo de un posible incumplimiento de crédito, lo que permite a las instituciones financieras tomar decisiones más objetivas y equitativas.\n",
    "\n",
    "Para la elaboración de estos modelos, cada entidad financiera define las variables y el tipo de modelo o modelos de credit scoring que empleará. En el proceso de definición de variables se pueden utilizar tanto variables cuantitativas como cualitativas para enriquecer la información que permita evaluar la calidad crediticia del cliente.\n",
    "\n",
    "Los modelos de credit scoring han demostrado ser superiores a los juicios expertos cualitativos en la predicción del riesgo crediticio. Además, tener un buen puntaje crediticio es importante ya que éste se utiliza para evaluar a un individuo antes de otorgar un préstamo, tarjeta de crédito e incluso en muchos casos para empleo."
   ]
  },
  {
   "cell_type": "markdown",
   "metadata": {
    "id": "ecKA9vJxC7ft"
   },
   "source": [
    "# **Scorecard con un modelo lineal**\n",
    "\n",
    "Este cuaderno introduce el uso de Python para realizar la estimación  de un modelo lineal de credit scoring utilizando una regresión logística. Al final, la estimación desemboca en la creación de un scorecard.\n",
    "\n",
    "**Objetivos**\n",
    "* Comprender el uso de sklearn para estimar modelos lineales\n",
    "* Comprender la combinación de sklearn y optbin para la creación de scorecards\n",
    "* Comprender el uso de scorecards"
   ]
  },
  {
   "cell_type": "markdown",
   "metadata": {},
   "source": [
    "# Caso práctico\n",
    "\n",
    "Este material expande el marco inicial de los modelos de Credit Scoring y aborda la temática en un contexto del análisis y resolución de un caso práctico con Python. Tiene por objetivo analizar la aplicabilidad del Credit Scoring para evaluar el riesgo crediticio usando como referencia las 9 etapas del ciclo de vida del Big Data."
   ]
  },
  {
   "cell_type": "markdown",
   "metadata": {
    "id": "cKzlhxN5D3ia"
   },
   "source": [
    "## 1. Evaluación de necesidades del negocio\n",
    "La fase de evaluación del caso de negocio requiere que se cree, evalúe y apruebe un caso de negocio antes de proceder a las tareas reales de análisis práctico.\n",
    "\n"
   ]
  },
  {
   "cell_type": "markdown",
   "metadata": {
    "id": "cKzlhxN5D3ia"
   },
   "source": [
    "# 2. Identificación de datos\n",
    "La etapa de identificación de datos consiste en identificar los conjuntos de datos necesarios para el proyecto de análisis y sus fuentes.\n"
   ]
  },
  {
   "cell_type": "markdown",
   "metadata": {
    "id": "cKzlhxN5D3ia"
   },
   "source": [
    "**Diccionario de datos**\n",
    "\n",
    "* `id`: Identificación del prestatario\n",
    "* `SeriousDlqin2yrs`: Prestatario con 90 días de morosidad o más\n",
    "* `age`: Edad del prestatario (en años)\n",
    "* `NumberOfTime30-59DaysPastDueNotWorse`: Número de veces que el prestatario ha estado entre 30 y 59 días en mora en los últimos 2 años.\n",
    "* `DebtRatio`: Indicador de pagos mensuales de deudas, pensión alimenticia, gastos de manutención divididos por los ingresos brutos mensuales.\n",
    "* `MonthlyIncome`: Ingreso mensual.\n",
    "* `NumberOfOpenCreditLinesAndLoans`: Número de préstamos vigentesy líneas de crédito (por ejemplo, tarjetas de crédito).\n",
    "* `NumberOfTimes90DaysLate`: Número de veces que el prestatario ha estado en mora por 90 días o más.\n",
    "* `NumberRealEstateLoansOrLines`: Número de préstamos hipotecarios e inmobiliarios, incluidas las líneas de crédito con garantía hipotecaria.\n",
    "* `NumberOfTime60-89DaysPastDueNotWorse`: Número de veces que el prestatario ha estado en mora entre 60 y 89 días en los últimos 2 años.\n",
    "* `NumberOfDependents`: Número de personas a cargo en la familia, excluidos ellos mismos (cónyuge, hijos, etc.)"
   ]
  },
  {
   "cell_type": "markdown",
   "metadata": {
    "id": "cKzlhxN5D3ia"
   },
   "source": [
    "# 3. Adquisición y filtrado de datos\n",
    "Durante la etapa de adquisición y filtrado de datos se recopilan los datos de todas las fuentes de datos que se identificaron durante la etapa Identificación de datos.\n",
    "\n",
    "El conjunto de datos planteado contiene información sobre el comportamiento de compra de 2.000 individuos de una zona determinada al entrar en una tienda física de productos de gran consumo. Todos los datos se han recogido a través de las tarjetas de fidelización que utilizan en caja. Los datos han sido preprocesados y no faltan valores. Además, el volumen del conjunto de datos se ha restringido y anonimizado para proteger la privacidad de los clientes. "
   ]
  },
  {
   "cell_type": "markdown",
   "metadata": {
    "id": "cKzlhxN5D3ia"
   },
   "source": [
    "# 4. Extracción de datos\n",
    "Durante esta etapa se debe extraer datos dispares y transformarlos en un formato que pueda facilitar el análisis de datos. "
   ]
  },
  {
   "cell_type": "markdown",
   "metadata": {
    "id": "cKzlhxN5D3ia"
   },
   "source": [
    "**Instalar librerías**"
   ]
  },
  {
   "cell_type": "code",
   "execution_count": 1,
   "metadata": {
    "colab": {
     "base_uri": "https://localhost:8080/"
    },
    "executionInfo": {
     "elapsed": 3627,
     "status": "ok",
     "timestamp": 1671502035742,
     "user": {
      "displayName": "Hugo Porras",
      "userId": "03803614839807938847"
     },
     "user_tz": 300
    },
    "id": "7tYkRew9ORTO",
    "outputId": "cb6896cc-706f-4c6c-fe6b-a6779c40aaae"
   },
   "outputs": [
    {
     "name": "stdout",
     "output_type": "stream",
     "text": [
      "Collecting dataprep==0.4.0\n",
      "  Downloading dataprep-0.4.0-py3-none-any.whl (2.1 MB)\n",
      "     ---------------------------------------- 2.1/2.1 MB 4.2 MB/s eta 0:00:00\n",
      "Collecting jsonpath-ng<2.0,>=1.5\n",
      "  Downloading jsonpath_ng-1.5.3-py3-none-any.whl (29 kB)\n",
      "Collecting dask[array,dataframe,delayed]<3.0,>=2.25\n",
      "  Downloading dask-2.30.0-py3-none-any.whl (848 kB)\n",
      "     ------------------------------------- 848.4/848.4 kB 13.5 MB/s eta 0:00:00\n",
      "Requirement already satisfied: pandas<2.0,>=1.1 in c:\\users\\victo\\anaconda3\\lib\\site-packages (from dataprep==0.4.0) (1.4.4)\n",
      "Requirement already satisfied: tqdm<5.0,>=4.48 in c:\\users\\victo\\anaconda3\\lib\\site-packages (from dataprep==0.4.0) (4.64.1)\n",
      "Requirement already satisfied: scipy<2,>=1 in c:\\users\\victo\\anaconda3\\lib\\site-packages (from dataprep==0.4.0) (1.9.1)\n",
      "Requirement already satisfied: bokeh<3,>=2 in c:\\users\\victo\\anaconda3\\lib\\site-packages (from dataprep==0.4.0) (2.4.3)\n",
      "Requirement already satisfied: numpy<2,>=1 in c:\\users\\victo\\anaconda3\\lib\\site-packages (from dataprep==0.4.0) (1.21.5)\n",
      "Collecting pydantic<2.0,>=1.6\n",
      "  Downloading pydantic-1.10.4-cp39-cp39-win_amd64.whl (2.1 MB)\n",
      "     ---------------------------------------- 2.1/2.1 MB 11.4 MB/s eta 0:00:00\n",
      "Requirement already satisfied: jinja2<3.0,>=2.11 in c:\\users\\victo\\anaconda3\\lib\\site-packages (from dataprep==0.4.0) (2.11.3)\n",
      "Collecting wordcloud<2.0,>=1.8\n",
      "  Downloading wordcloud-1.8.2.2-cp39-cp39-win_amd64.whl (153 kB)\n",
      "     -------------------------------------- 153.1/153.1 kB 8.9 MB/s eta 0:00:00\n",
      "Requirement already satisfied: ipywidgets<8.0,>=7.5 in c:\\users\\victo\\anaconda3\\lib\\site-packages (from dataprep==0.4.0) (7.6.5)\n",
      "Collecting levenshtein<0.13.0,>=0.12.0\n",
      "  Downloading levenshtein-0.12.0-cp39-cp39-win_amd64.whl (82 kB)\n",
      "     ---------------------------------------- 82.8/82.8 kB ? eta 0:00:00\n",
      "Collecting metaphone<0.7,>=0.6\n",
      "  Downloading Metaphone-0.6.tar.gz (14 kB)\n",
      "  Preparing metadata (setup.py): started\n",
      "  Preparing metadata (setup.py): finished with status 'done'\n",
      "Requirement already satisfied: bottleneck<2.0,>=1.3 in c:\\users\\victo\\anaconda3\\lib\\site-packages (from dataprep==0.4.0) (1.3.5)\n",
      "Collecting aiohttp<4.0,>=3.6\n",
      "  Downloading aiohttp-3.8.3-cp39-cp39-win_amd64.whl (323 kB)\n",
      "     ------------------------------------- 323.5/323.5 kB 10.1 MB/s eta 0:00:00\n",
      "Requirement already satisfied: nltk<4.0,>=3.5 in c:\\users\\victo\\anaconda3\\lib\\site-packages (from dataprep==0.4.0) (3.7)\n",
      "Collecting regex<2021.0.0,>=2020.10.15\n",
      "  Downloading regex-2020.11.13-cp39-cp39-win_amd64.whl (270 kB)\n",
      "     -------------------------------------- 270.4/270.4 kB 8.4 MB/s eta 0:00:00\n",
      "Collecting usaddress<0.6.0,>=0.5.10\n",
      "  Downloading usaddress-0.5.10-py2.py3-none-any.whl (63 kB)\n",
      "     ---------------------------------------- 63.9/63.9 kB 3.4 MB/s eta 0:00:00\n",
      "Collecting python-stdnum<2.0,>=1.16\n",
      "  Downloading python_stdnum-1.18-py2.py3-none-any.whl (1.0 MB)\n",
      "     ---------------------------------------- 1.0/1.0 MB 10.6 MB/s eta 0:00:00\n",
      "Collecting varname<0.9.0,>=0.8.1\n",
      "  Downloading varname-0.8.3-py3-none-any.whl (21 kB)\n",
      "Requirement already satisfied: charset-normalizer<3.0,>=2.0 in c:\\users\\victo\\anaconda3\\lib\\site-packages (from aiohttp<4.0,>=3.6->dataprep==0.4.0) (2.0.4)\n",
      "Collecting frozenlist>=1.1.1\n",
      "  Downloading frozenlist-1.3.3-cp39-cp39-win_amd64.whl (34 kB)\n",
      "Collecting yarl<2.0,>=1.0\n",
      "  Downloading yarl-1.8.2-cp39-cp39-win_amd64.whl (56 kB)\n",
      "     ---------------------------------------- 56.8/56.8 kB 2.9 MB/s eta 0:00:00\n",
      "Collecting aiosignal>=1.1.2\n",
      "  Downloading aiosignal-1.3.1-py3-none-any.whl (7.6 kB)\n",
      "Collecting async-timeout<5.0,>=4.0.0a3\n",
      "  Downloading async_timeout-4.0.2-py3-none-any.whl (5.8 kB)\n",
      "Requirement already satisfied: attrs>=17.3.0 in c:\\users\\victo\\anaconda3\\lib\\site-packages (from aiohttp<4.0,>=3.6->dataprep==0.4.0) (21.4.0)\n",
      "Collecting multidict<7.0,>=4.5\n",
      "  Downloading multidict-6.0.4-cp39-cp39-win_amd64.whl (28 kB)\n",
      "Requirement already satisfied: typing-extensions>=3.10.0 in c:\\users\\victo\\anaconda3\\lib\\site-packages (from bokeh<3,>=2->dataprep==0.4.0) (4.3.0)\n",
      "Requirement already satisfied: tornado>=5.1 in c:\\users\\victo\\anaconda3\\lib\\site-packages (from bokeh<3,>=2->dataprep==0.4.0) (6.1)\n",
      "Requirement already satisfied: PyYAML>=3.10 in c:\\users\\victo\\anaconda3\\lib\\site-packages (from bokeh<3,>=2->dataprep==0.4.0) (6.0)\n",
      "Requirement already satisfied: pillow>=7.1.0 in c:\\users\\victo\\anaconda3\\lib\\site-packages (from bokeh<3,>=2->dataprep==0.4.0) (9.2.0)\n",
      "Requirement already satisfied: packaging>=16.8 in c:\\users\\victo\\anaconda3\\lib\\site-packages (from bokeh<3,>=2->dataprep==0.4.0) (21.3)\n",
      "Requirement already satisfied: toolz>=0.8.2 in c:\\users\\victo\\anaconda3\\lib\\site-packages (from dask[array,dataframe,delayed]<3.0,>=2.25->dataprep==0.4.0) (0.11.2)\n",
      "Requirement already satisfied: partd>=0.3.10 in c:\\users\\victo\\anaconda3\\lib\\site-packages (from dask[array,dataframe,delayed]<3.0,>=2.25->dataprep==0.4.0) (1.2.0)\n",
      "Requirement already satisfied: fsspec>=0.6.0 in c:\\users\\victo\\anaconda3\\lib\\site-packages (from dask[array,dataframe,delayed]<3.0,>=2.25->dataprep==0.4.0) (2022.7.1)\n",
      "Requirement already satisfied: cloudpickle>=0.2.2 in c:\\users\\victo\\anaconda3\\lib\\site-packages (from dask[array,dataframe,delayed]<3.0,>=2.25->dataprep==0.4.0) (2.0.0)\n",
      "Requirement already satisfied: traitlets>=4.3.1 in c:\\users\\victo\\anaconda3\\lib\\site-packages (from ipywidgets<8.0,>=7.5->dataprep==0.4.0) (5.1.1)\n",
      "Requirement already satisfied: ipython-genutils~=0.2.0 in c:\\users\\victo\\anaconda3\\lib\\site-packages (from ipywidgets<8.0,>=7.5->dataprep==0.4.0) (0.2.0)\n",
      "Requirement already satisfied: nbformat>=4.2.0 in c:\\users\\victo\\anaconda3\\lib\\site-packages (from ipywidgets<8.0,>=7.5->dataprep==0.4.0) (5.5.0)\n",
      "Requirement already satisfied: ipykernel>=4.5.1 in c:\\users\\victo\\anaconda3\\lib\\site-packages (from ipywidgets<8.0,>=7.5->dataprep==0.4.0) (6.15.2)\n",
      "Requirement already satisfied: widgetsnbextension~=3.5.0 in c:\\users\\victo\\anaconda3\\lib\\site-packages (from ipywidgets<8.0,>=7.5->dataprep==0.4.0) (3.5.2)\n",
      "Requirement already satisfied: jupyterlab-widgets>=1.0.0 in c:\\users\\victo\\anaconda3\\lib\\site-packages (from ipywidgets<8.0,>=7.5->dataprep==0.4.0) (1.0.0)\n",
      "Requirement already satisfied: ipython>=4.0.0 in c:\\users\\victo\\anaconda3\\lib\\site-packages (from ipywidgets<8.0,>=7.5->dataprep==0.4.0) (7.31.1)\n",
      "Requirement already satisfied: MarkupSafe>=0.23 in c:\\users\\victo\\anaconda3\\lib\\site-packages (from jinja2<3.0,>=2.11->dataprep==0.4.0) (2.0.1)\n",
      "Requirement already satisfied: decorator in c:\\users\\victo\\anaconda3\\lib\\site-packages (from jsonpath-ng<2.0,>=1.5->dataprep==0.4.0) (5.1.1)\n",
      "Requirement already satisfied: six in c:\\users\\victo\\anaconda3\\lib\\site-packages (from jsonpath-ng<2.0,>=1.5->dataprep==0.4.0) (1.16.0)\n",
      "Collecting ply\n",
      "  Downloading ply-3.11-py2.py3-none-any.whl (49 kB)\n",
      "     ---------------------------------------- 49.6/49.6 kB 2.5 MB/s eta 0:00:00\n",
      "Requirement already satisfied: setuptools in c:\\users\\victo\\anaconda3\\lib\\site-packages (from levenshtein<0.13.0,>=0.12.0->dataprep==0.4.0) (63.4.1)\n",
      "Collecting nltk<4.0,>=3.5\n",
      "  Downloading nltk-3.8.1-py3-none-any.whl (1.5 MB)\n",
      "     ---------------------------------------- 1.5/1.5 MB 9.6 MB/s eta 0:00:00\n",
      "  Downloading nltk-3.8-py3-none-any.whl (1.5 MB)\n",
      "     ---------------------------------------- 1.5/1.5 MB 10.6 MB/s eta 0:00:00\n",
      "  Downloading nltk-3.6.7-py3-none-any.whl (1.5 MB)\n",
      "     ---------------------------------------- 1.5/1.5 MB 11.9 MB/s eta 0:00:00\n",
      "  Downloading nltk-3.6.6-py3-none-any.whl (1.5 MB)\n",
      "     ---------------------------------------- 1.5/1.5 MB 11.8 MB/s eta 0:00:00\n",
      "  Downloading nltk-3.6.5-py3-none-any.whl (1.5 MB)\n",
      "     ---------------------------------------- 1.5/1.5 MB 11.6 MB/s eta 0:00:00\n",
      "  Downloading nltk-3.6.3-py3-none-any.whl (1.5 MB)\n",
      "     ---------------------------------------- 1.5/1.5 MB 11.5 MB/s eta 0:00:00\n",
      "Requirement already satisfied: click in c:\\users\\victo\\anaconda3\\lib\\site-packages (from nltk<4.0,>=3.5->dataprep==0.4.0) (8.0.4)\n",
      "Requirement already satisfied: joblib in c:\\users\\victo\\anaconda3\\lib\\site-packages (from nltk<4.0,>=3.5->dataprep==0.4.0) (1.1.0)\n",
      "Requirement already satisfied: python-dateutil>=2.8.1 in c:\\users\\victo\\anaconda3\\lib\\site-packages (from pandas<2.0,>=1.1->dataprep==0.4.0) (2.8.2)\n",
      "Requirement already satisfied: pytz>=2020.1 in c:\\users\\victo\\anaconda3\\lib\\site-packages (from pandas<2.0,>=1.1->dataprep==0.4.0) (2022.1)\n",
      "Requirement already satisfied: colorama in c:\\users\\victo\\anaconda3\\lib\\site-packages (from tqdm<5.0,>=4.48->dataprep==0.4.0) (0.4.5)\n",
      "Requirement already satisfied: future>=0.14 in c:\\users\\victo\\anaconda3\\lib\\site-packages (from usaddress<0.6.0,>=0.5.10->dataprep==0.4.0) (0.18.2)\n",
      "Collecting probableparsing\n",
      "  Downloading probableparsing-0.0.1-py2.py3-none-any.whl (3.1 kB)\n",
      "Collecting python-crfsuite>=0.7\n",
      "  Downloading python_crfsuite-0.9.8-cp39-cp39-win_amd64.whl (158 kB)\n",
      "     -------------------------------------- 158.6/158.6 kB 9.9 MB/s eta 0:00:00\n",
      "Collecting asttokens<3.0.0,>=2.0.0\n",
      "  Downloading asttokens-2.2.1-py2.py3-none-any.whl (26 kB)\n",
      "Collecting executing<0.9.0,>=0.8.3\n",
      "  Downloading executing-0.8.3-py2.py3-none-any.whl (16 kB)\n",
      "Collecting pure_eval<1.0.0\n",
      "  Downloading pure_eval-0.2.2-py3-none-any.whl (11 kB)\n",
      "Requirement already satisfied: matplotlib in c:\\users\\victo\\anaconda3\\lib\\site-packages (from wordcloud<2.0,>=1.8->dataprep==0.4.0) (3.5.2)\n",
      "Requirement already satisfied: debugpy>=1.0 in c:\\users\\victo\\anaconda3\\lib\\site-packages (from ipykernel>=4.5.1->ipywidgets<8.0,>=7.5->dataprep==0.4.0) (1.5.1)\n",
      "Requirement already satisfied: matplotlib-inline>=0.1 in c:\\users\\victo\\anaconda3\\lib\\site-packages (from ipykernel>=4.5.1->ipywidgets<8.0,>=7.5->dataprep==0.4.0) (0.1.6)\n",
      "Requirement already satisfied: jupyter-client>=6.1.12 in c:\\users\\victo\\anaconda3\\lib\\site-packages (from ipykernel>=4.5.1->ipywidgets<8.0,>=7.5->dataprep==0.4.0) (7.3.4)\n",
      "Requirement already satisfied: pyzmq>=17 in c:\\users\\victo\\anaconda3\\lib\\site-packages (from ipykernel>=4.5.1->ipywidgets<8.0,>=7.5->dataprep==0.4.0) (23.2.0)\n",
      "Requirement already satisfied: psutil in c:\\users\\victo\\anaconda3\\lib\\site-packages (from ipykernel>=4.5.1->ipywidgets<8.0,>=7.5->dataprep==0.4.0) (5.9.0)\n",
      "Requirement already satisfied: nest-asyncio in c:\\users\\victo\\anaconda3\\lib\\site-packages (from ipykernel>=4.5.1->ipywidgets<8.0,>=7.5->dataprep==0.4.0) (1.5.5)\n",
      "Requirement already satisfied: backcall in c:\\users\\victo\\anaconda3\\lib\\site-packages (from ipython>=4.0.0->ipywidgets<8.0,>=7.5->dataprep==0.4.0) (0.2.0)\n",
      "Requirement already satisfied: pygments in c:\\users\\victo\\anaconda3\\lib\\site-packages (from ipython>=4.0.0->ipywidgets<8.0,>=7.5->dataprep==0.4.0) (2.11.2)\n",
      "Requirement already satisfied: jedi>=0.16 in c:\\users\\victo\\anaconda3\\lib\\site-packages (from ipython>=4.0.0->ipywidgets<8.0,>=7.5->dataprep==0.4.0) (0.18.1)\n",
      "Requirement already satisfied: prompt-toolkit!=3.0.0,!=3.0.1,<3.1.0,>=2.0.0 in c:\\users\\victo\\anaconda3\\lib\\site-packages (from ipython>=4.0.0->ipywidgets<8.0,>=7.5->dataprep==0.4.0) (3.0.20)\n",
      "Requirement already satisfied: pickleshare in c:\\users\\victo\\anaconda3\\lib\\site-packages (from ipython>=4.0.0->ipywidgets<8.0,>=7.5->dataprep==0.4.0) (0.7.5)\n",
      "Requirement already satisfied: jupyter_core in c:\\users\\victo\\anaconda3\\lib\\site-packages (from nbformat>=4.2.0->ipywidgets<8.0,>=7.5->dataprep==0.4.0) (4.11.1)\n",
      "Requirement already satisfied: jsonschema>=2.6 in c:\\users\\victo\\anaconda3\\lib\\site-packages (from nbformat>=4.2.0->ipywidgets<8.0,>=7.5->dataprep==0.4.0) (4.16.0)\n",
      "Requirement already satisfied: fastjsonschema in c:\\users\\victo\\anaconda3\\lib\\site-packages (from nbformat>=4.2.0->ipywidgets<8.0,>=7.5->dataprep==0.4.0) (2.16.2)\n",
      "Requirement already satisfied: pyparsing!=3.0.5,>=2.0.2 in c:\\users\\victo\\anaconda3\\lib\\site-packages (from packaging>=16.8->bokeh<3,>=2->dataprep==0.4.0) (3.0.9)\n",
      "Requirement already satisfied: locket in c:\\users\\victo\\anaconda3\\lib\\site-packages (from partd>=0.3.10->dask[array,dataframe,delayed]<3.0,>=2.25->dataprep==0.4.0) (1.0.0)\n",
      "Requirement already satisfied: notebook>=4.4.1 in c:\\users\\victo\\anaconda3\\lib\\site-packages (from widgetsnbextension~=3.5.0->ipywidgets<8.0,>=7.5->dataprep==0.4.0) (6.4.12)\n",
      "Requirement already satisfied: idna>=2.0 in c:\\users\\victo\\anaconda3\\lib\\site-packages (from yarl<2.0,>=1.0->aiohttp<4.0,>=3.6->dataprep==0.4.0) (3.3)\n",
      "Requirement already satisfied: kiwisolver>=1.0.1 in c:\\users\\victo\\anaconda3\\lib\\site-packages (from matplotlib->wordcloud<2.0,>=1.8->dataprep==0.4.0) (1.4.2)\n",
      "Requirement already satisfied: fonttools>=4.22.0 in c:\\users\\victo\\anaconda3\\lib\\site-packages (from matplotlib->wordcloud<2.0,>=1.8->dataprep==0.4.0) (4.25.0)\n",
      "Requirement already satisfied: cycler>=0.10 in c:\\users\\victo\\anaconda3\\lib\\site-packages (from matplotlib->wordcloud<2.0,>=1.8->dataprep==0.4.0) (0.11.0)\n",
      "Requirement already satisfied: parso<0.9.0,>=0.8.0 in c:\\users\\victo\\anaconda3\\lib\\site-packages (from jedi>=0.16->ipython>=4.0.0->ipywidgets<8.0,>=7.5->dataprep==0.4.0) (0.8.3)\n",
      "Requirement already satisfied: pyrsistent!=0.17.0,!=0.17.1,!=0.17.2,>=0.14.0 in c:\\users\\victo\\anaconda3\\lib\\site-packages (from jsonschema>=2.6->nbformat>=4.2.0->ipywidgets<8.0,>=7.5->dataprep==0.4.0) (0.18.0)\n",
      "Requirement already satisfied: entrypoints in c:\\users\\victo\\anaconda3\\lib\\site-packages (from jupyter-client>=6.1.12->ipykernel>=4.5.1->ipywidgets<8.0,>=7.5->dataprep==0.4.0) (0.4)\n",
      "Requirement already satisfied: pywin32>=1.0 in c:\\users\\victo\\anaconda3\\lib\\site-packages (from jupyter_core->nbformat>=4.2.0->ipywidgets<8.0,>=7.5->dataprep==0.4.0) (302)\n",
      "Requirement already satisfied: nbconvert>=5 in c:\\users\\victo\\anaconda3\\lib\\site-packages (from notebook>=4.4.1->widgetsnbextension~=3.5.0->ipywidgets<8.0,>=7.5->dataprep==0.4.0) (6.4.4)\n",
      "Requirement already satisfied: prometheus-client in c:\\users\\victo\\anaconda3\\lib\\site-packages (from notebook>=4.4.1->widgetsnbextension~=3.5.0->ipywidgets<8.0,>=7.5->dataprep==0.4.0) (0.14.1)\n",
      "Requirement already satisfied: argon2-cffi in c:\\users\\victo\\anaconda3\\lib\\site-packages (from notebook>=4.4.1->widgetsnbextension~=3.5.0->ipywidgets<8.0,>=7.5->dataprep==0.4.0) (21.3.0)\n",
      "Requirement already satisfied: terminado>=0.8.3 in c:\\users\\victo\\anaconda3\\lib\\site-packages (from notebook>=4.4.1->widgetsnbextension~=3.5.0->ipywidgets<8.0,>=7.5->dataprep==0.4.0) (0.13.1)\n",
      "Requirement already satisfied: Send2Trash>=1.8.0 in c:\\users\\victo\\anaconda3\\lib\\site-packages (from notebook>=4.4.1->widgetsnbextension~=3.5.0->ipywidgets<8.0,>=7.5->dataprep==0.4.0) (1.8.0)\n",
      "Requirement already satisfied: wcwidth in c:\\users\\victo\\anaconda3\\lib\\site-packages (from prompt-toolkit!=3.0.0,!=3.0.1,<3.1.0,>=2.0.0->ipython>=4.0.0->ipywidgets<8.0,>=7.5->dataprep==0.4.0) (0.2.5)\n",
      "Requirement already satisfied: jupyterlab-pygments in c:\\users\\victo\\anaconda3\\lib\\site-packages (from nbconvert>=5->notebook>=4.4.1->widgetsnbextension~=3.5.0->ipywidgets<8.0,>=7.5->dataprep==0.4.0) (0.1.2)\n",
      "Requirement already satisfied: bleach in c:\\users\\victo\\anaconda3\\lib\\site-packages (from nbconvert>=5->notebook>=4.4.1->widgetsnbextension~=3.5.0->ipywidgets<8.0,>=7.5->dataprep==0.4.0) (4.1.0)\n",
      "Requirement already satisfied: testpath in c:\\users\\victo\\anaconda3\\lib\\site-packages (from nbconvert>=5->notebook>=4.4.1->widgetsnbextension~=3.5.0->ipywidgets<8.0,>=7.5->dataprep==0.4.0) (0.6.0)\n",
      "Requirement already satisfied: beautifulsoup4 in c:\\users\\victo\\anaconda3\\lib\\site-packages (from nbconvert>=5->notebook>=4.4.1->widgetsnbextension~=3.5.0->ipywidgets<8.0,>=7.5->dataprep==0.4.0) (4.11.1)\n",
      "Requirement already satisfied: defusedxml in c:\\users\\victo\\anaconda3\\lib\\site-packages (from nbconvert>=5->notebook>=4.4.1->widgetsnbextension~=3.5.0->ipywidgets<8.0,>=7.5->dataprep==0.4.0) (0.7.1)\n",
      "Requirement already satisfied: nbclient<0.6.0,>=0.5.0 in c:\\users\\victo\\anaconda3\\lib\\site-packages (from nbconvert>=5->notebook>=4.4.1->widgetsnbextension~=3.5.0->ipywidgets<8.0,>=7.5->dataprep==0.4.0) (0.5.13)\n",
      "Requirement already satisfied: pandocfilters>=1.4.1 in c:\\users\\victo\\anaconda3\\lib\\site-packages (from nbconvert>=5->notebook>=4.4.1->widgetsnbextension~=3.5.0->ipywidgets<8.0,>=7.5->dataprep==0.4.0) (1.5.0)\n",
      "Requirement already satisfied: mistune<2,>=0.8.1 in c:\\users\\victo\\anaconda3\\lib\\site-packages (from nbconvert>=5->notebook>=4.4.1->widgetsnbextension~=3.5.0->ipywidgets<8.0,>=7.5->dataprep==0.4.0) (0.8.4)\n",
      "Requirement already satisfied: pywinpty>=1.1.0 in c:\\users\\victo\\anaconda3\\lib\\site-packages (from terminado>=0.8.3->notebook>=4.4.1->widgetsnbextension~=3.5.0->ipywidgets<8.0,>=7.5->dataprep==0.4.0) (2.0.2)\n",
      "Requirement already satisfied: argon2-cffi-bindings in c:\\users\\victo\\anaconda3\\lib\\site-packages (from argon2-cffi->notebook>=4.4.1->widgetsnbextension~=3.5.0->ipywidgets<8.0,>=7.5->dataprep==0.4.0) (21.2.0)\n",
      "Requirement already satisfied: cffi>=1.0.1 in c:\\users\\victo\\anaconda3\\lib\\site-packages (from argon2-cffi-bindings->argon2-cffi->notebook>=4.4.1->widgetsnbextension~=3.5.0->ipywidgets<8.0,>=7.5->dataprep==0.4.0) (1.15.1)\n",
      "Requirement already satisfied: soupsieve>1.2 in c:\\users\\victo\\anaconda3\\lib\\site-packages (from beautifulsoup4->nbconvert>=5->notebook>=4.4.1->widgetsnbextension~=3.5.0->ipywidgets<8.0,>=7.5->dataprep==0.4.0) (2.3.1)\n",
      "Requirement already satisfied: webencodings in c:\\users\\victo\\anaconda3\\lib\\site-packages (from bleach->nbconvert>=5->notebook>=4.4.1->widgetsnbextension~=3.5.0->ipywidgets<8.0,>=7.5->dataprep==0.4.0) (0.5.1)\n",
      "Requirement already satisfied: pycparser in c:\\users\\victo\\anaconda3\\lib\\site-packages (from cffi>=1.0.1->argon2-cffi-bindings->argon2-cffi->notebook>=4.4.1->widgetsnbextension~=3.5.0->ipywidgets<8.0,>=7.5->dataprep==0.4.0) (2.21)\n",
      "Building wheels for collected packages: metaphone\n",
      "  Building wheel for metaphone (setup.py): started\n",
      "  Building wheel for metaphone (setup.py): finished with status 'done'\n",
      "  Created wheel for metaphone: filename=Metaphone-0.6-py3-none-any.whl size=13901 sha256=5a57ae986028cd1db6f8c15ba3a9bcbafb12b92bc33e3165ebed8e26cf8b153f\n",
      "  Stored in directory: c:\\users\\victo\\appdata\\local\\pip\\cache\\wheels\\b2\\9e\\d9\\26be7687b8fe36cd6cacbec34e825a3dbcd3bae54017cfb385\n",
      "Successfully built metaphone\n",
      "Installing collected packages: regex, python-stdnum, python-crfsuite, pure_eval, probableparsing, ply, metaphone, executing, usaddress, pydantic, multidict, levenshtein, jsonpath-ng, frozenlist, dask, async-timeout, asttokens, yarl, varname, nltk, aiosignal, wordcloud, aiohttp, dataprep\n",
      "  Attempting uninstall: regex\n",
      "    Found existing installation: regex 2022.7.9\n",
      "    Uninstalling regex-2022.7.9:\n",
      "      Successfully uninstalled regex-2022.7.9\n",
      "  Attempting uninstall: dask\n",
      "    Found existing installation: dask 2022.7.0\n",
      "    Uninstalling dask-2022.7.0:\n",
      "      Successfully uninstalled dask-2022.7.0\n",
      "  Attempting uninstall: nltk\n",
      "    Found existing installation: nltk 3.7\n",
      "    Uninstalling nltk-3.7:\n",
      "      Successfully uninstalled nltk-3.7\n",
      "Successfully installed aiohttp-3.8.3 aiosignal-1.3.1 asttokens-2.2.1 async-timeout-4.0.2 dask-2.30.0 dataprep-0.4.0 executing-0.8.3 frozenlist-1.3.3 jsonpath-ng-1.5.3 levenshtein-0.12.0 metaphone-0.6 multidict-6.0.4 nltk-3.6.3 ply-3.11 probableparsing-0.0.1 pure_eval-0.2.2 pydantic-1.10.4 python-crfsuite-0.9.8 python-stdnum-1.18 regex-2020.11.13 usaddress-0.5.10 varname-0.8.3 wordcloud-1.8.2.2 yarl-1.8.2\n",
      "Note: you may need to restart the kernel to use updated packages.\n"
     ]
    },
    {
     "name": "stderr",
     "output_type": "stream",
     "text": [
      "ERROR: pip's dependency resolver does not currently take into account all the packages that are installed. This behaviour is the source of the following dependency conflicts.\n",
      "distributed 2022.7.0 requires dask==2022.7.0, but you have dask 2.30.0 which is incompatible.\n"
     ]
    }
   ],
   "source": [
    "pip install dataprep==0.4.0"
   ]
  },
  {
   "cell_type": "code",
   "execution_count": null,
   "metadata": {
    "colab": {
     "base_uri": "https://localhost:8080/"
    },
    "executionInfo": {
     "elapsed": 5081,
     "status": "ok",
     "timestamp": 1671502040816,
     "user": {
      "displayName": "Hugo Porras",
      "userId": "03803614839807938847"
     },
     "user_tz": 300
    },
    "id": "zdFBu9K9OLzJ",
    "outputId": "e1f8d442-646b-4773-beb4-427c231403e3"
   },
   "outputs": [
    {
     "name": "stdout",
     "output_type": "stream",
     "text": [
      "Looking in indexes: https://pypi.org/simple, https://us-python.pkg.dev/colab-wheels/public/simple/\n",
      "Requirement already satisfied: optbinning==0.17.1 in /usr/local/lib/python3.8/dist-packages (0.17.1)\n",
      "Requirement already satisfied: numpy>=1.16.1 in /usr/local/lib/python3.8/dist-packages (from optbinning==0.17.1) (1.21.6)\n",
      "Requirement already satisfied: matplotlib in /usr/local/lib/python3.8/dist-packages (from optbinning==0.17.1) (3.2.2)\n",
      "Requirement already satisfied: ortools>=7.2 in /usr/local/lib/python3.8/dist-packages (from optbinning==0.17.1) (9.5.2237)\n",
      "Requirement already satisfied: scipy>=1.6.0 in /usr/local/lib/python3.8/dist-packages (from optbinning==0.17.1) (1.7.3)\n",
      "Requirement already satisfied: scikit-learn>=0.22.0 in /usr/local/lib/python3.8/dist-packages (from optbinning==0.17.1) (1.0.2)\n",
      "Requirement already satisfied: ropwr>=0.4.0 in /usr/local/lib/python3.8/dist-packages (from optbinning==0.17.1) (1.0.0)\n",
      "Requirement already satisfied: pandas in /usr/local/lib/python3.8/dist-packages (from optbinning==0.17.1) (1.3.5)\n",
      "Requirement already satisfied: absl-py>=0.13 in /usr/local/lib/python3.8/dist-packages (from ortools>=7.2->optbinning==0.17.1) (1.3.0)\n",
      "Requirement already satisfied: protobuf>=4.21.5 in /usr/local/lib/python3.8/dist-packages (from ortools>=7.2->optbinning==0.17.1) (4.21.12)\n",
      "Requirement already satisfied: cvxpy>=1.1.14 in /usr/local/lib/python3.8/dist-packages (from ropwr>=0.4.0->optbinning==0.17.1) (1.2.2)\n",
      "Requirement already satisfied: ecos>=2 in /usr/local/lib/python3.8/dist-packages (from cvxpy>=1.1.14->ropwr>=0.4.0->optbinning==0.17.1) (2.0.10)\n",
      "Requirement already satisfied: scs>=1.1.6 in /usr/local/lib/python3.8/dist-packages (from cvxpy>=1.1.14->ropwr>=0.4.0->optbinning==0.17.1) (3.2.2)\n",
      "Requirement already satisfied: osqp>=0.4.1 in /usr/local/lib/python3.8/dist-packages (from cvxpy>=1.1.14->ropwr>=0.4.0->optbinning==0.17.1) (0.6.2.post0)\n",
      "Requirement already satisfied: qdldl in /usr/local/lib/python3.8/dist-packages (from osqp>=0.4.1->cvxpy>=1.1.14->ropwr>=0.4.0->optbinning==0.17.1) (0.1.5.post2)\n",
      "Requirement already satisfied: threadpoolctl>=2.0.0 in /usr/local/lib/python3.8/dist-packages (from scikit-learn>=0.22.0->optbinning==0.17.1) (3.1.0)\n",
      "Requirement already satisfied: joblib>=0.11 in /usr/local/lib/python3.8/dist-packages (from scikit-learn>=0.22.0->optbinning==0.17.1) (1.2.0)\n",
      "Requirement already satisfied: python-dateutil>=2.1 in /usr/local/lib/python3.8/dist-packages (from matplotlib->optbinning==0.17.1) (2.8.2)\n",
      "Requirement already satisfied: pyparsing!=2.0.4,!=2.1.2,!=2.1.6,>=2.0.1 in /usr/local/lib/python3.8/dist-packages (from matplotlib->optbinning==0.17.1) (3.0.9)\n",
      "Requirement already satisfied: kiwisolver>=1.0.1 in /usr/local/lib/python3.8/dist-packages (from matplotlib->optbinning==0.17.1) (1.4.4)\n",
      "Requirement already satisfied: cycler>=0.10 in /usr/local/lib/python3.8/dist-packages (from matplotlib->optbinning==0.17.1) (0.11.0)\n",
      "Requirement already satisfied: six>=1.5 in /usr/local/lib/python3.8/dist-packages (from python-dateutil>=2.1->matplotlib->optbinning==0.17.1) (1.15.0)\n",
      "Requirement already satisfied: pytz>=2017.3 in /usr/local/lib/python3.8/dist-packages (from pandas->optbinning==0.17.1) (2022.6)\n"
     ]
    }
   ],
   "source": [
    "pip install optbinning==0.17.1"
   ]
  },
  {
   "cell_type": "code",
   "execution_count": null,
   "metadata": {
    "id": "C896oqYuOand"
   },
   "outputs": [],
   "source": [
    "import dataprep.eda as dpeda\n",
    "import optbinning as optbin"
   ]
  },
  {
   "cell_type": "code",
   "execution_count": null,
   "metadata": {
    "id": "wj6jf2PEDwgS"
   },
   "outputs": [],
   "source": [
    "# Importación de las librerías Pandas, Numpy y Scikit-Learn.\n",
    "import numpy as np\n",
    "import pandas as pd\n",
    "import matplotlib.pyplot as plt\n",
    "from sklearn import linear_model as sklm\n",
    "from sklearn import model_selection as skmodsel\n",
    "from sklearn import metrics as skmet\n",
    "from sklearn import set_config\n",
    "set_config(display=\"diagram\")"
   ]
  },
  {
   "cell_type": "markdown",
   "metadata": {
    "id": "CYfMhN1xD6rK"
   },
   "source": [
    "* Conexión de Colab con Drive. Se deben copiar los dataset ejemplo en el drive a ser utilizado."
   ]
  },
  {
   "cell_type": "markdown",
   "metadata": {},
   "source": [
    "**Cargar el dataset**"
   ]
  },
  {
   "cell_type": "markdown",
   "metadata": {
    "id": "FerZVTKcEF2U"
   },
   "source": [
    "Lectura del dataset analizado"
   ]
  },
  {
   "cell_type": "code",
   "execution_count": null,
   "metadata": {
    "colab": {
     "base_uri": "https://localhost:8080/",
     "height": 162
    },
    "executionInfo": {
     "elapsed": 227,
     "status": "ok",
     "timestamp": 1671502042604,
     "user": {
      "displayName": "Hugo Porras",
      "userId": "03803614839807938847"
     },
     "user_tz": 300
    },
    "id": "OmSXVNawD_AJ",
    "outputId": "40dbd714-7265-43e5-8c4f-3ce0b56a892e"
   },
   "outputs": [
    {
     "data": {
      "text/html": [
       "\n",
       "  <div id=\"df-b3e02180-883f-4bf1-bb3e-9f80ceb8c3d2\">\n",
       "    <div class=\"colab-df-container\">\n",
       "      <div>\n",
       "<style scoped>\n",
       "    .dataframe tbody tr th:only-of-type {\n",
       "        vertical-align: middle;\n",
       "    }\n",
       "\n",
       "    .dataframe tbody tr th {\n",
       "        vertical-align: top;\n",
       "    }\n",
       "\n",
       "    .dataframe thead th {\n",
       "        text-align: right;\n",
       "    }\n",
       "</style>\n",
       "<table border=\"1\" class=\"dataframe\">\n",
       "  <thead>\n",
       "    <tr style=\"text-align: right;\">\n",
       "      <th></th>\n",
       "      <th>Id</th>\n",
       "      <th>SeriousDlqin2yrs</th>\n",
       "      <th>RevolvingUtilizationOfUnsecuredLines</th>\n",
       "      <th>age</th>\n",
       "      <th>NumberOfTime30-59DaysPastDueNotWorse</th>\n",
       "      <th>DebtRatio</th>\n",
       "      <th>MonthlyIncome</th>\n",
       "      <th>NumberOfOpenCreditLinesAndLoans</th>\n",
       "      <th>NumberOfTimes90DaysLate</th>\n",
       "      <th>NumberRealEstateLoansOrLines</th>\n",
       "      <th>NumberOfTime60-89DaysPastDueNotWorse</th>\n",
       "      <th>NumberOfDependents</th>\n",
       "    </tr>\n",
       "  </thead>\n",
       "  <tbody>\n",
       "    <tr>\n",
       "      <th>0</th>\n",
       "      <td>1</td>\n",
       "      <td>1</td>\n",
       "      <td>0.766127</td>\n",
       "      <td>45</td>\n",
       "      <td>2</td>\n",
       "      <td>0.802982</td>\n",
       "      <td>9120.0</td>\n",
       "      <td>13</td>\n",
       "      <td>0</td>\n",
       "      <td>6</td>\n",
       "      <td>0</td>\n",
       "      <td>2.0</td>\n",
       "    </tr>\n",
       "  </tbody>\n",
       "</table>\n",
       "</div>\n",
       "      <button class=\"colab-df-convert\" onclick=\"convertToInteractive('df-b3e02180-883f-4bf1-bb3e-9f80ceb8c3d2')\"\n",
       "              title=\"Convert this dataframe to an interactive table.\"\n",
       "              style=\"display:none;\">\n",
       "        \n",
       "  <svg xmlns=\"http://www.w3.org/2000/svg\" height=\"24px\"viewBox=\"0 0 24 24\"\n",
       "       width=\"24px\">\n",
       "    <path d=\"M0 0h24v24H0V0z\" fill=\"none\"/>\n",
       "    <path d=\"M18.56 5.44l.94 2.06.94-2.06 2.06-.94-2.06-.94-.94-2.06-.94 2.06-2.06.94zm-11 1L8.5 8.5l.94-2.06 2.06-.94-2.06-.94L8.5 2.5l-.94 2.06-2.06.94zm10 10l.94 2.06.94-2.06 2.06-.94-2.06-.94-.94-2.06-.94 2.06-2.06.94z\"/><path d=\"M17.41 7.96l-1.37-1.37c-.4-.4-.92-.59-1.43-.59-.52 0-1.04.2-1.43.59L10.3 9.45l-7.72 7.72c-.78.78-.78 2.05 0 2.83L4 21.41c.39.39.9.59 1.41.59.51 0 1.02-.2 1.41-.59l7.78-7.78 2.81-2.81c.8-.78.8-2.07 0-2.86zM5.41 20L4 18.59l7.72-7.72 1.47 1.35L5.41 20z\"/>\n",
       "  </svg>\n",
       "      </button>\n",
       "      \n",
       "  <style>\n",
       "    .colab-df-container {\n",
       "      display:flex;\n",
       "      flex-wrap:wrap;\n",
       "      gap: 12px;\n",
       "    }\n",
       "\n",
       "    .colab-df-convert {\n",
       "      background-color: #E8F0FE;\n",
       "      border: none;\n",
       "      border-radius: 50%;\n",
       "      cursor: pointer;\n",
       "      display: none;\n",
       "      fill: #1967D2;\n",
       "      height: 32px;\n",
       "      padding: 0 0 0 0;\n",
       "      width: 32px;\n",
       "    }\n",
       "\n",
       "    .colab-df-convert:hover {\n",
       "      background-color: #E2EBFA;\n",
       "      box-shadow: 0px 1px 2px rgba(60, 64, 67, 0.3), 0px 1px 3px 1px rgba(60, 64, 67, 0.15);\n",
       "      fill: #174EA6;\n",
       "    }\n",
       "\n",
       "    [theme=dark] .colab-df-convert {\n",
       "      background-color: #3B4455;\n",
       "      fill: #D2E3FC;\n",
       "    }\n",
       "\n",
       "    [theme=dark] .colab-df-convert:hover {\n",
       "      background-color: #434B5C;\n",
       "      box-shadow: 0px 1px 3px 1px rgba(0, 0, 0, 0.15);\n",
       "      filter: drop-shadow(0px 1px 2px rgba(0, 0, 0, 0.3));\n",
       "      fill: #FFFFFF;\n",
       "    }\n",
       "  </style>\n",
       "\n",
       "      <script>\n",
       "        const buttonEl =\n",
       "          document.querySelector('#df-b3e02180-883f-4bf1-bb3e-9f80ceb8c3d2 button.colab-df-convert');\n",
       "        buttonEl.style.display =\n",
       "          google.colab.kernel.accessAllowed ? 'block' : 'none';\n",
       "\n",
       "        async function convertToInteractive(key) {\n",
       "          const element = document.querySelector('#df-b3e02180-883f-4bf1-bb3e-9f80ceb8c3d2');\n",
       "          const dataTable =\n",
       "            await google.colab.kernel.invokeFunction('convertToInteractive',\n",
       "                                                     [key], {});\n",
       "          if (!dataTable) return;\n",
       "\n",
       "          const docLinkHtml = 'Like what you see? Visit the ' +\n",
       "            '<a target=\"_blank\" href=https://colab.research.google.com/notebooks/data_table.ipynb>data table notebook</a>'\n",
       "            + ' to learn more about interactive tables.';\n",
       "          element.innerHTML = '';\n",
       "          dataTable['output_type'] = 'display_data';\n",
       "          await google.colab.output.renderOutput(dataTable, element);\n",
       "          const docLink = document.createElement('div');\n",
       "          docLink.innerHTML = docLinkHtml;\n",
       "          element.appendChild(docLink);\n",
       "        }\n",
       "      </script>\n",
       "    </div>\n",
       "  </div>\n",
       "  "
      ],
      "text/plain": [
       "   Id  SeriousDlqin2yrs  RevolvingUtilizationOfUnsecuredLines  age  \\\n",
       "0   1                 1                              0.766127   45   \n",
       "\n",
       "   NumberOfTime30-59DaysPastDueNotWorse  DebtRatio  MonthlyIncome  \\\n",
       "0                                     2   0.802982         9120.0   \n",
       "\n",
       "   NumberOfOpenCreditLinesAndLoans  NumberOfTimes90DaysLate  \\\n",
       "0                               13                        0   \n",
       "\n",
       "   NumberRealEstateLoansOrLines  NumberOfTime60-89DaysPastDueNotWorse  \\\n",
       "0                             6                                     0   \n",
       "\n",
       "   NumberOfDependents  \n",
       "0                 2.0  "
      ]
     },
     "execution_count": 47,
     "metadata": {},
     "output_type": "execute_result"
    }
   ],
   "source": [
    "loan_data = pd.read_pickle('drive/MyDrive/CreditRiskPython/Data/GiveMeSomeCredit.pickle')\n",
    "loan_data.head(1)"
   ]
  },
  {
   "cell_type": "code",
   "execution_count": null,
   "metadata": {
    "colab": {
     "base_uri": "https://localhost:8080/",
     "height": 193
    },
    "executionInfo": {
     "elapsed": 11,
     "status": "ok",
     "timestamp": 1671502042607,
     "user": {
      "displayName": "Hugo Porras",
      "userId": "03803614839807938847"
     },
     "user_tz": 300
    },
    "id": "1s3Gp5AXRRdB",
    "outputId": "b34b1a34-7001-4800-9c51-f55b8920d688"
   },
   "outputs": [
    {
     "data": {
      "text/html": [
       "\n",
       "  <div id=\"df-9d34ce67-cb3b-4e1f-823a-94444a0f2b23\">\n",
       "    <div class=\"colab-df-container\">\n",
       "      <div>\n",
       "<style scoped>\n",
       "    .dataframe tbody tr th:only-of-type {\n",
       "        vertical-align: middle;\n",
       "    }\n",
       "\n",
       "    .dataframe tbody tr th {\n",
       "        vertical-align: top;\n",
       "    }\n",
       "\n",
       "    .dataframe thead th {\n",
       "        text-align: right;\n",
       "    }\n",
       "</style>\n",
       "<table border=\"1\" class=\"dataframe\">\n",
       "  <thead>\n",
       "    <tr style=\"text-align: right;\">\n",
       "      <th></th>\n",
       "      <th>SeriousDlqin2yrs</th>\n",
       "      <th>RevolvingUtilizationOfUnsecuredLines</th>\n",
       "      <th>age</th>\n",
       "      <th>NumberOfTime30-59DaysPastDueNotWorse</th>\n",
       "      <th>DebtRatio</th>\n",
       "      <th>MonthlyIncome</th>\n",
       "      <th>NumberOfOpenCreditLinesAndLoans</th>\n",
       "      <th>NumberOfTimes90DaysLate</th>\n",
       "      <th>NumberRealEstateLoansOrLines</th>\n",
       "      <th>NumberOfTime60-89DaysPastDueNotWorse</th>\n",
       "      <th>NumberOfDependents</th>\n",
       "    </tr>\n",
       "    <tr>\n",
       "      <th>Id</th>\n",
       "      <th></th>\n",
       "      <th></th>\n",
       "      <th></th>\n",
       "      <th></th>\n",
       "      <th></th>\n",
       "      <th></th>\n",
       "      <th></th>\n",
       "      <th></th>\n",
       "      <th></th>\n",
       "      <th></th>\n",
       "      <th></th>\n",
       "    </tr>\n",
       "  </thead>\n",
       "  <tbody>\n",
       "    <tr>\n",
       "      <th>1</th>\n",
       "      <td>1</td>\n",
       "      <td>0.766127</td>\n",
       "      <td>45</td>\n",
       "      <td>2</td>\n",
       "      <td>0.802982</td>\n",
       "      <td>9120.0</td>\n",
       "      <td>13</td>\n",
       "      <td>0</td>\n",
       "      <td>6</td>\n",
       "      <td>0</td>\n",
       "      <td>2.0</td>\n",
       "    </tr>\n",
       "  </tbody>\n",
       "</table>\n",
       "</div>\n",
       "      <button class=\"colab-df-convert\" onclick=\"convertToInteractive('df-9d34ce67-cb3b-4e1f-823a-94444a0f2b23')\"\n",
       "              title=\"Convert this dataframe to an interactive table.\"\n",
       "              style=\"display:none;\">\n",
       "        \n",
       "  <svg xmlns=\"http://www.w3.org/2000/svg\" height=\"24px\"viewBox=\"0 0 24 24\"\n",
       "       width=\"24px\">\n",
       "    <path d=\"M0 0h24v24H0V0z\" fill=\"none\"/>\n",
       "    <path d=\"M18.56 5.44l.94 2.06.94-2.06 2.06-.94-2.06-.94-.94-2.06-.94 2.06-2.06.94zm-11 1L8.5 8.5l.94-2.06 2.06-.94-2.06-.94L8.5 2.5l-.94 2.06-2.06.94zm10 10l.94 2.06.94-2.06 2.06-.94-2.06-.94-.94-2.06-.94 2.06-2.06.94z\"/><path d=\"M17.41 7.96l-1.37-1.37c-.4-.4-.92-.59-1.43-.59-.52 0-1.04.2-1.43.59L10.3 9.45l-7.72 7.72c-.78.78-.78 2.05 0 2.83L4 21.41c.39.39.9.59 1.41.59.51 0 1.02-.2 1.41-.59l7.78-7.78 2.81-2.81c.8-.78.8-2.07 0-2.86zM5.41 20L4 18.59l7.72-7.72 1.47 1.35L5.41 20z\"/>\n",
       "  </svg>\n",
       "      </button>\n",
       "      \n",
       "  <style>\n",
       "    .colab-df-container {\n",
       "      display:flex;\n",
       "      flex-wrap:wrap;\n",
       "      gap: 12px;\n",
       "    }\n",
       "\n",
       "    .colab-df-convert {\n",
       "      background-color: #E8F0FE;\n",
       "      border: none;\n",
       "      border-radius: 50%;\n",
       "      cursor: pointer;\n",
       "      display: none;\n",
       "      fill: #1967D2;\n",
       "      height: 32px;\n",
       "      padding: 0 0 0 0;\n",
       "      width: 32px;\n",
       "    }\n",
       "\n",
       "    .colab-df-convert:hover {\n",
       "      background-color: #E2EBFA;\n",
       "      box-shadow: 0px 1px 2px rgba(60, 64, 67, 0.3), 0px 1px 3px 1px rgba(60, 64, 67, 0.15);\n",
       "      fill: #174EA6;\n",
       "    }\n",
       "\n",
       "    [theme=dark] .colab-df-convert {\n",
       "      background-color: #3B4455;\n",
       "      fill: #D2E3FC;\n",
       "    }\n",
       "\n",
       "    [theme=dark] .colab-df-convert:hover {\n",
       "      background-color: #434B5C;\n",
       "      box-shadow: 0px 1px 3px 1px rgba(0, 0, 0, 0.15);\n",
       "      filter: drop-shadow(0px 1px 2px rgba(0, 0, 0, 0.3));\n",
       "      fill: #FFFFFF;\n",
       "    }\n",
       "  </style>\n",
       "\n",
       "      <script>\n",
       "        const buttonEl =\n",
       "          document.querySelector('#df-9d34ce67-cb3b-4e1f-823a-94444a0f2b23 button.colab-df-convert');\n",
       "        buttonEl.style.display =\n",
       "          google.colab.kernel.accessAllowed ? 'block' : 'none';\n",
       "\n",
       "        async function convertToInteractive(key) {\n",
       "          const element = document.querySelector('#df-9d34ce67-cb3b-4e1f-823a-94444a0f2b23');\n",
       "          const dataTable =\n",
       "            await google.colab.kernel.invokeFunction('convertToInteractive',\n",
       "                                                     [key], {});\n",
       "          if (!dataTable) return;\n",
       "\n",
       "          const docLinkHtml = 'Like what you see? Visit the ' +\n",
       "            '<a target=\"_blank\" href=https://colab.research.google.com/notebooks/data_table.ipynb>data table notebook</a>'\n",
       "            + ' to learn more about interactive tables.';\n",
       "          element.innerHTML = '';\n",
       "          dataTable['output_type'] = 'display_data';\n",
       "          await google.colab.output.renderOutput(dataTable, element);\n",
       "          const docLink = document.createElement('div');\n",
       "          docLink.innerHTML = docLinkHtml;\n",
       "          element.appendChild(docLink);\n",
       "        }\n",
       "      </script>\n",
       "    </div>\n",
       "  </div>\n",
       "  "
      ],
      "text/plain": [
       "    SeriousDlqin2yrs  RevolvingUtilizationOfUnsecuredLines  age  \\\n",
       "Id                                                                \n",
       "1                  1                              0.766127   45   \n",
       "\n",
       "    NumberOfTime30-59DaysPastDueNotWorse  DebtRatio  MonthlyIncome  \\\n",
       "Id                                                                   \n",
       "1                                      2   0.802982         9120.0   \n",
       "\n",
       "    NumberOfOpenCreditLinesAndLoans  NumberOfTimes90DaysLate  \\\n",
       "Id                                                             \n",
       "1                                13                        0   \n",
       "\n",
       "    NumberRealEstateLoansOrLines  NumberOfTime60-89DaysPastDueNotWorse  \\\n",
       "Id                                                                       \n",
       "1                              6                                     0   \n",
       "\n",
       "    NumberOfDependents  \n",
       "Id                      \n",
       "1                  2.0  "
      ]
     },
     "execution_count": 48,
     "metadata": {},
     "output_type": "execute_result"
    }
   ],
   "source": [
    "loan_data.set_index('Id', inplace=True)\n",
    "loan_data.head(1)"
   ]
  },
  {
   "cell_type": "markdown",
   "metadata": {},
   "source": [
    "# 5. Validación y limpieza de datos\n",
    "Los datos no válidos pueden sesgar y falsear los resultados de los análisis. La etapa de validación y depuración de datos se enfoca en establecer reglas de validación a menudo complejas y a eliminar cualquier dato no válido conocido."
   ]
  },
  {
   "cell_type": "code",
   "execution_count": null,
   "metadata": {
    "colab": {
     "base_uri": "https://localhost:8080/",
     "height": 493
    },
    "executionInfo": {
     "elapsed": 256,
     "status": "ok",
     "timestamp": 1671502042853,
     "user": {
      "displayName": "Hugo Porras",
      "userId": "03803614839807938847"
     },
     "user_tz": 300
    },
    "id": "UctkGY0iaGUP",
    "outputId": "36fc7cc8-7731-463e-f7a9-8088066af53a"
   },
   "outputs": [
    {
     "data": {
      "text/html": [
       "\n",
       "  <div id=\"df-8587e4f7-c397-4da7-a13c-da90ab2bddfa\">\n",
       "    <div class=\"colab-df-container\">\n",
       "      <div>\n",
       "<style scoped>\n",
       "    .dataframe tbody tr th:only-of-type {\n",
       "        vertical-align: middle;\n",
       "    }\n",
       "\n",
       "    .dataframe tbody tr th {\n",
       "        vertical-align: top;\n",
       "    }\n",
       "\n",
       "    .dataframe thead th {\n",
       "        text-align: right;\n",
       "    }\n",
       "</style>\n",
       "<table border=\"1\" class=\"dataframe\">\n",
       "  <thead>\n",
       "    <tr style=\"text-align: right;\">\n",
       "      <th></th>\n",
       "      <th>count</th>\n",
       "      <th>mean</th>\n",
       "      <th>std</th>\n",
       "      <th>min</th>\n",
       "      <th>25%</th>\n",
       "      <th>50%</th>\n",
       "      <th>75%</th>\n",
       "      <th>max</th>\n",
       "    </tr>\n",
       "  </thead>\n",
       "  <tbody>\n",
       "    <tr>\n",
       "      <th>SeriousDlqin2yrs</th>\n",
       "      <td>150000.0</td>\n",
       "      <td>0.066840</td>\n",
       "      <td>0.249746</td>\n",
       "      <td>0.0</td>\n",
       "      <td>0.000000</td>\n",
       "      <td>0.000000</td>\n",
       "      <td>0.000000</td>\n",
       "      <td>1.0</td>\n",
       "    </tr>\n",
       "    <tr>\n",
       "      <th>RevolvingUtilizationOfUnsecuredLines</th>\n",
       "      <td>150000.0</td>\n",
       "      <td>6.048438</td>\n",
       "      <td>249.755371</td>\n",
       "      <td>0.0</td>\n",
       "      <td>0.029867</td>\n",
       "      <td>0.154181</td>\n",
       "      <td>0.559046</td>\n",
       "      <td>50708.0</td>\n",
       "    </tr>\n",
       "    <tr>\n",
       "      <th>age</th>\n",
       "      <td>150000.0</td>\n",
       "      <td>52.295207</td>\n",
       "      <td>14.771866</td>\n",
       "      <td>0.0</td>\n",
       "      <td>41.000000</td>\n",
       "      <td>52.000000</td>\n",
       "      <td>63.000000</td>\n",
       "      <td>109.0</td>\n",
       "    </tr>\n",
       "    <tr>\n",
       "      <th>NumberOfTime30-59DaysPastDueNotWorse</th>\n",
       "      <td>150000.0</td>\n",
       "      <td>0.421033</td>\n",
       "      <td>4.192781</td>\n",
       "      <td>0.0</td>\n",
       "      <td>0.000000</td>\n",
       "      <td>0.000000</td>\n",
       "      <td>0.000000</td>\n",
       "      <td>98.0</td>\n",
       "    </tr>\n",
       "    <tr>\n",
       "      <th>DebtRatio</th>\n",
       "      <td>150000.0</td>\n",
       "      <td>353.005076</td>\n",
       "      <td>2037.818523</td>\n",
       "      <td>0.0</td>\n",
       "      <td>0.175074</td>\n",
       "      <td>0.366508</td>\n",
       "      <td>0.868254</td>\n",
       "      <td>329664.0</td>\n",
       "    </tr>\n",
       "    <tr>\n",
       "      <th>MonthlyIncome</th>\n",
       "      <td>120269.0</td>\n",
       "      <td>6670.221237</td>\n",
       "      <td>14384.674215</td>\n",
       "      <td>0.0</td>\n",
       "      <td>3400.000000</td>\n",
       "      <td>5400.000000</td>\n",
       "      <td>8249.000000</td>\n",
       "      <td>3008750.0</td>\n",
       "    </tr>\n",
       "    <tr>\n",
       "      <th>NumberOfOpenCreditLinesAndLoans</th>\n",
       "      <td>150000.0</td>\n",
       "      <td>8.452760</td>\n",
       "      <td>5.145951</td>\n",
       "      <td>0.0</td>\n",
       "      <td>5.000000</td>\n",
       "      <td>8.000000</td>\n",
       "      <td>11.000000</td>\n",
       "      <td>58.0</td>\n",
       "    </tr>\n",
       "    <tr>\n",
       "      <th>NumberOfTimes90DaysLate</th>\n",
       "      <td>150000.0</td>\n",
       "      <td>0.265973</td>\n",
       "      <td>4.169304</td>\n",
       "      <td>0.0</td>\n",
       "      <td>0.000000</td>\n",
       "      <td>0.000000</td>\n",
       "      <td>0.000000</td>\n",
       "      <td>98.0</td>\n",
       "    </tr>\n",
       "    <tr>\n",
       "      <th>NumberRealEstateLoansOrLines</th>\n",
       "      <td>150000.0</td>\n",
       "      <td>1.018240</td>\n",
       "      <td>1.129771</td>\n",
       "      <td>0.0</td>\n",
       "      <td>0.000000</td>\n",
       "      <td>1.000000</td>\n",
       "      <td>2.000000</td>\n",
       "      <td>54.0</td>\n",
       "    </tr>\n",
       "    <tr>\n",
       "      <th>NumberOfTime60-89DaysPastDueNotWorse</th>\n",
       "      <td>150000.0</td>\n",
       "      <td>0.240387</td>\n",
       "      <td>4.155179</td>\n",
       "      <td>0.0</td>\n",
       "      <td>0.000000</td>\n",
       "      <td>0.000000</td>\n",
       "      <td>0.000000</td>\n",
       "      <td>98.0</td>\n",
       "    </tr>\n",
       "    <tr>\n",
       "      <th>NumberOfDependents</th>\n",
       "      <td>146076.0</td>\n",
       "      <td>0.757222</td>\n",
       "      <td>1.115086</td>\n",
       "      <td>0.0</td>\n",
       "      <td>0.000000</td>\n",
       "      <td>0.000000</td>\n",
       "      <td>1.000000</td>\n",
       "      <td>20.0</td>\n",
       "    </tr>\n",
       "  </tbody>\n",
       "</table>\n",
       "</div>\n",
       "      <button class=\"colab-df-convert\" onclick=\"convertToInteractive('df-8587e4f7-c397-4da7-a13c-da90ab2bddfa')\"\n",
       "              title=\"Convert this dataframe to an interactive table.\"\n",
       "              style=\"display:none;\">\n",
       "        \n",
       "  <svg xmlns=\"http://www.w3.org/2000/svg\" height=\"24px\"viewBox=\"0 0 24 24\"\n",
       "       width=\"24px\">\n",
       "    <path d=\"M0 0h24v24H0V0z\" fill=\"none\"/>\n",
       "    <path d=\"M18.56 5.44l.94 2.06.94-2.06 2.06-.94-2.06-.94-.94-2.06-.94 2.06-2.06.94zm-11 1L8.5 8.5l.94-2.06 2.06-.94-2.06-.94L8.5 2.5l-.94 2.06-2.06.94zm10 10l.94 2.06.94-2.06 2.06-.94-2.06-.94-.94-2.06-.94 2.06-2.06.94z\"/><path d=\"M17.41 7.96l-1.37-1.37c-.4-.4-.92-.59-1.43-.59-.52 0-1.04.2-1.43.59L10.3 9.45l-7.72 7.72c-.78.78-.78 2.05 0 2.83L4 21.41c.39.39.9.59 1.41.59.51 0 1.02-.2 1.41-.59l7.78-7.78 2.81-2.81c.8-.78.8-2.07 0-2.86zM5.41 20L4 18.59l7.72-7.72 1.47 1.35L5.41 20z\"/>\n",
       "  </svg>\n",
       "      </button>\n",
       "      \n",
       "  <style>\n",
       "    .colab-df-container {\n",
       "      display:flex;\n",
       "      flex-wrap:wrap;\n",
       "      gap: 12px;\n",
       "    }\n",
       "\n",
       "    .colab-df-convert {\n",
       "      background-color: #E8F0FE;\n",
       "      border: none;\n",
       "      border-radius: 50%;\n",
       "      cursor: pointer;\n",
       "      display: none;\n",
       "      fill: #1967D2;\n",
       "      height: 32px;\n",
       "      padding: 0 0 0 0;\n",
       "      width: 32px;\n",
       "    }\n",
       "\n",
       "    .colab-df-convert:hover {\n",
       "      background-color: #E2EBFA;\n",
       "      box-shadow: 0px 1px 2px rgba(60, 64, 67, 0.3), 0px 1px 3px 1px rgba(60, 64, 67, 0.15);\n",
       "      fill: #174EA6;\n",
       "    }\n",
       "\n",
       "    [theme=dark] .colab-df-convert {\n",
       "      background-color: #3B4455;\n",
       "      fill: #D2E3FC;\n",
       "    }\n",
       "\n",
       "    [theme=dark] .colab-df-convert:hover {\n",
       "      background-color: #434B5C;\n",
       "      box-shadow: 0px 1px 3px 1px rgba(0, 0, 0, 0.15);\n",
       "      filter: drop-shadow(0px 1px 2px rgba(0, 0, 0, 0.3));\n",
       "      fill: #FFFFFF;\n",
       "    }\n",
       "  </style>\n",
       "\n",
       "      <script>\n",
       "        const buttonEl =\n",
       "          document.querySelector('#df-8587e4f7-c397-4da7-a13c-da90ab2bddfa button.colab-df-convert');\n",
       "        buttonEl.style.display =\n",
       "          google.colab.kernel.accessAllowed ? 'block' : 'none';\n",
       "\n",
       "        async function convertToInteractive(key) {\n",
       "          const element = document.querySelector('#df-8587e4f7-c397-4da7-a13c-da90ab2bddfa');\n",
       "          const dataTable =\n",
       "            await google.colab.kernel.invokeFunction('convertToInteractive',\n",
       "                                                     [key], {});\n",
       "          if (!dataTable) return;\n",
       "\n",
       "          const docLinkHtml = 'Like what you see? Visit the ' +\n",
       "            '<a target=\"_blank\" href=https://colab.research.google.com/notebooks/data_table.ipynb>data table notebook</a>'\n",
       "            + ' to learn more about interactive tables.';\n",
       "          element.innerHTML = '';\n",
       "          dataTable['output_type'] = 'display_data';\n",
       "          await google.colab.output.renderOutput(dataTable, element);\n",
       "          const docLink = document.createElement('div');\n",
       "          docLink.innerHTML = docLinkHtml;\n",
       "          element.appendChild(docLink);\n",
       "        }\n",
       "      </script>\n",
       "    </div>\n",
       "  </div>\n",
       "  "
      ],
      "text/plain": [
       "                                         count         mean           std  \\\n",
       "SeriousDlqin2yrs                      150000.0     0.066840      0.249746   \n",
       "RevolvingUtilizationOfUnsecuredLines  150000.0     6.048438    249.755371   \n",
       "age                                   150000.0    52.295207     14.771866   \n",
       "NumberOfTime30-59DaysPastDueNotWorse  150000.0     0.421033      4.192781   \n",
       "DebtRatio                             150000.0   353.005076   2037.818523   \n",
       "MonthlyIncome                         120269.0  6670.221237  14384.674215   \n",
       "NumberOfOpenCreditLinesAndLoans       150000.0     8.452760      5.145951   \n",
       "NumberOfTimes90DaysLate               150000.0     0.265973      4.169304   \n",
       "NumberRealEstateLoansOrLines          150000.0     1.018240      1.129771   \n",
       "NumberOfTime60-89DaysPastDueNotWorse  150000.0     0.240387      4.155179   \n",
       "NumberOfDependents                    146076.0     0.757222      1.115086   \n",
       "\n",
       "                                      min          25%          50%  \\\n",
       "SeriousDlqin2yrs                      0.0     0.000000     0.000000   \n",
       "RevolvingUtilizationOfUnsecuredLines  0.0     0.029867     0.154181   \n",
       "age                                   0.0    41.000000    52.000000   \n",
       "NumberOfTime30-59DaysPastDueNotWorse  0.0     0.000000     0.000000   \n",
       "DebtRatio                             0.0     0.175074     0.366508   \n",
       "MonthlyIncome                         0.0  3400.000000  5400.000000   \n",
       "NumberOfOpenCreditLinesAndLoans       0.0     5.000000     8.000000   \n",
       "NumberOfTimes90DaysLate               0.0     0.000000     0.000000   \n",
       "NumberRealEstateLoansOrLines          0.0     0.000000     1.000000   \n",
       "NumberOfTime60-89DaysPastDueNotWorse  0.0     0.000000     0.000000   \n",
       "NumberOfDependents                    0.0     0.000000     0.000000   \n",
       "\n",
       "                                              75%        max  \n",
       "SeriousDlqin2yrs                         0.000000        1.0  \n",
       "RevolvingUtilizationOfUnsecuredLines     0.559046    50708.0  \n",
       "age                                     63.000000      109.0  \n",
       "NumberOfTime30-59DaysPastDueNotWorse     0.000000       98.0  \n",
       "DebtRatio                                0.868254   329664.0  \n",
       "MonthlyIncome                         8249.000000  3008750.0  \n",
       "NumberOfOpenCreditLinesAndLoans         11.000000       58.0  \n",
       "NumberOfTimes90DaysLate                  0.000000       98.0  \n",
       "NumberRealEstateLoansOrLines             2.000000       54.0  \n",
       "NumberOfTime60-89DaysPastDueNotWorse     0.000000       98.0  \n",
       "NumberOfDependents                       1.000000       20.0  "
      ]
     },
     "execution_count": 49,
     "metadata": {},
     "output_type": "execute_result"
    }
   ],
   "source": [
    "# Filtrado de datos\n",
    "loan_data.describe().T"
   ]
  },
  {
   "cell_type": "code",
   "execution_count": null,
   "metadata": {
    "id": "eyo1NZbaaQWt"
   },
   "outputs": [],
   "source": [
    "loan_data = loan_data.loc[loan_data.age>0,:]"
   ]
  },
  {
   "cell_type": "code",
   "execution_count": null,
   "metadata": {
    "colab": {
     "base_uri": "https://localhost:8080/",
     "height": 493
    },
    "executionInfo": {
     "elapsed": 12,
     "status": "ok",
     "timestamp": 1671502043091,
     "user": {
      "displayName": "Hugo Porras",
      "userId": "03803614839807938847"
     },
     "user_tz": 300
    },
    "id": "PdVs2h5xaXgs",
    "outputId": "c5932b2e-863f-4286-befc-548f0872538f"
   },
   "outputs": [
    {
     "data": {
      "text/html": [
       "\n",
       "  <div id=\"df-cf4fba8c-9cf3-4e2f-9947-4a3001260801\">\n",
       "    <div class=\"colab-df-container\">\n",
       "      <div>\n",
       "<style scoped>\n",
       "    .dataframe tbody tr th:only-of-type {\n",
       "        vertical-align: middle;\n",
       "    }\n",
       "\n",
       "    .dataframe tbody tr th {\n",
       "        vertical-align: top;\n",
       "    }\n",
       "\n",
       "    .dataframe thead th {\n",
       "        text-align: right;\n",
       "    }\n",
       "</style>\n",
       "<table border=\"1\" class=\"dataframe\">\n",
       "  <thead>\n",
       "    <tr style=\"text-align: right;\">\n",
       "      <th></th>\n",
       "      <th>count</th>\n",
       "      <th>mean</th>\n",
       "      <th>std</th>\n",
       "      <th>min</th>\n",
       "      <th>25%</th>\n",
       "      <th>50%</th>\n",
       "      <th>75%</th>\n",
       "      <th>max</th>\n",
       "    </tr>\n",
       "  </thead>\n",
       "  <tbody>\n",
       "    <tr>\n",
       "      <th>SeriousDlqin2yrs</th>\n",
       "      <td>149999.0</td>\n",
       "      <td>0.066840</td>\n",
       "      <td>0.249746</td>\n",
       "      <td>0.0</td>\n",
       "      <td>0.000000</td>\n",
       "      <td>0.000000</td>\n",
       "      <td>0.000000</td>\n",
       "      <td>1.0</td>\n",
       "    </tr>\n",
       "    <tr>\n",
       "      <th>RevolvingUtilizationOfUnsecuredLines</th>\n",
       "      <td>149999.0</td>\n",
       "      <td>6.048472</td>\n",
       "      <td>249.756203</td>\n",
       "      <td>0.0</td>\n",
       "      <td>0.029867</td>\n",
       "      <td>0.154176</td>\n",
       "      <td>0.559044</td>\n",
       "      <td>50708.0</td>\n",
       "    </tr>\n",
       "    <tr>\n",
       "      <th>age</th>\n",
       "      <td>149999.0</td>\n",
       "      <td>52.295555</td>\n",
       "      <td>14.771298</td>\n",
       "      <td>21.0</td>\n",
       "      <td>41.000000</td>\n",
       "      <td>52.000000</td>\n",
       "      <td>63.000000</td>\n",
       "      <td>109.0</td>\n",
       "    </tr>\n",
       "    <tr>\n",
       "      <th>NumberOfTime30-59DaysPastDueNotWorse</th>\n",
       "      <td>149999.0</td>\n",
       "      <td>0.421029</td>\n",
       "      <td>4.192795</td>\n",
       "      <td>0.0</td>\n",
       "      <td>0.000000</td>\n",
       "      <td>0.000000</td>\n",
       "      <td>0.000000</td>\n",
       "      <td>98.0</td>\n",
       "    </tr>\n",
       "    <tr>\n",
       "      <th>DebtRatio</th>\n",
       "      <td>149999.0</td>\n",
       "      <td>353.007426</td>\n",
       "      <td>2037.825113</td>\n",
       "      <td>0.0</td>\n",
       "      <td>0.175074</td>\n",
       "      <td>0.366503</td>\n",
       "      <td>0.868257</td>\n",
       "      <td>329664.0</td>\n",
       "    </tr>\n",
       "    <tr>\n",
       "      <th>MonthlyIncome</th>\n",
       "      <td>120268.0</td>\n",
       "      <td>6670.226810</td>\n",
       "      <td>14384.733888</td>\n",
       "      <td>0.0</td>\n",
       "      <td>3400.000000</td>\n",
       "      <td>5400.000000</td>\n",
       "      <td>8249.000000</td>\n",
       "      <td>3008750.0</td>\n",
       "    </tr>\n",
       "    <tr>\n",
       "      <th>NumberOfOpenCreditLinesAndLoans</th>\n",
       "      <td>149999.0</td>\n",
       "      <td>8.452776</td>\n",
       "      <td>5.145964</td>\n",
       "      <td>0.0</td>\n",
       "      <td>5.000000</td>\n",
       "      <td>8.000000</td>\n",
       "      <td>11.000000</td>\n",
       "      <td>58.0</td>\n",
       "    </tr>\n",
       "    <tr>\n",
       "      <th>NumberOfTimes90DaysLate</th>\n",
       "      <td>149999.0</td>\n",
       "      <td>0.265975</td>\n",
       "      <td>4.169318</td>\n",
       "      <td>0.0</td>\n",
       "      <td>0.000000</td>\n",
       "      <td>0.000000</td>\n",
       "      <td>0.000000</td>\n",
       "      <td>98.0</td>\n",
       "    </tr>\n",
       "    <tr>\n",
       "      <th>NumberRealEstateLoansOrLines</th>\n",
       "      <td>149999.0</td>\n",
       "      <td>1.018233</td>\n",
       "      <td>1.129772</td>\n",
       "      <td>0.0</td>\n",
       "      <td>0.000000</td>\n",
       "      <td>1.000000</td>\n",
       "      <td>2.000000</td>\n",
       "      <td>54.0</td>\n",
       "    </tr>\n",
       "    <tr>\n",
       "      <th>NumberOfTime60-89DaysPastDueNotWorse</th>\n",
       "      <td>149999.0</td>\n",
       "      <td>0.240388</td>\n",
       "      <td>4.155193</td>\n",
       "      <td>0.0</td>\n",
       "      <td>0.000000</td>\n",
       "      <td>0.000000</td>\n",
       "      <td>0.000000</td>\n",
       "      <td>98.0</td>\n",
       "    </tr>\n",
       "    <tr>\n",
       "      <th>NumberOfDependents</th>\n",
       "      <td>146075.0</td>\n",
       "      <td>0.757214</td>\n",
       "      <td>1.115085</td>\n",
       "      <td>0.0</td>\n",
       "      <td>0.000000</td>\n",
       "      <td>0.000000</td>\n",
       "      <td>1.000000</td>\n",
       "      <td>20.0</td>\n",
       "    </tr>\n",
       "  </tbody>\n",
       "</table>\n",
       "</div>\n",
       "      <button class=\"colab-df-convert\" onclick=\"convertToInteractive('df-cf4fba8c-9cf3-4e2f-9947-4a3001260801')\"\n",
       "              title=\"Convert this dataframe to an interactive table.\"\n",
       "              style=\"display:none;\">\n",
       "        \n",
       "  <svg xmlns=\"http://www.w3.org/2000/svg\" height=\"24px\"viewBox=\"0 0 24 24\"\n",
       "       width=\"24px\">\n",
       "    <path d=\"M0 0h24v24H0V0z\" fill=\"none\"/>\n",
       "    <path d=\"M18.56 5.44l.94 2.06.94-2.06 2.06-.94-2.06-.94-.94-2.06-.94 2.06-2.06.94zm-11 1L8.5 8.5l.94-2.06 2.06-.94-2.06-.94L8.5 2.5l-.94 2.06-2.06.94zm10 10l.94 2.06.94-2.06 2.06-.94-2.06-.94-.94-2.06-.94 2.06-2.06.94z\"/><path d=\"M17.41 7.96l-1.37-1.37c-.4-.4-.92-.59-1.43-.59-.52 0-1.04.2-1.43.59L10.3 9.45l-7.72 7.72c-.78.78-.78 2.05 0 2.83L4 21.41c.39.39.9.59 1.41.59.51 0 1.02-.2 1.41-.59l7.78-7.78 2.81-2.81c.8-.78.8-2.07 0-2.86zM5.41 20L4 18.59l7.72-7.72 1.47 1.35L5.41 20z\"/>\n",
       "  </svg>\n",
       "      </button>\n",
       "      \n",
       "  <style>\n",
       "    .colab-df-container {\n",
       "      display:flex;\n",
       "      flex-wrap:wrap;\n",
       "      gap: 12px;\n",
       "    }\n",
       "\n",
       "    .colab-df-convert {\n",
       "      background-color: #E8F0FE;\n",
       "      border: none;\n",
       "      border-radius: 50%;\n",
       "      cursor: pointer;\n",
       "      display: none;\n",
       "      fill: #1967D2;\n",
       "      height: 32px;\n",
       "      padding: 0 0 0 0;\n",
       "      width: 32px;\n",
       "    }\n",
       "\n",
       "    .colab-df-convert:hover {\n",
       "      background-color: #E2EBFA;\n",
       "      box-shadow: 0px 1px 2px rgba(60, 64, 67, 0.3), 0px 1px 3px 1px rgba(60, 64, 67, 0.15);\n",
       "      fill: #174EA6;\n",
       "    }\n",
       "\n",
       "    [theme=dark] .colab-df-convert {\n",
       "      background-color: #3B4455;\n",
       "      fill: #D2E3FC;\n",
       "    }\n",
       "\n",
       "    [theme=dark] .colab-df-convert:hover {\n",
       "      background-color: #434B5C;\n",
       "      box-shadow: 0px 1px 3px 1px rgba(0, 0, 0, 0.15);\n",
       "      filter: drop-shadow(0px 1px 2px rgba(0, 0, 0, 0.3));\n",
       "      fill: #FFFFFF;\n",
       "    }\n",
       "  </style>\n",
       "\n",
       "      <script>\n",
       "        const buttonEl =\n",
       "          document.querySelector('#df-cf4fba8c-9cf3-4e2f-9947-4a3001260801 button.colab-df-convert');\n",
       "        buttonEl.style.display =\n",
       "          google.colab.kernel.accessAllowed ? 'block' : 'none';\n",
       "\n",
       "        async function convertToInteractive(key) {\n",
       "          const element = document.querySelector('#df-cf4fba8c-9cf3-4e2f-9947-4a3001260801');\n",
       "          const dataTable =\n",
       "            await google.colab.kernel.invokeFunction('convertToInteractive',\n",
       "                                                     [key], {});\n",
       "          if (!dataTable) return;\n",
       "\n",
       "          const docLinkHtml = 'Like what you see? Visit the ' +\n",
       "            '<a target=\"_blank\" href=https://colab.research.google.com/notebooks/data_table.ipynb>data table notebook</a>'\n",
       "            + ' to learn more about interactive tables.';\n",
       "          element.innerHTML = '';\n",
       "          dataTable['output_type'] = 'display_data';\n",
       "          await google.colab.output.renderOutput(dataTable, element);\n",
       "          const docLink = document.createElement('div');\n",
       "          docLink.innerHTML = docLinkHtml;\n",
       "          element.appendChild(docLink);\n",
       "        }\n",
       "      </script>\n",
       "    </div>\n",
       "  </div>\n",
       "  "
      ],
      "text/plain": [
       "                                         count         mean           std  \\\n",
       "SeriousDlqin2yrs                      149999.0     0.066840      0.249746   \n",
       "RevolvingUtilizationOfUnsecuredLines  149999.0     6.048472    249.756203   \n",
       "age                                   149999.0    52.295555     14.771298   \n",
       "NumberOfTime30-59DaysPastDueNotWorse  149999.0     0.421029      4.192795   \n",
       "DebtRatio                             149999.0   353.007426   2037.825113   \n",
       "MonthlyIncome                         120268.0  6670.226810  14384.733888   \n",
       "NumberOfOpenCreditLinesAndLoans       149999.0     8.452776      5.145964   \n",
       "NumberOfTimes90DaysLate               149999.0     0.265975      4.169318   \n",
       "NumberRealEstateLoansOrLines          149999.0     1.018233      1.129772   \n",
       "NumberOfTime60-89DaysPastDueNotWorse  149999.0     0.240388      4.155193   \n",
       "NumberOfDependents                    146075.0     0.757214      1.115085   \n",
       "\n",
       "                                       min          25%          50%  \\\n",
       "SeriousDlqin2yrs                       0.0     0.000000     0.000000   \n",
       "RevolvingUtilizationOfUnsecuredLines   0.0     0.029867     0.154176   \n",
       "age                                   21.0    41.000000    52.000000   \n",
       "NumberOfTime30-59DaysPastDueNotWorse   0.0     0.000000     0.000000   \n",
       "DebtRatio                              0.0     0.175074     0.366503   \n",
       "MonthlyIncome                          0.0  3400.000000  5400.000000   \n",
       "NumberOfOpenCreditLinesAndLoans        0.0     5.000000     8.000000   \n",
       "NumberOfTimes90DaysLate                0.0     0.000000     0.000000   \n",
       "NumberRealEstateLoansOrLines           0.0     0.000000     1.000000   \n",
       "NumberOfTime60-89DaysPastDueNotWorse   0.0     0.000000     0.000000   \n",
       "NumberOfDependents                     0.0     0.000000     0.000000   \n",
       "\n",
       "                                              75%        max  \n",
       "SeriousDlqin2yrs                         0.000000        1.0  \n",
       "RevolvingUtilizationOfUnsecuredLines     0.559044    50708.0  \n",
       "age                                     63.000000      109.0  \n",
       "NumberOfTime30-59DaysPastDueNotWorse     0.000000       98.0  \n",
       "DebtRatio                                0.868257   329664.0  \n",
       "MonthlyIncome                         8249.000000  3008750.0  \n",
       "NumberOfOpenCreditLinesAndLoans         11.000000       58.0  \n",
       "NumberOfTimes90DaysLate                  0.000000       98.0  \n",
       "NumberRealEstateLoansOrLines             2.000000       54.0  \n",
       "NumberOfTime60-89DaysPastDueNotWorse     0.000000       98.0  \n",
       "NumberOfDependents                       1.000000       20.0  "
      ]
     },
     "execution_count": 51,
     "metadata": {},
     "output_type": "execute_result"
    }
   ],
   "source": [
    "loan_data.describe().T"
   ]
  },
  {
   "cell_type": "markdown",
   "metadata": {
    "id": "4vOgoL0zG4yJ"
   },
   "source": [
    "**Separación de datos**\n",
    "\n",
    "El primer paso en cualquier tipo de modelo será la separación de datos. Es decir, vamos a separar todo nuestro conjunto de datos en dos partes, una dedicada al **entrenamiento** y otra dedicada al **testing**. El modelo/scorecard que desarrollemos se estimará sobre los datos de entrenamiento (i.e. sobre estos datos construirá el modelo para predecir sobre nuevos datos) y se probará sobre los datos de testing (así tendremos una visión clara sobre la capacidad de predicción del mismo).\n",
    "\n",
    "Para hacer esta separación, la mayoría de librerías de Python nos exigirán primero que separemos los datos en dos matrices: una que contenga las variables explicativas X y otra que contenga la variable dependiente y. Para esto deberemos inicializar una lista con los nombres de las variables explicativas."
   ]
  },
  {
   "cell_type": "markdown",
   "metadata": {},
   "source": [
    "# 6. Agregación y representación de datos\n",
    "La etapa de agregación y representación de datos, se dedica a integrar múltiples conjuntos de datos para obtener una visión unificada.\n"
   ]
  },
  {
   "cell_type": "markdown",
   "metadata": {},
   "source": [
    "Este caso de uso no requiere la integración de otros datos."
   ]
  },
  {
   "cell_type": "markdown",
   "metadata": {},
   "source": [
    "# 7. Análisis de datos\n",
    "La etapa de análisis de datos se enfoca en llevar a cabo la tarea de análisis propiamente dicha, que suele implicar uno o más tipos de análisis"
   ]
  },
  {
   "cell_type": "code",
   "execution_count": null,
   "metadata": {
    "colab": {
     "base_uri": "https://localhost:8080/"
    },
    "executionInfo": {
     "elapsed": 10,
     "status": "ok",
     "timestamp": 1671502043092,
     "user": {
      "displayName": "Hugo Porras",
      "userId": "03803614839807938847"
     },
     "user_tz": 300
    },
    "id": "NA1GEhi6HxZP",
    "outputId": "4b2f5839-34c3-41fa-fe73-a272f248596f"
   },
   "outputs": [
    {
     "name": "stdout",
     "output_type": "stream",
     "text": [
      "['age', 'NumberOfTime30-59DaysPastDueNotWorse', 'RevolvingUtilizationOfUnsecuredLines', 'NumberOfDependents', 'NumberRealEstateLoansOrLines', 'DebtRatio', 'NumberOfOpenCreditLinesAndLoans', 'NumberOfTimes90DaysLate', 'MonthlyIncome', 'NumberOfTime60-89DaysPastDueNotWorse']\n"
     ]
    }
   ],
   "source": [
    "# Variables dependientes\n",
    "var_x = list(set(loan_data.columns).difference(set(['SeriousDlqin2yrs'])))\n",
    "print(var_x)"
   ]
  },
  {
   "cell_type": "code",
   "execution_count": null,
   "metadata": {
    "id": "ulEPvOWBHY2O"
   },
   "outputs": [],
   "source": [
    "# Separación X e Y\n",
    "X = loan_data[var_x]\n",
    "y = loan_data['SeriousDlqin2yrs']"
   ]
  },
  {
   "cell_type": "code",
   "execution_count": null,
   "metadata": {
    "id": "np5JqUWXH4Pc"
   },
   "outputs": [],
   "source": [
    "# Separación en entrenamiento y testing\n",
    "X_train, X_test, y_train, y_test = skmodsel.train_test_split(X, y, train_size = 0.7, random_state=42)"
   ]
  },
  {
   "cell_type": "code",
   "execution_count": null,
   "metadata": {
    "colab": {
     "base_uri": "https://localhost:8080/"
    },
    "executionInfo": {
     "elapsed": 8,
     "status": "ok",
     "timestamp": 1671502043361,
     "user": {
      "displayName": "Hugo Porras",
      "userId": "03803614839807938847"
     },
     "user_tz": 300
    },
    "id": "Z-KSEc_9IZ1B",
    "outputId": "ef993dd2-d067-4d84-af58-ee041ca2ed98"
   },
   "outputs": [
    {
     "name": "stdout",
     "output_type": "stream",
     "text": [
      "X train: (104999, 10)\n",
      "X test: (45000, 10)\n",
      "y train: (104999,)\n",
      "y test: (45000,)\n"
     ]
    }
   ],
   "source": [
    "# Confirmación de dimensiones\n",
    "print('X train:',X_train.shape)\n",
    "print('X test:',X_test.shape)\n",
    "print('y train:',y_train.shape)\n",
    "print('y test:',y_test.shape)"
   ]
  },
  {
   "cell_type": "markdown",
   "metadata": {
    "id": "8lLNrxD06P4_"
   },
   "source": [
    "**Inicialización de estimadores**\n",
    "\n",
    "Recordemos que al modelar con Python siempre debemos comenzar la estimaciones debemos inicializar todas las instancias necesarias (incluyendo los parámetros requeridos por cada una de ellas). En este caso vamos a inicializar y parametrizar:\n",
    "\n",
    "* Criterio de selección de variables\n",
    "* Categorización óptima (instancia)\n",
    "* Regresión Logística (instancia)\n",
    "* Scorecard (instancia)"
   ]
  },
  {
   "cell_type": "code",
   "execution_count": null,
   "metadata": {
    "id": "tnueqJo5EW6d"
   },
   "outputs": [],
   "source": [
    "# Criterio de selección en optbinnning\n",
    "sel_crt = {\n",
    "    \"iv\": {\"min\": 0.05, \"max\": 1}\n",
    "}"
   ]
  },
  {
   "cell_type": "code",
   "execution_count": null,
   "metadata": {
    "id": "ecrKe0tk6sBB"
   },
   "outputs": [],
   "source": [
    "# Proceso de categorización\n",
    "binpro = optbin.BinningProcess(var_x, selection_criteria=sel_crt)"
   ]
  },
  {
   "cell_type": "code",
   "execution_count": null,
   "metadata": {
    "id": "vYFSNEMjEtpB"
   },
   "outputs": [],
   "source": [
    "# Regresión logística\n",
    "logreg = sklm.LogisticRegression(class_weight='balanced')"
   ]
  },
  {
   "cell_type": "code",
   "execution_count": null,
   "metadata": {
    "id": "TaSa0ZdsE05G"
   },
   "outputs": [],
   "source": [
    "# Scorecard\n",
    "scorecard = optbin.Scorecard(binning_process=binpro,\n",
    "                             estimator=logreg, \n",
    "                             scaling_method=\"min_max\", scaling_method_params={\"min\": 300, \"max\": 1000})"
   ]
  },
  {
   "cell_type": "markdown",
   "metadata": {
    "id": "HyHSDkp-FQSc"
   },
   "source": [
    "Cabe notar que en la instancia del scorecard hemos definido el método de escalamiento **min_max**. Este transforma las probabilidades predichas por el modelo en un score (sí, como el de buró) para los límites que establezcamos con **scaling_method_params**."
   ]
  },
  {
   "cell_type": "markdown",
   "metadata": {
    "id": "BzU4rqDgIu7k"
   },
   "source": [
    "Para entender a cabalidad el proceso que estamos por ejecutar, veámoslo de manera gráfica, utilizando las herramientas que nos provee scikit-learn."
   ]
  },
  {
   "cell_type": "code",
   "execution_count": null,
   "metadata": {
    "colab": {
     "base_uri": "https://localhost:8080/",
     "height": 93
    },
    "executionInfo": {
     "elapsed": 9,
     "status": "ok",
     "timestamp": 1671502043595,
     "user": {
      "displayName": "Hugo Porras",
      "userId": "03803614839807938847"
     },
     "user_tz": 300
    },
    "id": "qEYcp516IxNY",
    "outputId": "e22ff665-52af-4306-bb96-92813dd1c6e2"
   },
   "outputs": [
    {
     "data": {
      "text/html": [
       "<style>#sk-69188e1a-0315-40a5-8533-793efc280def {color: black;background-color: white;}#sk-69188e1a-0315-40a5-8533-793efc280def pre{padding: 0;}#sk-69188e1a-0315-40a5-8533-793efc280def div.sk-toggleable {background-color: white;}#sk-69188e1a-0315-40a5-8533-793efc280def label.sk-toggleable__label {cursor: pointer;display: block;width: 100%;margin-bottom: 0;padding: 0.3em;box-sizing: border-box;text-align: center;}#sk-69188e1a-0315-40a5-8533-793efc280def label.sk-toggleable__label-arrow:before {content: \"▸\";float: left;margin-right: 0.25em;color: #696969;}#sk-69188e1a-0315-40a5-8533-793efc280def label.sk-toggleable__label-arrow:hover:before {color: black;}#sk-69188e1a-0315-40a5-8533-793efc280def div.sk-estimator:hover label.sk-toggleable__label-arrow:before {color: black;}#sk-69188e1a-0315-40a5-8533-793efc280def div.sk-toggleable__content {max-height: 0;max-width: 0;overflow: hidden;text-align: left;background-color: #f0f8ff;}#sk-69188e1a-0315-40a5-8533-793efc280def div.sk-toggleable__content pre {margin: 0.2em;color: black;border-radius: 0.25em;background-color: #f0f8ff;}#sk-69188e1a-0315-40a5-8533-793efc280def input.sk-toggleable__control:checked~div.sk-toggleable__content {max-height: 200px;max-width: 100%;overflow: auto;}#sk-69188e1a-0315-40a5-8533-793efc280def input.sk-toggleable__control:checked~label.sk-toggleable__label-arrow:before {content: \"▾\";}#sk-69188e1a-0315-40a5-8533-793efc280def div.sk-estimator input.sk-toggleable__control:checked~label.sk-toggleable__label {background-color: #d4ebff;}#sk-69188e1a-0315-40a5-8533-793efc280def div.sk-label input.sk-toggleable__control:checked~label.sk-toggleable__label {background-color: #d4ebff;}#sk-69188e1a-0315-40a5-8533-793efc280def input.sk-hidden--visually {border: 0;clip: rect(1px 1px 1px 1px);clip: rect(1px, 1px, 1px, 1px);height: 1px;margin: -1px;overflow: hidden;padding: 0;position: absolute;width: 1px;}#sk-69188e1a-0315-40a5-8533-793efc280def div.sk-estimator {font-family: monospace;background-color: #f0f8ff;border: 1px dotted black;border-radius: 0.25em;box-sizing: border-box;margin-bottom: 0.5em;}#sk-69188e1a-0315-40a5-8533-793efc280def div.sk-estimator:hover {background-color: #d4ebff;}#sk-69188e1a-0315-40a5-8533-793efc280def div.sk-parallel-item::after {content: \"\";width: 100%;border-bottom: 1px solid gray;flex-grow: 1;}#sk-69188e1a-0315-40a5-8533-793efc280def div.sk-label:hover label.sk-toggleable__label {background-color: #d4ebff;}#sk-69188e1a-0315-40a5-8533-793efc280def div.sk-serial::before {content: \"\";position: absolute;border-left: 1px solid gray;box-sizing: border-box;top: 2em;bottom: 0;left: 50%;}#sk-69188e1a-0315-40a5-8533-793efc280def div.sk-serial {display: flex;flex-direction: column;align-items: center;background-color: white;padding-right: 0.2em;padding-left: 0.2em;}#sk-69188e1a-0315-40a5-8533-793efc280def div.sk-item {z-index: 1;}#sk-69188e1a-0315-40a5-8533-793efc280def div.sk-parallel {display: flex;align-items: stretch;justify-content: center;background-color: white;}#sk-69188e1a-0315-40a5-8533-793efc280def div.sk-parallel::before {content: \"\";position: absolute;border-left: 1px solid gray;box-sizing: border-box;top: 2em;bottom: 0;left: 50%;}#sk-69188e1a-0315-40a5-8533-793efc280def div.sk-parallel-item {display: flex;flex-direction: column;position: relative;background-color: white;}#sk-69188e1a-0315-40a5-8533-793efc280def div.sk-parallel-item:first-child::after {align-self: flex-end;width: 50%;}#sk-69188e1a-0315-40a5-8533-793efc280def div.sk-parallel-item:last-child::after {align-self: flex-start;width: 50%;}#sk-69188e1a-0315-40a5-8533-793efc280def div.sk-parallel-item:only-child::after {width: 0;}#sk-69188e1a-0315-40a5-8533-793efc280def div.sk-dashed-wrapped {border: 1px dashed gray;margin: 0 0.4em 0.5em 0.4em;box-sizing: border-box;padding-bottom: 0.4em;background-color: white;position: relative;}#sk-69188e1a-0315-40a5-8533-793efc280def div.sk-label label {font-family: monospace;font-weight: bold;background-color: white;display: inline-block;line-height: 1.2em;}#sk-69188e1a-0315-40a5-8533-793efc280def div.sk-label-container {position: relative;z-index: 2;text-align: center;}#sk-69188e1a-0315-40a5-8533-793efc280def div.sk-container {/* jupyter's `normalize.less` sets `[hidden] { display: none; }` but bootstrap.min.css set `[hidden] { display: none !important; }` so we also need the `!important` here to be able to override the default hidden behavior on the sphinx rendered scikit-learn.org. See: https://github.com/scikit-learn/scikit-learn/issues/21755 */display: inline-block !important;position: relative;}#sk-69188e1a-0315-40a5-8533-793efc280def div.sk-text-repr-fallback {display: none;}</style><div id=\"sk-69188e1a-0315-40a5-8533-793efc280def\" class=\"sk-top-container\"><div class=\"sk-text-repr-fallback\"><pre>Scorecard(binning_process=BinningProcess(selection_criteria={&#x27;iv&#x27;: {&#x27;max&#x27;: 1,\n",
       "                                                                    &#x27;min&#x27;: 0.05}},\n",
       "                                         variable_names=[&#x27;age&#x27;,\n",
       "                                                         &#x27;NumberOfTime30-59DaysPastDueNotWorse&#x27;,\n",
       "                                                         &#x27;RevolvingUtilizationOfUnsecuredLines&#x27;,\n",
       "                                                         &#x27;NumberOfDependents&#x27;,\n",
       "                                                         &#x27;NumberRealEstateLoansOrLines&#x27;,\n",
       "                                                         &#x27;DebtRatio&#x27;,\n",
       "                                                         &#x27;NumberOfOpenCreditLinesAndLoans&#x27;,\n",
       "                                                         &#x27;NumberOfTimes90DaysLate&#x27;,\n",
       "                                                         &#x27;MonthlyIncome&#x27;,\n",
       "                                                         &#x27;NumberOfTime60-89DaysPastDueNotWorse&#x27;]),\n",
       "          estimator=LogisticRegression(class_weight=&#x27;balanced&#x27;),\n",
       "          scaling_method=&#x27;min_max&#x27;,\n",
       "          scaling_method_params={&#x27;max&#x27;: 1000, &#x27;min&#x27;: 300})</pre><b>Please rerun this cell to show the HTML repr or trust the notebook.</b></div><div class=\"sk-container\" hidden><div class=\"sk-item sk-dashed-wrapped\"><div class=\"sk-label-container\"><div class=\"sk-label sk-toggleable\"><input class=\"sk-toggleable__control sk-hidden--visually\" id=\"5d1ebfed-2044-4563-b044-ae81aafb52b6\" type=\"checkbox\" ><label for=\"5d1ebfed-2044-4563-b044-ae81aafb52b6\" class=\"sk-toggleable__label sk-toggleable__label-arrow\">Scorecard</label><div class=\"sk-toggleable__content\"><pre>Scorecard(binning_process=BinningProcess(selection_criteria={&#x27;iv&#x27;: {&#x27;max&#x27;: 1,\n",
       "                                                                    &#x27;min&#x27;: 0.05}},\n",
       "                                         variable_names=[&#x27;age&#x27;,\n",
       "                                                         &#x27;NumberOfTime30-59DaysPastDueNotWorse&#x27;,\n",
       "                                                         &#x27;RevolvingUtilizationOfUnsecuredLines&#x27;,\n",
       "                                                         &#x27;NumberOfDependents&#x27;,\n",
       "                                                         &#x27;NumberRealEstateLoansOrLines&#x27;,\n",
       "                                                         &#x27;DebtRatio&#x27;,\n",
       "                                                         &#x27;NumberOfOpenCreditLinesAndLoans&#x27;,\n",
       "                                                         &#x27;NumberOfTimes90DaysLate&#x27;,\n",
       "                                                         &#x27;MonthlyIncome&#x27;,\n",
       "                                                         &#x27;NumberOfTime60-89DaysPastDueNotWorse&#x27;]),\n",
       "          estimator=LogisticRegression(class_weight=&#x27;balanced&#x27;),\n",
       "          scaling_method=&#x27;min_max&#x27;,\n",
       "          scaling_method_params={&#x27;max&#x27;: 1000, &#x27;min&#x27;: 300})</pre></div></div></div><div class=\"sk-parallel\"><div class=\"sk-parallel-item\"><div class=\"sk-item\"><div class=\"sk-serial\"><div class=\"sk-item\"><div class=\"sk-estimator sk-toggleable\"><input class=\"sk-toggleable__control sk-hidden--visually\" id=\"3ed9de58-3c6a-4d22-a33a-1959190566de\" type=\"checkbox\" ><label for=\"3ed9de58-3c6a-4d22-a33a-1959190566de\" class=\"sk-toggleable__label sk-toggleable__label-arrow\">BinningProcess</label><div class=\"sk-toggleable__content\"><pre>BinningProcess(selection_criteria={&#x27;iv&#x27;: {&#x27;max&#x27;: 1, &#x27;min&#x27;: 0.05}},\n",
       "               variable_names=[&#x27;age&#x27;, &#x27;NumberOfTime30-59DaysPastDueNotWorse&#x27;,\n",
       "                               &#x27;RevolvingUtilizationOfUnsecuredLines&#x27;,\n",
       "                               &#x27;NumberOfDependents&#x27;,\n",
       "                               &#x27;NumberRealEstateLoansOrLines&#x27;, &#x27;DebtRatio&#x27;,\n",
       "                               &#x27;NumberOfOpenCreditLinesAndLoans&#x27;,\n",
       "                               &#x27;NumberOfTimes90DaysLate&#x27;, &#x27;MonthlyIncome&#x27;,\n",
       "                               &#x27;NumberOfTime60-89DaysPastDueNotWorse&#x27;])</pre></div></div></div></div></div></div><div class=\"sk-parallel-item\"><div class=\"sk-item\"><div class=\"sk-serial\"><div class=\"sk-item\"><div class=\"sk-estimator sk-toggleable\"><input class=\"sk-toggleable__control sk-hidden--visually\" id=\"6a9ac449-67c5-468e-9e17-b5d038728912\" type=\"checkbox\" ><label for=\"6a9ac449-67c5-468e-9e17-b5d038728912\" class=\"sk-toggleable__label sk-toggleable__label-arrow\">LogisticRegression</label><div class=\"sk-toggleable__content\"><pre>LogisticRegression(class_weight=&#x27;balanced&#x27;)</pre></div></div></div></div></div></div></div></div></div></div>"
      ],
      "text/plain": [
       "Scorecard(binning_process=BinningProcess(selection_criteria={'iv': {'max': 1,\n",
       "                                                                    'min': 0.05}},\n",
       "                                         variable_names=['age',\n",
       "                                                         'NumberOfTime30-59DaysPastDueNotWorse',\n",
       "                                                         'RevolvingUtilizationOfUnsecuredLines',\n",
       "                                                         'NumberOfDependents',\n",
       "                                                         'NumberRealEstateLoansOrLines',\n",
       "                                                         'DebtRatio',\n",
       "                                                         'NumberOfOpenCreditLinesAndLoans',\n",
       "                                                         'NumberOfTimes90DaysLate',\n",
       "                                                         'MonthlyIncome',\n",
       "                                                         'NumberOfTime60-89DaysPastDueNotWorse']),\n",
       "          estimator=LogisticRegression(class_weight='balanced'),\n",
       "          scaling_method='min_max',\n",
       "          scaling_method_params={'max': 1000, 'min': 300})"
      ]
     },
     "execution_count": 60,
     "metadata": {},
     "output_type": "execute_result"
    }
   ],
   "source": [
    "scorecard"
   ]
  },
  {
   "cell_type": "markdown",
   "metadata": {
    "id": "BATiBm2SGSlF"
   },
   "source": [
    "## **Estimación**\n",
    "\n",
    "Una vez inicializadas las instancias de los estimadores basta con utilizar el método **fit** para estimar el scorecard creado, como se muestra a continuación."
   ]
  },
  {
   "cell_type": "code",
   "execution_count": null,
   "metadata": {
    "id": "5JscXZlPFLtg"
   },
   "outputs": [],
   "source": [
    "# Estimación\n",
    "scorecard_fit = scorecard.fit(X_train, y_train, show_digits=4)"
   ]
  },
  {
   "cell_type": "code",
   "execution_count": null,
   "metadata": {
    "colab": {
     "base_uri": "https://localhost:8080/"
    },
    "executionInfo": {
     "elapsed": 12,
     "status": "ok",
     "timestamp": 1671502046577,
     "user": {
      "displayName": "Hugo Porras",
      "userId": "03803614839807938847"
     },
     "user_tz": 300
    },
    "id": "lmSS0hn6Jj3L",
    "outputId": "482295a4-1ebd-4c1d-86d4-c12afbbfe916"
   },
   "outputs": [
    {
     "name": "stdout",
     "output_type": "stream",
     "text": [
      "optbinning (Version 0.17.1)\n",
      "Copyright (c) 2019-2022 Guillermo Navas-Palencia, Apache License 2.0\n",
      "\n",
      "  Statistics\n",
      "    Number of records                 104999\n",
      "    Number of variables                   10\n",
      "    Target type                       binary\n",
      "\n",
      "    Number of numerical                   10\n",
      "    Number of categorical                  0\n",
      "    Number of selected                     8\n",
      "\n",
      "  Timing\n",
      "    Total time                          3.23 sec\n",
      "    Binning process                     2.59 sec   ( 80.27%)\n",
      "    Estimator                           0.48 sec   ( 14.98%)\n",
      "    Build scorecard                     0.15 sec   (  4.62%)\n",
      "      rounding                          0.00 sec   (  0.00%)\n",
      "\n"
     ]
    }
   ],
   "source": [
    "# Información general de la estimación (nivel 1)\n",
    "scorecard.information(print_level=1)"
   ]
  },
  {
   "cell_type": "code",
   "execution_count": null,
   "metadata": {
    "colab": {
     "base_uri": "https://localhost:8080/"
    },
    "executionInfo": {
     "elapsed": 11,
     "status": "ok",
     "timestamp": 1671502046578,
     "user": {
      "displayName": "Hugo Porras",
      "userId": "03803614839807938847"
     },
     "user_tz": 300
    },
    "id": "d5x7VpZWJ3-y",
    "outputId": "3727bd44-8e13-4488-91b3-835658d78a56"
   },
   "outputs": [
    {
     "name": "stdout",
     "output_type": "stream",
     "text": [
      "optbinning (Version 0.17.1)\n",
      "Copyright (c) 2019-2022 Guillermo Navas-Palencia, Apache License 2.0\n",
      "\n",
      "  Begin options\n",
      "    binning_process                      yes   * U\n",
      "    estimator                            yes   * U\n",
      "    scaling_method                   min_max   * U\n",
      "    scaling_method_params                yes   * U\n",
      "    intercept_based                    False   * d\n",
      "    reverse_scorecard                  False   * d\n",
      "    rounding                           False   * d\n",
      "    verbose                            False   * d\n",
      "  End options\n",
      "\n",
      "  Statistics\n",
      "    Number of records                 104999\n",
      "    Number of variables                   10\n",
      "    Target type                       binary\n",
      "\n",
      "    Number of numerical                   10\n",
      "    Number of categorical                  0\n",
      "    Number of selected                     8\n",
      "\n",
      "  Timing\n",
      "    Total time                          3.23 sec\n",
      "    Binning process                     2.59 sec   ( 80.27%)\n",
      "    Estimator                           0.48 sec   ( 14.98%)\n",
      "    Build scorecard                     0.15 sec   (  4.62%)\n",
      "      rounding                          0.00 sec   (  0.00%)\n",
      "\n"
     ]
    }
   ],
   "source": [
    "# Información general de la estimación (nivel 2)\n",
    "scorecard.information(print_level=2)"
   ]
  },
  {
   "cell_type": "markdown",
   "metadata": {},
   "source": [
    "# 8. Visualización de datos\n",
    "La capacidad de analizar grandes cantidades de datos y obtener información útil tiene poco valor si los únicos que pueden interpretar los resultados son los analistas.\n",
    "La etapa de visualización de datos se dedica a utilizar técnicas y herramientas de visualización de datos para comunicar gráficamente los resultados del análisis con vistas a una interpretación eficaz por parte de los usuarios empresariales."
   ]
  },
  {
   "cell_type": "markdown",
   "metadata": {
    "id": "n7K76SovK7uR"
   },
   "source": [
    "**Desempeño del scorecard**\n",
    "\n",
    "Una vez estimado del modelo revisaremos las siguientes métricas de evaluación para confirmar que hayamos creado un scorecard con un desempeño adecuado:\n",
    "\n",
    "+ Curva ROC\n",
    "+ Curva CAP\n",
    "+ Gráfico KS\n",
    "+ Distribución de los scores\n",
    "+ Matriz de confusión\n",
    "+ Curva precission-recall\n",
    "+ Punto de corte óptimo\n",
    "\n",
    "Para ello, estimaremos primero las probabilidades y clases predichas para las muestras de entrenamiento y testing."
   ]
  },
  {
   "cell_type": "code",
   "execution_count": null,
   "metadata": {
    "id": "gq6FoXFWLERb"
   },
   "outputs": [],
   "source": [
    "# Predicción sobre train\n",
    "y_prob_train = scorecard.predict_proba(X_train)[:, 1]\n",
    "# Predicción sobre test\n",
    "y_prob_test = scorecard.predict_proba(X_test)[:, 1]"
   ]
  },
  {
   "cell_type": "code",
   "execution_count": null,
   "metadata": {
    "colab": {
     "base_uri": "https://localhost:8080/",
     "height": 299
    },
    "executionInfo": {
     "elapsed": 621,
     "status": "ok",
     "timestamp": 1671502047443,
     "user": {
      "displayName": "Hugo Porras",
      "userId": "03803614839807938847"
     },
     "user_tz": 300
    },
    "id": "MAQj2GuQLeqF",
    "outputId": "9188a040-09df-4363-cf18-011be8184abc"
   },
   "outputs": [
    {
     "data": {
      "image/png": "[encoded data removed]",
      "text/plain": [
       "<Figure size 432x288 with 1 Axes>"
      ]
     },
     "metadata": {},
     "output_type": "display_data"
    }
   ],
   "source": [
    "# ROC sobre training\n",
    "optbin.scorecard.plot_auc_roc(y_train, y_prob_train)"
   ]
  },
  {
   "cell_type": "code",
   "execution_count": null,
   "metadata": {
    "colab": {
     "base_uri": "https://localhost:8080/",
     "height": 299
    },
    "executionInfo": {
     "elapsed": 381,
     "status": "ok",
     "timestamp": 1671502047821,
     "user": {
      "displayName": "Hugo Porras",
      "userId": "03803614839807938847"
     },
     "user_tz": 300
    },
    "id": "2G6C2_izLmmd",
    "outputId": "0648f947-71b9-465f-c782-0bb5fc0d6486"
   },
   "outputs": [
    {
     "data": {
      "image/png": "[encoded data removed]",
      "text/plain": [
       "<Figure size 432x288 with 1 Axes>"
      ]
     },
     "metadata": {},
     "output_type": "display_data"
    }
   ],
   "source": [
    "# ROC sobre testing\n",
    "optbin.scorecard.plot_auc_roc(y_test, y_prob_test)"
   ]
  },
  {
   "cell_type": "code",
   "execution_count": null,
   "metadata": {
    "colab": {
     "base_uri": "https://localhost:8080/",
     "height": 299
    },
    "executionInfo": {
     "elapsed": 534,
     "status": "ok",
     "timestamp": 1671502048351,
     "user": {
      "displayName": "Hugo Porras",
      "userId": "03803614839807938847"
     },
     "user_tz": 300
    },
    "id": "tfe24e4MLpqT",
    "outputId": "f3bec683-0ef4-4ce3-b4a9-59141241dd8b"
   },
   "outputs": [
    {
     "data": {
      "image/png": "[encoded data removed]",
      "text/plain": [
       "<Figure size 432x288 with 1 Axes>"
      ]
     },
     "metadata": {},
     "output_type": "display_data"
    }
   ],
   "source": [
    "# CAP sobre train\n",
    "optbin.scorecard.plot_cap(y_train, y_prob_train)"
   ]
  },
  {
   "cell_type": "code",
   "execution_count": null,
   "metadata": {
    "colab": {
     "base_uri": "https://localhost:8080/",
     "height": 299
    },
    "executionInfo": {
     "elapsed": 529,
     "status": "ok",
     "timestamp": 1671502048876,
     "user": {
      "displayName": "Hugo Porras",
      "userId": "03803614839807938847"
     },
     "user_tz": 300
    },
    "id": "0TvrG4AiL4Ze",
    "outputId": "929bab0b-d567-4c02-cf17-a713576b94fb"
   },
   "outputs": [
    {
     "data": {
      "image/png": "[encoded data removed]",
      "text/plain": [
       "<Figure size 432x288 with 1 Axes>"
      ]
     },
     "metadata": {},
     "output_type": "display_data"
    }
   ],
   "source": [
    "# CAP sobre test\n",
    "optbin.scorecard.plot_cap(y_test, y_prob_test)"
   ]
  },
  {
   "cell_type": "code",
   "execution_count": null,
   "metadata": {
    "colab": {
     "base_uri": "https://localhost:8080/",
     "height": 299
    },
    "executionInfo": {
     "elapsed": 546,
     "status": "ok",
     "timestamp": 1671502049417,
     "user": {
      "displayName": "Hugo Porras",
      "userId": "03803614839807938847"
     },
     "user_tz": 300
    },
    "id": "NZUupw0vL9OL",
    "outputId": "47b17b77-3859-4f5b-b093-aaad1edf7f8c"
   },
   "outputs": [
    {
     "data": {
      "image/png": "[encoded data removed]",
      "text/plain": [
       "<Figure size 432x288 with 1 Axes>"
      ]
     },
     "metadata": {},
     "output_type": "display_data"
    }
   ],
   "source": [
    "# KS sobre train\n",
    "optbin.scorecard.plot_ks(y_train, y_prob_train)"
   ]
  },
  {
   "cell_type": "code",
   "execution_count": null,
   "metadata": {
    "colab": {
     "base_uri": "https://localhost:8080/",
     "height": 299
    },
    "executionInfo": {
     "elapsed": 601,
     "status": "ok",
     "timestamp": 1671502050014,
     "user": {
      "displayName": "Hugo Porras",
      "userId": "03803614839807938847"
     },
     "user_tz": 300
    },
    "id": "ysWXhPCLMOOT",
    "outputId": "ff0edc1b-b866-44a2-d608-50e03a84957a"
   },
   "outputs": [
    {
     "data": {
      "image/png": "[encoded data removed]",
      "text/plain": [
       "<Figure size 432x288 with 1 Axes>"
      ]
     },
     "metadata": {},
     "output_type": "display_data"
    }
   ],
   "source": [
    "# KS sobre test\n",
    "optbin.scorecard.plot_ks(y_test, y_prob_test)"
   ]
  },
  {
   "cell_type": "code",
   "execution_count": null,
   "metadata": {
    "colab": {
     "base_uri": "https://localhost:8080/",
     "height": 279
    },
    "executionInfo": {
     "elapsed": 546,
     "status": "ok",
     "timestamp": 1671502050556,
     "user": {
      "displayName": "Hugo Porras",
      "userId": "03803614839807938847"
     },
     "user_tz": 300
    },
    "id": "CTxVaaH4PFwL",
    "outputId": "f911fa88-32b9-4530-8d00-33162b07befd"
   },
   "outputs": [
    {
     "data": {
      "image/png": "[encoded data removed]",
      "text/plain": [
       "<Figure size 432x288 with 1 Axes>"
      ]
     },
     "metadata": {},
     "output_type": "display_data"
    }
   ],
   "source": [
    "# Distribución de scores para buenos y malos en train\n",
    "score_train = scorecard.score(X_train)\n",
    "mask = y_train == 0\n",
    "plt.hist(score_train[mask], label=\"non-event\", color=\"b\", alpha=0.35)\n",
    "plt.hist(score_train[~mask], label=\"event\", color=\"r\", alpha=0.35)\n",
    "plt.xlabel(\"score en train\")\n",
    "plt.legend()\n",
    "plt.show()"
   ]
  },
  {
   "cell_type": "code",
   "execution_count": null,
   "metadata": {
    "colab": {
     "base_uri": "https://localhost:8080/",
     "height": 279
    },
    "executionInfo": {
     "elapsed": 515,
     "status": "ok",
     "timestamp": 1671502051065,
     "user": {
      "displayName": "Hugo Porras",
      "userId": "03803614839807938847"
     },
     "user_tz": 300
    },
    "id": "nNI0OO8VPToa",
    "outputId": "71e48ca4-e1d8-4d46-8171-97bb06e62068"
   },
   "outputs": [
    {
     "data": {
      "image/png": "[encoded data removed]",
      "text/plain": [
       "<Figure size 432x288 with 1 Axes>"
      ]
     },
     "metadata": {},
     "output_type": "display_data"
    }
   ],
   "source": [
    "# Distribución de scores para buenos y malos en test\n",
    "score_test = scorecard.score(X_test)\n",
    "mask = y_test == 0\n",
    "plt.hist(score_test[mask], label=\"non-event\", color=\"b\", alpha=0.35)\n",
    "plt.hist(score_test[~mask], label=\"event\", color=\"r\", alpha=0.35)\n",
    "plt.xlabel(\"score en test\")\n",
    "plt.legend()\n",
    "plt.show()"
   ]
  },
  {
   "cell_type": "code",
   "execution_count": null,
   "metadata": {
    "colab": {
     "base_uri": "https://localhost:8080/",
     "height": 279
    },
    "executionInfo": {
     "elapsed": 1708,
     "status": "ok",
     "timestamp": 1671502052769,
     "user": {
      "displayName": "Hugo Porras",
      "userId": "03803614839807938847"
     },
     "user_tz": 300
    },
    "id": "TgG7XUZRtbbB",
    "outputId": "4e4fb961-25ee-4121-ff95-cf151fc78b6f"
   },
   "outputs": [
    {
     "data": {
      "image/png": "[encoded data removed]",
      "text/plain": [
       "<Figure size 432x288 with 1 Axes>"
      ]
     },
     "metadata": {},
     "output_type": "display_data"
    }
   ],
   "source": [
    "# Distribución de scores para buenos y malos en train\n",
    "import seaborn as sns\n",
    "score_train = scorecard.score(X_train)\n",
    "mask = y_train == 0\n",
    "sns.kdeplot(score_train[mask], label=\"non-event\", color=\"b\", alpha=0.35)\n",
    "sns.kdeplot(score_train[~mask], label=\"event\", color=\"r\", alpha=0.35)\n",
    "plt.xlabel(\"score en train\")\n",
    "plt.legend()\n",
    "plt.show()"
   ]
  },
  {
   "cell_type": "code",
   "execution_count": null,
   "metadata": {
    "colab": {
     "base_uri": "https://localhost:8080/",
     "height": 279
    },
    "executionInfo": {
     "elapsed": 1282,
     "status": "ok",
     "timestamp": 1671502054047,
     "user": {
      "displayName": "Hugo Porras",
      "userId": "03803614839807938847"
     },
     "user_tz": 300
    },
    "id": "UwrkOdmSuLVQ",
    "outputId": "e29277a1-5140-4e8e-d8da-fb209ea8d6f2"
   },
   "outputs": [
    {
     "data": {
      "image/png": "[encoded data removed]",
      "text/plain": [
       "<Figure size 432x288 with 1 Axes>"
      ]
     },
     "metadata": {},
     "output_type": "display_data"
    }
   ],
   "source": [
    "# Distribución de scores para buenos y malos en test\n",
    "score_test = scorecard.score(X_test)\n",
    "mask = y_test == 0\n",
    "sns.kdeplot(score_test[mask], label=\"non-event\", color=\"b\", alpha=0.35)\n",
    "sns.kdeplot(score_test[~mask], label=\"event\", color=\"r\", alpha=0.35)\n",
    "plt.xlabel(\"score en test\")\n",
    "plt.legend()\n",
    "plt.show()"
   ]
  },
  {
   "cell_type": "markdown",
   "metadata": {
    "id": "WxBupWDbPiHZ"
   },
   "source": [
    "Podemos ver que el score para no defaulters está concentrado alrededor de los 900 puntos, mientras que para los defaulters baja hasta los 300 puntos."
   ]
  },
  {
   "cell_type": "markdown",
   "metadata": {
    "id": "lt1lgSGsO793"
   },
   "source": [
    "En algunas ocasiones es útil revisar también las predicciones binarias (default o no default) en lugar de la probabilidad o el score. Esto lo podemos hacer (y optimizar) como se observa a continuación."
   ]
  },
  {
   "cell_type": "code",
   "execution_count": null,
   "metadata": {
    "colab": {
     "base_uri": "https://localhost:8080/"
    },
    "executionInfo": {
     "elapsed": 276,
     "status": "ok",
     "timestamp": 1671502293268,
     "user": {
      "displayName": "Hugo Porras",
      "userId": "03803614839807938847"
     },
     "user_tz": 300
    },
    "id": "GqjdEy9oMR-m",
    "outputId": "82652fe2-047b-4b39-f0f7-de149177d502"
   },
   "outputs": [
    {
     "name": "stdout",
     "output_type": "stream",
     "text": [
      "              precision    recall  f1-score   support\n",
      "\n",
      "           0       0.97      0.83      0.90     97908\n",
      "           1       0.23      0.68      0.34      7091\n",
      "\n",
      "    accuracy                           0.82    104999\n",
      "   macro avg       0.60      0.76      0.62    104999\n",
      "weighted avg       0.92      0.82      0.86    104999\n",
      "\n"
     ]
    }
   ],
   "source": [
    "# Matriz de confusión sobre train\n",
    "print(skmet.classification_report(y_train, np.where(y_prob_train>0.5, 1, 0)))"
   ]
  },
  {
   "cell_type": "code",
   "execution_count": null,
   "metadata": {
    "colab": {
     "base_uri": "https://localhost:8080/"
    },
    "executionInfo": {
     "elapsed": 227,
     "status": "ok",
     "timestamp": 1671502293734,
     "user": {
      "displayName": "Hugo Porras",
      "userId": "03803614839807938847"
     },
     "user_tz": 300
    },
    "id": "mmd7ngj8M1UC",
    "outputId": "31c58530-28d3-4c44-b8b5-ecb3b9753626"
   },
   "outputs": [
    {
     "name": "stdout",
     "output_type": "stream",
     "text": [
      "              precision    recall  f1-score   support\n",
      "\n",
      "           0       0.97      0.83      0.90     42065\n",
      "           1       0.22      0.68      0.34      2935\n",
      "\n",
      "    accuracy                           0.82     45000\n",
      "   macro avg       0.60      0.76      0.62     45000\n",
      "weighted avg       0.93      0.82      0.86     45000\n",
      "\n"
     ]
    }
   ],
   "source": [
    "# Matriz de confusión sobre test\n",
    "print(skmet.classification_report(y_test, np.where(y_prob_test>0.5, 1, 0)))"
   ]
  },
  {
   "cell_type": "code",
   "execution_count": null,
   "metadata": {
    "colab": {
     "base_uri": "https://localhost:8080/",
     "height": 300
    },
    "executionInfo": {
     "elapsed": 250,
     "status": "ok",
     "timestamp": 1671502316000,
     "user": {
      "displayName": "Hugo Porras",
      "userId": "03803614839807938847"
     },
     "user_tz": 300
    },
    "id": "WHhjEb-dM9NV",
    "outputId": "886de99c-dc80-4aed-e221-b0fb8a95594c"
   },
   "outputs": [
    {
     "data": {
      "text/plain": [
       "(0.0, 1.0)"
      ]
     },
     "execution_count": 78,
     "metadata": {},
     "output_type": "execute_result"
    },
    {
     "data": {
      "image/png": "[encoded data removed]",
      "text/plain": [
       "<Figure size 432x288 with 1 Axes>"
      ]
     },
     "metadata": {},
     "output_type": "display_data"
    }
   ],
   "source": [
    "# Curva precission-recall para optimizar el punto de corte\n",
    "prec, rec, thre = skmet.precision_recall_curve(y_train, y_prob_train)\n",
    "plt.plot(thre, prec[:-1], 'b--', label='precision')\n",
    "plt.plot(thre, rec[:-1], 'g--', label = 'recall')\n",
    "plt.xlabel('Threshold')\n",
    "plt.legend(loc='upper left')\n",
    "plt.ylim([0,1])"
   ]
  },
  {
   "cell_type": "code",
   "execution_count": null,
   "metadata": {
    "colab": {
     "base_uri": "https://localhost:8080/"
    },
    "executionInfo": {
     "elapsed": 517,
     "status": "ok",
     "timestamp": 1671502350477,
     "user": {
      "displayName": "Hugo Porras",
      "userId": "03803614839807938847"
     },
     "user_tz": 300
    },
    "id": "wHVA-CJBOqcf",
    "outputId": "476636f9-35e0-461b-9bc9-8cab3ce27dba"
   },
   "outputs": [
    {
     "name": "stdout",
     "output_type": "stream",
     "text": [
      "              precision    recall  f1-score   support\n",
      "\n",
      "           0       0.97      0.89      0.93     97908\n",
      "           1       0.29      0.60      0.39      7091\n",
      "\n",
      "    accuracy                           0.87    104999\n",
      "   macro avg       0.63      0.75      0.66    104999\n",
      "weighted avg       0.92      0.87      0.89    104999\n",
      "\n"
     ]
    }
   ],
   "source": [
    "# Matriz de confusión sobre train (con nuevo corte)\n",
    "print(skmet.classification_report(y_train, np.where(y_prob_train>0.6, 1, 0)))"
   ]
  },
  {
   "cell_type": "code",
   "execution_count": null,
   "metadata": {
    "colab": {
     "base_uri": "https://localhost:8080/"
    },
    "executionInfo": {
     "elapsed": 560,
     "status": "ok",
     "timestamp": 1671502363777,
     "user": {
      "displayName": "Hugo Porras",
      "userId": "03803614839807938847"
     },
     "user_tz": 300
    },
    "id": "qNJcDC4qOtjv",
    "outputId": "b7acd9ab-5dcb-480e-9437-0da3d7829c09"
   },
   "outputs": [
    {
     "name": "stdout",
     "output_type": "stream",
     "text": [
      "              precision    recall  f1-score   support\n",
      "\n",
      "           0       0.97      0.90      0.93     42065\n",
      "           1       0.29      0.59      0.38      2935\n",
      "\n",
      "    accuracy                           0.88     45000\n",
      "   macro avg       0.63      0.74      0.66     45000\n",
      "weighted avg       0.92      0.88      0.90     45000\n",
      "\n"
     ]
    }
   ],
   "source": [
    "# Matriz de confusión sobre test (con nuevo corte)\n",
    "print(skmet.classification_report(y_test, np.where(y_prob_test>0.6, 1, 0)))"
   ]
  },
  {
   "cell_type": "markdown",
   "metadata": {
    "id": "YH9SNlTRL_bA"
   },
   "source": [
    "Bajo estas visualizaciones podemos concluir que el modelo es bueno y está listo para ser probado en **producción**."
   ]
  },
  {
   "cell_type": "markdown",
   "metadata": {},
   "source": [
    "# 9. Utilización de los resultados del análisis\n",
    "Después de que los resultados del análisis se pongan a disposición de los usuarios de negocio para apoyar la toma de decisiones empresariales, por ejemplo a través de cuadros de mando o paneles, puede haber más oportunidades para utilizar los resultados del análisis. La etapa de utilización de los resultados del análisis, esta enfocada en determinar cómo y dónde se pueden aprovechar más los datos del análisis procesado."
   ]
  },
  {
   "cell_type": "markdown",
   "metadata": {
    "id": "5lAF9z4BKDud"
   },
   "source": [
    "**Resultado del scorecard**\n",
    "\n",
    "Una vez desarrollado el scorecard este puede guardarse en una tabla (de excel sobre la cual podemos hacer **buscarv**) como se muestra a continuación.\n",
    "\n",
    "Estos resultados nos son útiles para evaluar a los clientes que se acerquen a la institución a solicitar un crédito (o para evaluar el comportamiento de los que se encuentran pagando uno).\n",
    "\n",
    "Al final deberemos guardar también el modelo predicho (de preferencia como un objeto pickle)."
   ]
  },
  {
   "cell_type": "code",
   "execution_count": null,
   "metadata": {
    "colab": {
     "base_uri": "https://localhost:8080/"
    },
    "executionInfo": {
     "elapsed": 255,
     "status": "ok",
     "timestamp": 1671502444367,
     "user": {
      "displayName": "Hugo Porras",
      "userId": "03803614839807938847"
     },
     "user_tz": 300
    },
    "id": "3XEJuxonKq2z",
    "outputId": "8334877f-6598-4723-93a8-c591fc256b3b"
   },
   "outputs": [
    {
     "data": {
      "text/plain": [
       "Points  amin     300.0\n",
       "        amax    1000.0\n",
       "dtype: float64"
      ]
     },
     "execution_count": 81,
     "metadata": {},
     "output_type": "execute_result"
    }
   ],
   "source": [
    "# Confirmación de puntajes mínimo y máximo\n",
    "scorecard.table(style=\"summary\").groupby(\"Variable\").agg({'Points' : [np.min, np.max]}).sum()"
   ]
  },
  {
   "cell_type": "code",
   "execution_count": null,
   "metadata": {
    "id": "-LcBtzvIKTHo"
   },
   "outputs": [],
   "source": [
    "# Scorecard resumido\n",
    "scorecard.table(style=\"summary\").to_excel('drive/MyDrive/CreditRiskPython/Resultados/ScorecardSummary.xlsx')"
   ]
  },
  {
   "cell_type": "code",
   "execution_count": null,
   "metadata": {
    "id": "pjd-JRDtJ_et"
   },
   "outputs": [],
   "source": [
    "# Scorecard detallado\n",
    "scorecard.table(style=\"detailed\").to_excel('drive/MyDrive/CreditRiskPython/Resultados/ScorecardDetailed.xlsx')"
   ]
  },
  {
   "cell_type": "code",
   "execution_count": null,
   "metadata": {
    "id": "HE1kEie3QKhf"
   },
   "outputs": [],
   "source": [
    "# Guardado del scorecard\n",
    "scorecard.save('drive/MyDrive/CreditRiskPython/Resultados/Scorecard.pickle')"
   ]
  },
  {
   "cell_type": "markdown",
   "metadata": {
    "id": "EpRgJmUj02Mz"
   },
   "source": [
    "# **Referencias**\n",
    "\n",
    "1. OptBinning. (2022). Guillermo Navas-Palencia. \n",
    "2. http://gnpalencia.org/optbinning/index.html\n",
    "3. DataPrep. (2022). SFU Database System Lab MIT. https://dataprep.ai/\n",
    "4. Scikit-Learn. (2011). Pedregosa et al. https://scikit-learn.org/stable/"
   ]
  }
 ],
 "metadata": {
  "colab": {
   "authorship_tag": "ABX9TyMoH3Ugtl26b+2k1/6ipJUD",
   "provenance": []
  },
  "kernelspec": {
   "display_name": "Python 3 (ipykernel)",
   "language": "python",
   "name": "python3"
  },
  "language_info": {
   "codemirror_mode": {
    "name": "ipython",
    "version": 3
   },
   "file_extension": ".py",
   "mimetype": "text/x-python",
   "name": "python",
   "nbconvert_exporter": "python",
   "pygments_lexer": "ipython3",
   "version": "3.10.9"
  }
 },
 "nbformat": 4,
 "nbformat_minor": 1
}
